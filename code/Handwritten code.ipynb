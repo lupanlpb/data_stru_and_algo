{
 "cells": [
  {
   "cell_type": "markdown",
   "metadata": {},
   "source": [
    "# 冒泡排序"
   ]
  },
  {
   "cell_type": "code",
   "execution_count": 3,
   "metadata": {},
   "outputs": [
    {
     "name": "stdout",
     "output_type": "stream",
     "text": [
      "[-2, 0, 1, 2, 3, 4, 5, 6, 6, 7, 8, 9, 10]\n"
     ]
    }
   ],
   "source": [
    "def bubbleSort(arr):\n",
    "    n = len(arr)\n",
    "    for i in range(n-1):\n",
    "        for j in range(n - 1 - i):\n",
    "            if arr[j] > arr[j+1]:\n",
    "                arr[j], arr[j+1] = arr[j+1], arr[j]\n",
    "\n",
    "arr = [6, 3, 4, 0, 9, 2, 7, 5, -2, 8, 1, 6, 10]\n",
    "bubbleSort(arr)\n",
    "print(arr)"
   ]
  },
  {
   "cell_type": "markdown",
   "metadata": {},
   "source": [
    "# 短路冒泡排序"
   ]
  },
  {
   "cell_type": "code",
   "execution_count": 40,
   "metadata": {},
   "outputs": [
    {
     "name": "stdout",
     "output_type": "stream",
     "text": [
      "[-2, 0, 1, 2, 3, 4, 5, 6, 6, 7, 8, 9, 10]\n"
     ]
    }
   ],
   "source": [
    "def shortBubbleSort(arr):\n",
    "    n = len(arr) - 1\n",
    "    swap = True\n",
    "    while n > 0 and swap:\n",
    "        swap = False\n",
    "        for j in range(n):\n",
    "            if arr[j] > arr[j+1]:\n",
    "                swap = True\n",
    "                arr[j], arr[j+1] = arr[j+1], arr[j]\n",
    "        n -= 1\n",
    "        \n",
    "arr = [6, 3, 4, 0, 9, 2, 7, 5, -2, 8, 1, 6, 10]\n",
    "shortBubbleSort(arr)\n",
    "print(arr)"
   ]
  },
  {
   "cell_type": "markdown",
   "metadata": {},
   "source": [
    "# 选择排序"
   ]
  },
  {
   "cell_type": "code",
   "execution_count": 41,
   "metadata": {},
   "outputs": [
    {
     "name": "stdout",
     "output_type": "stream",
     "text": [
      "[-2, 0, 1, 2, 3, 4, 5, 6, 6, 7, 8, 9, 10]\n"
     ]
    }
   ],
   "source": [
    "def selectSort(arr):\n",
    "    n = len(arr)\n",
    "    for i in range(n-1):\n",
    "        pos = i\n",
    "        for j in range(i+1, n):\n",
    "            if arr[pos] > arr[j]:\n",
    "                pos = j\n",
    "        arr[pos], arr[i] = arr[i], arr[pos]\n",
    "            \n",
    "arr = [6, 3, 4, 0, 9, 2, 7, 5, -2, 8, 1, 6, 10]\n",
    "selectSort(arr)\n",
    "print(arr)"
   ]
  },
  {
   "cell_type": "markdown",
   "metadata": {},
   "source": [
    "# 插入排序"
   ]
  },
  {
   "cell_type": "code",
   "execution_count": 51,
   "metadata": {},
   "outputs": [
    {
     "name": "stdout",
     "output_type": "stream",
     "text": [
      "[-2, 0, 1, 2, 3, 4, 5, 6, 6, 7, 8, 9, 10]\n"
     ]
    }
   ],
   "source": [
    "def insertSort(arr):\n",
    "    n = len(arr)\n",
    "    for i in range(n):\n",
    "        pos = i\n",
    "        curr_value = arr[i]\n",
    "        while pos > 0 and curr_value < arr[pos-1]:\n",
    "            arr[pos] = arr[pos-1]\n",
    "            pos -= 1\n",
    "        arr[pos] = curr_value\n",
    "\n",
    "arr = [6, 3, 4, 0, 9, 2, 7, 5, -2, 8, 1, 6, 10]\n",
    "insertSort(arr)\n",
    "print(arr)"
   ]
  },
  {
   "cell_type": "markdown",
   "metadata": {},
   "source": [
    "# 快速排序"
   ]
  },
  {
   "cell_type": "code",
   "execution_count": 22,
   "metadata": {},
   "outputs": [
    {
     "name": "stdout",
     "output_type": "stream",
     "text": [
      "[-2, 0, 1, 2, 3, 4, 5, 6, 6, 7, 8, 9, 10]\n"
     ]
    }
   ],
   "source": [
    "def quickSort(arr, left, right):\n",
    "    if left < right:\n",
    "        mid = partition(arr, left, right)\n",
    "        quickSort(arr, left, mid-1)\n",
    "        quickSort(arr, mid+1, right)\n",
    "    \n",
    "def partition(arr, pl, pr):\n",
    "    pivot = arr[pl]\n",
    "    while pl < pr:\n",
    "        while pl < pr and pivot <= arr[pr]:\n",
    "            pr -= 1\n",
    "        if pl == pr:\n",
    "            break\n",
    "        else:\n",
    "            arr[pl], arr[pr] = arr[pr], arr[pl]\n",
    "        \n",
    "        while pl < pr and pivot >= arr[pl]:\n",
    "            pl += 1\n",
    "        if pl == pr:\n",
    "            break\n",
    "        else:\n",
    "            arr[pl], arr[pr] = arr[pr], arr[pl]\n",
    "    return pl\n",
    "            \n",
    "arr = [6, 3, 4, 0, 9, 2, 7, 5, -2, 8, 1, 6, 10]\n",
    "quickSort(arr, 0, len(arr) - 1)\n",
    "print(arr)"
   ]
  },
  {
   "cell_type": "markdown",
   "metadata": {},
   "source": [
    "## 利用快速排序寻找第 K 大元素"
   ]
  },
  {
   "cell_type": "markdown",
   "metadata": {},
   "source": [
    "利用快速排序思想在 $O(n)$ 时间内查找第 K 大元素<font color=#dd00dd>(不包括重复元素)</font>：\n",
    "\n",
    "从数组 arr 中随机找出一个元素 pivot，把数组分为三部分： arr[0:p] + arr[p] + arr[p+1:n]:\n",
    "1. 如果 K = p + 1，那么第 K 大元素就是 arr[p]\n",
    "2. 如果 K > p + 1，说明第 K 大元素在 arr[p+1:n] 范围内，我们就按照上面的思路进行递归查找\n",
    "3. 反之，在 arr[0:p] 范围内递归查找"
   ]
  },
  {
   "cell_type": "code",
   "execution_count": 43,
   "metadata": {},
   "outputs": [
    {
     "name": "stdout",
     "output_type": "stream",
     "text": [
      "-2\n",
      "[-2, 0, 1, 4, 3, 2, 5, 6, 7, 8, 9, 6, 10]\n"
     ]
    }
   ],
   "source": [
    "def findKth(arr, k):\n",
    "    left = 0\n",
    "    right = len(arr) - 1\n",
    "    index = partition(arr, left, right)\n",
    "    while index + 1 != k:\n",
    "        if index + 1 >= len(arr): return\n",
    "        if index + 1 > k:\n",
    "            index = partition(arr, left, index - 1)\n",
    "        else:\n",
    "            index = partition(arr, index + 1, right)\n",
    "    return arr[index]\n",
    "\n",
    "def partition(arr, pl, pr):\n",
    "    pivot = arr[pl]\n",
    "    while pl < pr:\n",
    "        while pl < pr and arr[pr] >= pivot:\n",
    "            pr -= 1\n",
    "        if pl == pr:\n",
    "            break\n",
    "        else:\n",
    "            arr[pl], arr[pr] = arr[pr], arr[pl]\n",
    "        \n",
    "        while pl < pr and arr[pl] <= pivot:\n",
    "            pl += 1\n",
    "        if pl == pr:\n",
    "            break\n",
    "        else:\n",
    "            arr[pl], arr[pr] = arr[pr], arr[pl]\n",
    "            \n",
    "    return pl\n",
    "\n",
    "arr = [6, 3, 4, 0, 9, 2, 7, 5, -2, 8, 1, 6, 10]\n",
    "k = 1\n",
    "print(findKth(arr, k))\n",
    "print(arr)"
   ]
  },
  {
   "cell_type": "markdown",
   "metadata": {},
   "source": [
    "## 奇数偶数排序"
   ]
  },
  {
   "cell_type": "code",
   "execution_count": 47,
   "metadata": {},
   "outputs": [],
   "source": [
    "# 方法一：插入排序思想，如果是奇数往前移直到遇到奇数，时间复杂度O(n^2)\n",
    "class Solution:\n",
    "    def reOrderArray(self, array):\n",
    "        # write code here\n",
    "        for i in range(1, len(array)):\n",
    "            if array[i] & 1 == 1:\n",
    "                pos = i\n",
    "                curr = array[i]\n",
    "                while 0 < pos and array[pos-1] & 1 == 0:\n",
    "                    array[pos] = array[pos-1]\n",
    "                    pos -= 1\n",
    "                array[pos] = curr\n",
    "        return array\n",
    "\n",
    "# 方法二：\n",
    "\"\"\"\"\n",
    "借鉴快速排序的思想，时间复杂度O(n)，空间复杂度O(1)\n",
    "\"\"\"\n",
    "class Solution:\n",
    "    def reOrderArray(self, a):\n",
    "        i, j = 0, len(a) - 1\n",
    "        while True:\n",
    "            while i < len(a) and a[i] & 1 == 0: i += 1\n",
    "            while j >= 0 and a[j] & 1 == 1: j -= 1\n",
    "            if i >= j: break\n",
    "            a[i], a[j] = a[j], a[i]\n",
    "        print(' '.join(map(str, a)))\n",
    "        "
   ]
  },
  {
   "cell_type": "markdown",
   "metadata": {},
   "source": [
    "# 数组中出现次数超过一半的数字"
   ]
  },
  {
   "cell_type": "code",
   "execution_count": null,
   "metadata": {},
   "outputs": [],
   "source": []
  },
  {
   "cell_type": "markdown",
   "metadata": {},
   "source": [
    "# 归并排序"
   ]
  },
  {
   "cell_type": "code",
   "execution_count": 45,
   "metadata": {},
   "outputs": [
    {
     "name": "stdout",
     "output_type": "stream",
     "text": [
      "[-2, 0, 1, 2, 3, 4, 5, 6, 6, 7, 8, 9, 10]\n"
     ]
    }
   ],
   "source": [
    "def mergeSort(arr, start, end):\n",
    "    if start < end:\n",
    "        mid = (start + end) // 2\n",
    "        mergeSort(arr, start, mid)\n",
    "        mergeSort(arr, mid+1, end)\n",
    "        merge(arr, start, mid, end)\n",
    "        \n",
    "def merge(arr, start, mid, end):\n",
    "    n1 = mid - start + 1\n",
    "    n2 = end - mid\n",
    "    left = []\n",
    "    right = []\n",
    "    for i in range(n1):\n",
    "        left.append(arr[start+i])\n",
    "    for j in range(n2):\n",
    "        right.append(arr[mid+1+j])\n",
    "    \n",
    "    i, j, k = 0, 0, start\n",
    "    while i < n1 and j < n2:\n",
    "        if left[i] <= right[j]:\n",
    "            arr[k] = left[i]\n",
    "            i += 1\n",
    "        else:\n",
    "            arr[k] = right[j]\n",
    "            j += 1\n",
    "        k += 1\n",
    "    while i < n1:\n",
    "        arr[k] = left[i]\n",
    "        i += 1\n",
    "        k += 1\n",
    "    while j < n2:\n",
    "        arr[k] = right[j]\n",
    "        j += 1\n",
    "        k += 1\n",
    "        \n",
    "arr = [6, 3, 4, 0, 9, 2, 7, 5, -2, 8, 1, 6, 10]\n",
    "mergeSort(arr, 0, len(arr) - 1)\n",
    "print(arr)"
   ]
  },
  {
   "cell_type": "markdown",
   "metadata": {},
   "source": [
    "## 利用归并排序求逆序对个数"
   ]
  },
  {
   "cell_type": "code",
   "execution_count": 52,
   "metadata": {},
   "outputs": [
    {
     "name": "stdout",
     "output_type": "stream",
     "text": [
      "4\n"
     ]
    }
   ],
   "source": [
    "# 归并排序思想，在合并的时候统计逆序数\n",
    "class Solution:\n",
    "    def InversePairs(self, data):\n",
    "        # write code here\n",
    "        if not data:\n",
    "            return 0\n",
    "        temp = [i for i in data]\n",
    "        return self.mergeSort(temp, data, 0, len(data)-1) % 1000000007\n",
    "       \n",
    "    def mergeSort(self, temp, data, low, high):\n",
    "        if low >= high:\n",
    "            temp[low] = data[low]\n",
    "            return 0\n",
    "        mid = (low + high) // 2\n",
    "        left = self.mergeSort(data, temp, low, mid)\n",
    "        right = self.mergeSort(data, temp, mid+1, high)\n",
    "           \n",
    "        count = 0\n",
    "        i = low\n",
    "        j = mid+1\n",
    "        k = low\n",
    "        while i <= mid and j <= high:\n",
    "            if data[i] <= data[j]:\n",
    "                temp[k] = data[i]\n",
    "                i += 1\n",
    "            else:\n",
    "                temp[k] = data[j]\n",
    "                count += mid-i+1\n",
    "                j += 1\n",
    "            k += 1\n",
    "        while i <= mid:\n",
    "            temp[k] = data[i]\n",
    "            i += 1\n",
    "            k += 1\n",
    "        while j <= high:\n",
    "            temp[k] = data[j]\n",
    "            j += 1\n",
    "            k += 1\n",
    "        return count + left + right\n",
    "    \n",
    "solution = Solution()\n",
    "print(solution.InversePairs([5, 3, 7, 2]))"
   ]
  },
  {
   "cell_type": "markdown",
   "metadata": {},
   "source": [
    "# 堆排序"
   ]
  },
  {
   "cell_type": "markdown",
   "metadata": {},
   "source": [
    "**大顶堆**"
   ]
  },
  {
   "cell_type": "code",
   "execution_count": 64,
   "metadata": {},
   "outputs": [
    {
     "name": "stdout",
     "output_type": "stream",
     "text": [
      "[-2, 0, 1, 2, 3, 4, 5, 6, 6, 7, 8, 9, 10]\n"
     ]
    }
   ],
   "source": [
    "def heapSort(arr):\n",
    "    buildHeap(arr)\n",
    "    k = len(arr) - 1\n",
    "    while k > 0:\n",
    "        arr[0], arr[k] = arr[k], arr[0]\n",
    "        k -= 1\n",
    "        heapify(arr, k)\n",
    "\n",
    "def buildHeap(arr):\n",
    "    k = len(arr) // 2\n",
    "    for i in range(k, -1, -1):\n",
    "        heapify(arr, len(arr) - 1, i)\n",
    "\n",
    "def heapify(arr, lens, index = 0): # 下标从 0 开始\n",
    "    i = larger_index = index\n",
    "    while True:\n",
    "        left, right = i * 2 + 1, i * 2 + 2\n",
    "        if left <= lens and arr[i] < arr[left]:\n",
    "            larger_index = left\n",
    "        if right <= lens and arr[larger_index] < arr[right]:\n",
    "            larger_index = right\n",
    "        if larger_index == i:\n",
    "            break\n",
    "        arr[i], arr[larger_index] = arr[larger_index], arr[i]\n",
    "        i = larger_index\n",
    "    \n",
    "arr = [6, 3, 4, 0, 9, 2, 7, 5, -2, 8, 1, 6, 10]\n",
    "heapSort(arr)\n",
    "print(arr)"
   ]
  },
  {
   "cell_type": "markdown",
   "metadata": {},
   "source": [
    "# 二分法"
   ]
  },
  {
   "cell_type": "markdown",
   "metadata": {},
   "source": [
    "## 简单二分查找"
   ]
  },
  {
   "cell_type": "code",
   "execution_count": 66,
   "metadata": {},
   "outputs": [
    {
     "name": "stdout",
     "output_type": "stream",
     "text": [
      "True\n"
     ]
    }
   ],
   "source": [
    "def binarySearch1(alist, item):\n",
    "    head  = 0\n",
    "    tail = len(alist) - 1\n",
    "    found = False\n",
    "    while head <= tail and not found:\n",
    "        mid = (head + tail)//2\n",
    "        if alist[mid] == item:\n",
    "            found = True\n",
    "        elif alist[mid] < item:\n",
    "            head = mid + 1\n",
    "        else:\n",
    "            tail = mid - 1\n",
    "    return found          \n",
    "\n",
    "testlist = [0, 1, 2, 8, 13, 17, 19, 32, 42,]\n",
    "print(binarySearch1(testlist, 17))"
   ]
  },
  {
   "cell_type": "markdown",
   "metadata": {},
   "source": [
    "## 二分查找变形"
   ]
  },
  {
   "cell_type": "markdown",
   "metadata": {},
   "source": [
    "### 查找第一个值等于给定值的元素"
   ]
  },
  {
   "cell_type": "code",
   "execution_count": 72,
   "metadata": {},
   "outputs": [],
   "source": [
    "def binarySearch_first2(data, k):\n",
    "    low = 0\n",
    "    high = len(data) - 1\n",
    "    while low <= high:\n",
    "        mid = (low + high) // 2\n",
    "        if data[mid] < k:\n",
    "            low = mid + 1\n",
    "        elif data[mid] > k:\n",
    "            high = mid - 1\n",
    "        else:\n",
    "            if mid == 0 or data[mid - 1] != k: #当到list[0]或不为k的时候跳出函数\n",
    "                return mid\n",
    "            else:\n",
    "                high = mid - 1\n",
    "    return 0"
   ]
  },
  {
   "cell_type": "markdown",
   "metadata": {},
   "source": [
    "### 查找最后一个值等于给定值的元素"
   ]
  },
  {
   "cell_type": "code",
   "execution_count": 24,
   "metadata": {},
   "outputs": [],
   "source": [
    "def binarySearch_last2(data, k):\n",
    "    low = 0\n",
    "    high = len(data) - 1\n",
    "    while low <= high:\n",
    "        mid = (low + high) // 2\n",
    "        if data[mid] > k:\n",
    "            high = mid - 1\n",
    "        elif data[mid] < k:\n",
    "            low = mid + 1\n",
    "        else:\n",
    "            if mid == len(data)-1 or data[mid + 1] != k:\n",
    "                return mid\n",
    "            else:\n",
    "                low = mid + 1\n",
    "    return 0\n"
   ]
  },
  {
   "cell_type": "markdown",
   "metadata": {},
   "source": [
    "### 查找第一个大于等于给定值的元素"
   ]
  },
  {
   "cell_type": "code",
   "execution_count": 50,
   "metadata": {},
   "outputs": [],
   "source": [
    "def binarySearch_extension3(arr, obj):\n",
    "    '''\n",
    "    二分法查找变形三:查找第一个大于等于给定值的元素\n",
    "    '''\n",
    "    \n",
    "    head = 0\n",
    "    tail = len(arr) - 1\n",
    "    while head <= tail:\n",
    "        mid = (head + tail)//2\n",
    "        if arr[mid] < obj:\n",
    "            head = mid + 1\n",
    "        else:\n",
    "            if mid == 0 or arr[mid-1] < obj:\n",
    "                return mid\n",
    "            else:\n",
    "                tail = mid - 1\n",
    "    return 'All the value of element involed in array are small than obj!'"
   ]
  },
  {
   "cell_type": "markdown",
   "metadata": {},
   "source": [
    "### 查找最后一个小于等于给定值的元素"
   ]
  },
  {
   "cell_type": "code",
   "execution_count": 51,
   "metadata": {},
   "outputs": [],
   "source": [
    "def binarySearch_extension4(arr, obj):\n",
    "    '''\n",
    "    二分法查找变形四:查找最后一个小于等于给定值的元素\n",
    "    '''\n",
    "    head = 0\n",
    "    tail = len(arr) - 1\n",
    "    while head <= tail:\n",
    "        mid = (head + tail)//2\n",
    "        if arr[mid] > obj:\n",
    "            tail = mid - 1\n",
    "        else:\n",
    "            if mid == len(arr) - 1 or arr[mid+1] > obj:\n",
    "                return mid\n",
    "            else:\n",
    "                head = mid + 1\n",
    "    return 'All the value of element involed in array are great than obj!'\n"
   ]
  },
  {
   "cell_type": "markdown",
   "metadata": {},
   "source": [
    "# 两个栈实现队列"
   ]
  },
  {
   "cell_type": "code",
   "execution_count": 90,
   "metadata": {},
   "outputs": [],
   "source": [
    "class Solution:\n",
    "    def __init__(self):\n",
    "        self.stack1 = []\n",
    "        self.stack2 = []\n",
    "    def push(self, node):\n",
    "        self.stack1.append(node)\n",
    "    def pop(self):\n",
    "        if len(self.stack2) == 0:\n",
    "            while self.stack1:\n",
    "                self.stack2.append(self.stack1.pop())\n",
    "        return self.stack2.pop()"
   ]
  },
  {
   "cell_type": "markdown",
   "metadata": {},
   "source": [
    "# 两个队列实现栈"
   ]
  },
  {
   "cell_type": "code",
   "execution_count": 88,
   "metadata": {},
   "outputs": [
    {
     "name": "stdout",
     "output_type": "stream",
     "text": [
      "3\n",
      "5\n",
      "4\n"
     ]
    }
   ],
   "source": [
    "class Solution():\n",
    "    def __init__(self):\n",
    "        self.queue1 = []\n",
    "        self.queue2 = []\n",
    "\n",
    "    def push(self, value):\n",
    "        self.queue1.append(value)\n",
    "\n",
    "    def pop(self):\n",
    "        if len(self.queue1) == 0:\n",
    "            return None\n",
    "\n",
    "        while len(self.queue1) != 1:\n",
    "            self.queue2.append(self.queue1.pop(0))\n",
    "        self.queue1, self.queue2 = self.queue2, self.queue1\n",
    "        return self.queue2.pop()\n",
    "\n",
    "solution = Solution()\n",
    "solution.push(1)\n",
    "solution.push(2)\n",
    "solution.push(3)\n",
    "print(solution.pop())\n",
    "solution.push(4)\n",
    "solution.push(5)\n",
    "print(solution.pop())\n",
    "print(solution.pop())"
   ]
  },
  {
   "cell_type": "markdown",
   "metadata": {},
   "source": [
    "# 三数之和"
   ]
  },
  {
   "cell_type": "code",
   "execution_count": 75,
   "metadata": {},
   "outputs": [],
   "source": [
    "class Solution:\n",
    "    def threeSum(self, nums):\n",
    "        nums.sort() # 先排序\n",
    "        result = []\n",
    "        for k in range(len(nums) - 2):\n",
    "            if nums[k] > 0: break\n",
    "            if k > 0 and nums[k] == nums[k-1]: continue\n",
    "            i, j = k + 1, len(nums) - 1\n",
    "            while i < j:\n",
    "                sums = nums[k] + nums[i] + nums[j]\n",
    "                if sums < 0:\n",
    "                    i += 1\n",
    "                    while i < j and nums[i] == nums[i-1]:\n",
    "                        i += 1\n",
    "                elif sums > 0:\n",
    "                    j -= 1\n",
    "                    while i < j and nums[j] == nums[j+1]:\n",
    "                        j -= 1\n",
    "                else:\n",
    "                    result.append([nums[k], nums[i], nums[j]])\n",
    "                    i += 1\n",
    "                    j -= 1\n",
    "                    while i < j and nums[i] == nums[i-1]:\n",
    "                        i += 1\n",
    "                    while i < j and nums[j] == nums[j+1]:\n",
    "                        j -= 1\n",
    "        return result"
   ]
  },
  {
   "cell_type": "markdown",
   "metadata": {},
   "source": [
    "# 只出现一次的数字"
   ]
  },
  {
   "cell_type": "markdown",
   "metadata": {},
   "source": [
    "给定一个非空整数数组，除了某个元素只出现一次以外，其余每个元素均出现两次。找出那个只出现了一次的元素。"
   ]
  },
  {
   "cell_type": "code",
   "execution_count": 77,
   "metadata": {},
   "outputs": [],
   "source": [
    "class Solution:\n",
    "    def singleNumber(self, nums):\n",
    "        curr = 0\n",
    "        for i in nums:\n",
    "            curr = curr ^ i\n",
    "        return curr"
   ]
  },
  {
   "cell_type": "markdown",
   "metadata": {},
   "source": [
    "# 只出现一次的数字2"
   ]
  },
  {
   "cell_type": "markdown",
   "metadata": {},
   "source": [
    "给定一个非空整数数组，除了某个元素只出现一次以外，其余每个元素均出现了三次。找出那个只出现了一次的元素。"
   ]
  },
  {
   "cell_type": "code",
   "execution_count": 79,
   "metadata": {},
   "outputs": [],
   "source": [
    "class Solution:\n",
    "    def singleNumber(self, nums):\n",
    "        res = 0\n",
    "        for i in range(32):\n",
    "            cnt = 0\n",
    "            #统计32位中的每一位出现1的次数\n",
    "            mask = 1 << i\n",
    "            for num in nums:\n",
    "                if num & mask:\n",
    "                    cnt += 1\n",
    "            #如果该位上出现1的次数不能被3整除，则一定是因为唯一的那个出现一次的数导致的\n",
    "            if cnt % 3 == 1:\n",
    "                #保留该位，与res求或运算\n",
    "                res |= mask\n",
    "        #以后出现位运算的时候，需要对结果进行判断一下最好。\n",
    "        # 如果不在这个范围内，说明了结果被认为是无符号的数了，需要减去2 ^ 32\n",
    "        if res >= 2 ** 31:\n",
    "            res -= 2 ** 32\n",
    "        return res"
   ]
  },
  {
   "cell_type": "markdown",
   "metadata": {},
   "source": [
    "# 只出现一次的数字3"
   ]
  },
  {
   "cell_type": "markdown",
   "metadata": {},
   "source": [
    "给定一个整数数组 nums，其中恰好有两个元素只出现一次，其余所有元素均出现两次。 找出只出现一次的那两个元素。"
   ]
  },
  {
   "cell_type": "code",
   "execution_count": 81,
   "metadata": {},
   "outputs": [],
   "source": [
    "class Solution:\n",
    "    def singleNumber(self, nums):\n",
    "        if len(nums) < 1:\n",
    "            return []\n",
    "        curr = 0\n",
    "        for val in nums:\n",
    "            curr = curr ^ val\n",
    "            \n",
    "        pos = self.getPos(curr)\n",
    "        \n",
    "        num1, num2 = 0, 0\n",
    "        for val in nums:\n",
    "            if (val >> pos) & 1 == 0:\n",
    "                num1 = num1 ^ val\n",
    "            else:\n",
    "                num2 = num2 ^ val\n",
    "        return num1, num2\n",
    "    \n",
    "    def getPos(self, num):\n",
    "        pos = 0\n",
    "        num = num & 0xffffffff\n",
    "        while num & 1 == 0:\n",
    "            pos = pos + 1\n",
    "            num = num >> 1\n",
    "        return pos"
   ]
  },
  {
   "cell_type": "markdown",
   "metadata": {},
   "source": [
    "# 字符串相加"
   ]
  },
  {
   "cell_type": "code",
   "execution_count": 21,
   "metadata": {},
   "outputs": [
    {
     "name": "stdout",
     "output_type": "stream",
     "text": [
      "579\n"
     ]
    }
   ],
   "source": [
    "class Solution:\n",
    "    def addStrings(self, num1: str, num2: str) -> str:\n",
    "        result = \"\"\n",
    "        i, j, carry = len(num1) - 1, len(num2) - 1, 0\n",
    "        while i >= 0 or j >= 0:\n",
    "            n1 = int(num1[i]) if i >= 0 else 0\n",
    "            n2 = int(num2[j]) if j >= 0 else 0\n",
    "            tmp = n1 + n2 + carry\n",
    "            carry = tmp // 10\n",
    "            result = str(tmp % 10) + result\n",
    "            i -= 1\n",
    "            j -= 1\n",
    "        return \"1\" + result if carry else result\n",
    "    \n",
    "num1 = \"123\"\n",
    "num2 = \"456\"\n",
    "solution = Solution()\n",
    "print(solution.addStrings(num1, num2))"
   ]
  },
  {
   "cell_type": "markdown",
   "metadata": {},
   "source": [
    "# 字符串相乘"
   ]
  },
  {
   "cell_type": "code",
   "execution_count": 82,
   "metadata": {},
   "outputs": [],
   "source": [
    "class Solution:\n",
    "    def multiply(self, num1: str, num2: str) -> str:\n",
    "        if num1[0] == '0' or num2[0] == '0': return '0'\n",
    "        nstr1 = list(map(int, num1))\n",
    "        nstr2 = list(map(int, num2))\n",
    "        result = [0] * (len(nstr1) + len(nstr2))\n",
    "        for i in range(len(nstr1) - 1, -1, -1):\n",
    "            for j in range(len(nstr2) - 1, -1, -1):\n",
    "                result[i+j] = result[i+j] + (nstr1[i] * nstr2[j] + result[i+j+1]) // 10\n",
    "                result[i+j+1] = (nstr1[i] * nstr2[j] + result[i+j+1]) % 10\n",
    "        result = ''.join(map(str, result))\n",
    "        return result if result[0] != '0' else result[1:]\n",
    "                "
   ]
  },
  {
   "cell_type": "markdown",
   "metadata": {},
   "source": [
    "# 滑动窗口的最大值"
   ]
  },
  {
   "cell_type": "code",
   "execution_count": 1,
   "metadata": {},
   "outputs": [],
   "source": [
    "# 滑动窗口就像是个双端队列\n",
    "class Solution:\n",
    "    def maxInWindows(self, num, size):\n",
    "        # write code here\n",
    "        result, queue, i = [], [], 0\n",
    "        while size > 0 and i < len(num):\n",
    "            if len(queue) > 0 and i > queue[0] + size - 1: # queue[0] 在窗口之外，过期了，删除\n",
    "                queue.pop(0)\n",
    "            while len(queue) > 0 and num[queue[-1]] < num[i]: # 当前队列元素比新进来的小，全部删除\n",
    "                queue.pop()\n",
    "            queue.append(i) # 将当前值加入队列\n",
    "            if i >= size - 1:\n",
    "                result.append(num[queue[0]]) # 队首即最大值\n",
    "            i += 1\n",
    "        return result\n",
    "    \n",
    "# 方法二：动态规划\n"
   ]
  },
  {
   "cell_type": "markdown",
   "metadata": {},
   "source": [
    "# 缺失的最小正整数"
   ]
  },
  {
   "cell_type": "code",
   "execution_count": 96,
   "metadata": {},
   "outputs": [
    {
     "name": "stdout",
     "output_type": "stream",
     "text": [
      "[4, 1, 5, 7, 2]\n",
      "[7, 1, 5, 4, 2]\n",
      "[1, 7, 5, 4, 2]\n",
      "[1, 7, 2, 4, 5]\n",
      "3\n"
     ]
    }
   ],
   "source": [
    "def firstMissing(num):\n",
    "    size = len(num)\n",
    "    for i in range(len(num)):\n",
    "        while 1 <= num[i] and num[i] <= size and num[i] != num[num[i] - 1]:\n",
    "            print(num)\n",
    "            num[num[i] - 1], num[i] = num[i], num[num[i] - 1]\n",
    "            \n",
    "    for i in range(len(num)):\n",
    "        if i + 1 != num[i]:\n",
    "            return i + 1\n",
    "    return size + 1\n",
    "\n",
    "num = [4, 1, 5, 7, 2]\n",
    "print(firstMissing(num))"
   ]
  },
  {
   "cell_type": "markdown",
   "metadata": {},
   "source": [
    "# 数组中重复的数字"
   ]
  },
  {
   "cell_type": "code",
   "execution_count": 98,
   "metadata": {},
   "outputs": [],
   "source": [
    "# -*- coding:utf-8 -*-\n",
    "class Solution:\n",
    "    # 这里要特别注意~找到任意重复的一个值并赋值到duplication[0]\n",
    "    # 函数返回True/False\n",
    "    def duplicate(self, numbers, duplication):\n",
    "        # write code here\n",
    "        n = len(numbers)\n",
    "        if n == 0:\n",
    "            return False\n",
    "        for i in numbers:\n",
    "            if i < 0 or i > n - 1:\n",
    "                return False\n",
    "        for i in range(n):\n",
    "            while numbers[i] != i:\n",
    "                if numbers[i] == numbers[numbers[i]]:\n",
    "                    duplication[0] = numbers[i]\n",
    "                    return True\n",
    "                numbers[numbers[i]], numbers[i] = numbers[i], numbers[numbers[i]]\n",
    "        return False"
   ]
  },
  {
   "cell_type": "markdown",
   "metadata": {},
   "source": [
    "# 整数中 1 出现的次数"
   ]
  },
  {
   "cell_type": "code",
   "execution_count": 97,
   "metadata": {},
   "outputs": [],
   "source": [
    "class Solution:\n",
    "    def NumberOf1Between1AndN_Solution(self, n):\n",
    "        # write code here\n",
    "        if n == 0: return 0\n",
    "        count = 0\n",
    "        base = 1\n",
    "        round = n\n",
    "        while 0 < round:\n",
    "            weight = round % 10\n",
    "            round = round // 10\n",
    "            count += round * base\n",
    "            if weight == 1:\n",
    "                count += (n % base) + 1\n",
    "            elif weight > 1:\n",
    "                count += base\n",
    "            base *= 10\n",
    "        return count"
   ]
  },
  {
   "cell_type": "markdown",
   "metadata": {},
   "source": [
    "# 无重复字符的最长子串"
   ]
  },
  {
   "cell_type": "code",
   "execution_count": 108,
   "metadata": {},
   "outputs": [],
   "source": [
    "# 方法一：\n",
    "class Solution:\n",
    "    def lengthOfLongestSubstring(self, s: str) -> int:\n",
    "        lens = len(s)\n",
    "        ans, i, j = 0, 0, 0\n",
    "        curr = []\n",
    "        while i < lens and j < lens:\n",
    "            if not s[j] in curr:\n",
    "                curr.append(s[j])\n",
    "                j += 1\n",
    "                ans = max(ans, j - i)\n",
    "            else:\n",
    "                curr.remove(s[i])\n",
    "                i += 1\n",
    "        return ans\n",
    "    \n",
    "# 方法二：\n",
    "class Solution:\n",
    "    def lengthOfLongestSubstring(self, s: str) -> int:\n",
    "        size = len(s)\n",
    "        pl, pr, result = 0, 0, 0\n",
    "        window = {}\n",
    "        while pr < size:\n",
    "            c1 = s[pr]\n",
    "            window[c1] = window[c1] + 1 if c1 in window else 1\n",
    "            pr += 1\n",
    "            \n",
    "            while window[c1] > 1:\n",
    "                c2 = s[pl]\n",
    "                window[c2] -= 1\n",
    "                pl += 1\n",
    "            result = max(result, pr - pl)\n",
    "        return result"
   ]
  },
  {
   "cell_type": "markdown",
   "metadata": {},
   "source": [
    "# 最长回文子串"
   ]
  },
  {
   "cell_type": "code",
   "execution_count": 109,
   "metadata": {},
   "outputs": [],
   "source": [
    "# 方法一：\n",
    "def maxPalindrome(s):\n",
    "    n = len(s)\n",
    "    if n < 2: return s\n",
    "    dp = [[False] * n for  i in range(n)]\n",
    "    maxlens = 0\n",
    "    result = \"\"\n",
    "    for lens in range(n):\n",
    "        for i in range(n-lens):\n",
    "            j = i + lens\n",
    "            if lens < 2:\n",
    "                dp[i][j] = s[i] == s[j]\n",
    "            else:\n",
    "                dp[i][j] = dp[i+1][j-1] and s[i] == s[j]\n",
    "            if dp[i][j] and maxlens < lens + 1:\n",
    "                maxlens = lens + 1\n",
    "                result = s[i:j+1]\n",
    "    return maxlens, result\n",
    "\n",
    "# 方法二：\n",
    "class Solution:\n",
    "    def longestPalindrome(self, s: str) -> str:\n",
    "        size = len(s)\n",
    "        if size == 0:\n",
    "            return ''\n",
    "        \n",
    "        # 至少有一个\n",
    "        maxlens = 1\n",
    "        max_palindrome = s[0]\n",
    "        for i in range(size):\n",
    "            palindrome_odd, odd_lens = self.center_spread(s, size, i, i)\n",
    "            palindrome_even, even_lens = self.center_spread(s, size, i, i+1)\n",
    "            curr_max_palindrome = palindrome_odd if odd_lens > even_lens else palindrome_even\n",
    "            if len(curr_max_palindrome) > maxlens:\n",
    "                maxlens = len(curr_max_palindrome)\n",
    "                max_palindrome = curr_max_palindrome\n",
    "        return max_palindrome\n",
    "    \n",
    "    def center_spread(self, s, size, left, right):\n",
    "        '''\n",
    "        当 left = right 时，回文串是奇数\n",
    "        当 right = left + 1 时，回文串是偶数\n",
    "        '''\n",
    "        while left >= 0 and right < size and s[left] == s[right]:\n",
    "            left -= 1\n",
    "            right += 1\n",
    "        return s[left+1:right], right - left - 1"
   ]
  },
  {
   "cell_type": "markdown",
   "metadata": {},
   "source": [
    "# 最大子序列和"
   ]
  },
  {
   "cell_type": "markdown",
   "metadata": {},
   "source": [
    "给定一个整数数组 nums ，找到一个具有最大和的连续子数组（子数组最少包含一个元素），返回其最大和。\n",
    "\n",
    "示例:\n",
    "\n",
    "输入: [-2,1,-3,4,-1,2,1,-5,4]\n",
    "    \n",
    "输出: 6\n",
    "    \n",
    "解释: 连续子数组 [4,-1,2,1] 的和最大，为 6。"
   ]
  },
  {
   "cell_type": "code",
   "execution_count": 27,
   "metadata": {},
   "outputs": [],
   "source": [
    "from typing import List\n",
    "class Solution:\n",
    "    def maxSubArray(self, nums: List[int]) -> int:\n",
    "        size = len(nums)\n",
    "        dp = [0] * size # dp 存储的是当前 [0...i] 的子序列最大和\n",
    "        dp[0] = nums[0]\n",
    "        for i in range(1, size):\n",
    "            dp[i] = max(dp[i-1] + nums[i], nums[i])\n",
    "        \n",
    "        maxsum = float(\"-inf\")\n",
    "        for i in range(size):\n",
    "            if dp[i] > maxsum:\n",
    "                maxsum = dp[i]\n",
    "        return maxsum"
   ]
  },
  {
   "cell_type": "markdown",
   "metadata": {},
   "source": [
    "# 最小覆盖子串"
   ]
  },
  {
   "cell_type": "code",
   "execution_count": 106,
   "metadata": {},
   "outputs": [],
   "source": [
    "class Solution:\n",
    "    def minWindow(self, s: str, t: str) -> str:\n",
    "        result = s\n",
    "        pl, pr, match = 0, 0, 0\n",
    "        start, minlen = 0, float(\"inf\")\n",
    "        size = len(s)\n",
    "        window = {} # 初始化 window 字典，存储滑动窗口中目标字符出现次数\n",
    "        need = {} # 初始化 need 字典，存储目标字符的出现次数\n",
    "        for i in range(len(t)):\n",
    "            need[t[i]] = need[t[i]] + 1 if t[i] in need else 1\n",
    "        while pr < size: # 先移动右指针直到滑动窗口包括目标字符串\n",
    "            c1 = s[pr]\n",
    "            if c1 in need: # 如歌当前字符在 t 中，就记录其出现次数\n",
    "                window[c1] = window[c1] + 1 if c1 in window else 1\n",
    "                if window[c1] == need[c1]: # 一旦出现次数满足要求，match 就增 1\n",
    "                    match += 1\n",
    "            pr += 1\n",
    "            # 当滑动窗口包括目标字符串的所有字符时，更新 minlen，并移动 pl，停止移动 pr，直到滑动窗口不能全部包括目标字符串的字符\n",
    "            while match == len(need):\n",
    "                if pr - pl < minlen:\n",
    "                    start = pl\n",
    "                    minlen = pr - pl\n",
    "                c2 = s[pl]\n",
    "                if c2 in need:\n",
    "                    window[c2] -= 1\n",
    "                    if window[c2] < need[c2]:\n",
    "                        match -= 1\n",
    "                pl += 1\n",
    "                \n",
    "        return \"\" if minlen == float(\"inf\") else s[start:start+minlen]"
   ]
  },
  {
   "cell_type": "markdown",
   "metadata": {},
   "source": [
    "# 找到字符串中所有字母异位词"
   ]
  },
  {
   "cell_type": "code",
   "execution_count": 8,
   "metadata": {},
   "outputs": [],
   "source": [
    "class Solution:\n",
    "    def findAnagrams(self, s: str, p: str) -> List[int]:\n",
    "        size = len(s)\n",
    "        pl, pr, match = 0, 0, 0\n",
    "        need = {}\n",
    "        window = {}\n",
    "        result = []\n",
    "        for i in range(len(p)):\n",
    "            need[p[i]] = need[p[i]] + 1 if p[i] in need else 1\n",
    "        while pr < size:\n",
    "            c1 = s[pr]\n",
    "            if c1 in need:\n",
    "                window[c1] = window[c1] + 1 if c1 in window else 1\n",
    "                if window[c1] == need[c1]:\n",
    "                    match += 1\n",
    "            pr += 1\n",
    "            \n",
    "            while match == len(need):\n",
    "                if pr - pl == len(p): # 是 len(p)，而不是 len(need)\n",
    "                    result.append(pl)\n",
    "                c2 = s[pl]\n",
    "                if c2 in need:\n",
    "                    window[c2] -= 1\n",
    "                    if window[c2] < need[c2]:\n",
    "                        match -= 1\n",
    "                pl += 1\n",
    "        return result"
   ]
  },
  {
   "cell_type": "markdown",
   "metadata": {},
   "source": [
    "# 最长公共前缀"
   ]
  },
  {
   "cell_type": "markdown",
   "metadata": {},
   "source": [
    "编写一个函数来查找字符串数组中的最长公共前缀。\n",
    "\n",
    "如果不存在公共前缀，返回空字符串 \"\"。\n",
    "\n",
    "示例 1:\n",
    "\n",
    "输入: [\"flower\",\"flow\",\"flight\"]\n",
    "\n",
    "输出: \"fl\"\n",
    "\n",
    "示例 2:\n",
    "\n",
    "输入: [\"dog\",\"racecar\",\"car\"]\n",
    "\n",
    "输出: \"\"\n",
    "\n",
    "解释: 输入不存在公共前缀。"
   ]
  },
  {
   "cell_type": "code",
   "execution_count": 110,
   "metadata": {},
   "outputs": [],
   "source": [
    "class Solution:\n",
    "    def longestCommonPrefix(self, strs: List[str]) -> str:\n",
    "        result = \"\"\n",
    "        for st in zip(*strs):\n",
    "            if len(set(st)) == 1:\n",
    "                result += st[0]\n",
    "            else:\n",
    "                break\n",
    "        return result"
   ]
  },
  {
   "cell_type": "markdown",
   "metadata": {},
   "source": [
    "# 每日温度"
   ]
  },
  {
   "cell_type": "markdown",
   "metadata": {},
   "source": [
    "根据每日 气温 列表，请重新生成一个列表，对应位置的输入是你需要再等待多久温度才会升高超过该日的天数。如果之后都不会升高，请在该位置用 0 来代替。\n",
    "\n",
    "例如，给定一个列表 temperatures = [73, 74, 75, 71, 69, 72, 76, 73]，你的输出应该是 [1, 1, 4, 2, 1, 1, 0, 0]。\n",
    "\n",
    "提示：气温 列表长度的范围是 [1, 30000]。每个气温的值的均为华氏度，都是在 [30, 100] 范围内的整数。\n"
   ]
  },
  {
   "cell_type": "code",
   "execution_count": 7,
   "metadata": {},
   "outputs": [],
   "source": [
    "from typing import List\n",
    "class Solution:\n",
    "    def dailyTemperatures(self, T: List[int]) -> List[int]:\n",
    "        size = len(T)\n",
    "        result = [-1] * size\n",
    "        stack = []\n",
    "        for i in range(size-1, -1, -1):\n",
    "            while stack and T[stack[-1]] <= T[i]:\n",
    "                stack.pop()\n",
    "            result[i] = 0 if not stack else stack[-1] - i\n",
    "            stack.append(i)\n",
    "        return result"
   ]
  },
  {
   "cell_type": "markdown",
   "metadata": {},
   "source": [
    "# 删除排序数组中的重复项"
   ]
  },
  {
   "cell_type": "code",
   "execution_count": 25,
   "metadata": {},
   "outputs": [],
   "source": [
    "class Solution:\n",
    "    def removeDuplicates(self, nums: List[int]) -> int:\n",
    "        i, size = 0, len(nums)\n",
    "        for j in range(1, size):\n",
    "            if nums[j] != nums[i]:\n",
    "                i += 1\n",
    "                nums[i] = nums[j]\n",
    "        return i + 1"
   ]
  },
  {
   "cell_type": "code",
   "execution_count": null,
   "metadata": {},
   "outputs": [],
   "source": []
  }
 ],
 "metadata": {
  "kernelspec": {
   "display_name": "Python 3",
   "language": "python",
   "name": "python3"
  },
  "language_info": {
   "codemirror_mode": {
    "name": "ipython",
    "version": 3
   },
   "file_extension": ".py",
   "mimetype": "text/x-python",
   "name": "python",
   "nbconvert_exporter": "python",
   "pygments_lexer": "ipython3",
   "version": "3.7.3"
  },
  "toc": {
   "base_numbering": 1,
   "nav_menu": {},
   "number_sections": true,
   "sideBar": true,
   "skip_h1_title": false,
   "title_cell": "Table of Contents",
   "title_sidebar": "Contents",
   "toc_cell": false,
   "toc_position": {},
   "toc_section_display": true,
   "toc_window_display": false
  }
 },
 "nbformat": 4,
 "nbformat_minor": 2
}
