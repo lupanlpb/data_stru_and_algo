{
 "cells": [
  {
   "cell_type": "markdown",
   "metadata": {},
   "source": [
    "# 两数之和(LeetCode 1)"
   ]
  },
  {
   "cell_type": "markdown",
   "metadata": {},
   "source": [
    "> 给定一个整数数组 nums 和一个目标值 target，请你在该数组中找出和为目标值的那 两个 整数，并返回他们的数组下标。你可以假设每种输入只会对应一个答案。但是，你不能重复利用这个数组中同样的元素。\n",
    "\n",
    "示例:\n",
    "\n",
    "给定 nums = [2, 7, 11, 15], target = 9\n",
    "\n",
    "因为 nums[0] + nums[1] = 2 + 7 = 9\n",
    "\n",
    "所以返回 [0, 1]\n",
    "\n",
    "**思路1：**\n",
    "\n",
    "暴力解法：两个嵌套循环，遍历每个元素 $x$，查找是否有元素与 $target - x$ 相同。\n",
    "\n",
    "- 复杂度分析：\n",
    "\n",
    "    - 时间复杂度：O(n^2)\n",
    "\n",
    "    - 空间复杂度：O(1)\n",
    "\n",
    "\n",
    "**思路2：**\n",
    "\n",
    "两遍哈希表\n",
    "\n",
    "- 复杂度分析：\n",
    "\n",
    "    - 时间复杂度：O(n)\n",
    "\n",
    "    - 空间复杂度：O(n)\n",
    "\n",
    "**思路3：**\n",
    "\n",
    "一遍哈希表\n",
    "\n",
    "- 复杂度分析：\n",
    "\n",
    "    - 时间复杂度：O(n)\n",
    "\n",
    "    - 空间复杂度：O(n)"
   ]
  },
  {
   "cell_type": "code",
   "execution_count": 3,
   "metadata": {},
   "outputs": [],
   "source": [
    "from typing import List\n",
    "\n",
    "# 方法一：暴力解法\n",
    "class Solution:\n",
    "    def twoSum(self, nums: List[int], target: int) -> List[int]:\n",
    "        lens = len(nums)\n",
    "        for i in range(lens):\n",
    "            for j in range(i+1, lens):\n",
    "                if nums[j] == target - nums[i]:\n",
    "                    return [i, j]\n",
    "                \n",
    "# 方法二：两遍哈希\n",
    "class Solution:\n",
    "    def twoSum(self, nums: List[int], target: int) -> List[int]:\n",
    "        hashmap = {}\n",
    "        for i, val in enumerate(nums):\n",
    "            hashmap[val] = i\n",
    "            \n",
    "        for i, val in enumerate(nums):\n",
    "            diff = target - val\n",
    "            if diff in hashmap and i != hashmap[diff]:\n",
    "                return [i, hashmap[diff]]\n",
    "\n",
    "# 方法三：一遍哈希\n",
    "class Solution:\n",
    "    def twoSum(self, nums: List[int], target: int) -> List[int]:\n",
    "        hashmap = {}\n",
    "        for i, val in enumerate(nums):\n",
    "            diff = target - val\n",
    "            if diff in hashmap:\n",
    "                return [i, hashmap[diff]]\n",
    "            hashmap[val] = i # 放在 if 判断之后，避免 target - val = val 的情况以及数组中存在相同值的情况"
   ]
  },
  {
   "cell_type": "markdown",
   "metadata": {},
   "source": [
    "# 两数相加(LeetCode 2)"
   ]
  },
  {
   "cell_type": "markdown",
   "metadata": {},
   "source": [
    "> 给出两个 非空 的链表用来表示两个非负的整数。其中，它们各自的位数是按照 逆序 的方式存储的，并且它们的每个节点只能存储 一位 数字。如果，我们将这两个数相加起来，则会返回一个新的链表来表示它们的和。您可以假设除了数字 0 之外，这两个数都不会以 0 开头。\n",
    "\n",
    "示例：\n",
    "\n",
    "输入：(2 -> 4 -> 3) + (5 -> 6 -> 4)\n",
    "\n",
    "输出：7 -> 0 -> 8\n",
    "\n",
    "原因：342 + 465 = 807\n",
    "\n",
    "**思路：**\n",
    "\n",
    "1. 建立一个哑结点\n",
    "2. 模拟数字相加"
   ]
  },
  {
   "cell_type": "code",
   "execution_count": 11,
   "metadata": {},
   "outputs": [],
   "source": [
    "from typing import NewType\n",
    "\n",
    "# Definition for singly-linked list.\n",
    "class ListNode:\n",
    "    def __init__(self, x):\n",
    "        self.val = x\n",
    "        self.next = None\n",
    "\n",
    "class Solution:\n",
    "    def addTwoNumbers(self, l1: ListNode, l2: ListNode) -> ListNode:\n",
    "        fakeHead = ListNode(None)\n",
    "        curr, p1, p2 = fakeHead, l1, l2\n",
    "        carry = 0\n",
    "        while p1 != None or p2 != None:\n",
    "            x = p1.val if p1 != None else 0\n",
    "            y = p2.val if p2 != None else 0\n",
    "            sums = x + y + carry\n",
    "            carry = sums // 10\n",
    "            curr.next = ListNode(sums % 10)\n",
    "            if p1: p1 = p1.next\n",
    "            if p2: p2 = p2.next\n",
    "            curr = curr.next\n",
    "        if carry == 1:\n",
    "            curr.next = ListNode(1)\n",
    "        return fakeHead.next"
   ]
  },
  {
   "cell_type": "markdown",
   "metadata": {},
   "source": [
    "# 无重复字符的最长子串(LeetCode 3)"
   ]
  },
  {
   "cell_type": "markdown",
   "metadata": {},
   "source": [
    "> 给定一个字符串，请你找出其中不含有重复字符的 最长子串 的长度。\n",
    "\n",
    "示例 1:\n",
    "\n",
    "输入: \"abcabcbb\"\n",
    "\n",
    "输出: 3 \n",
    "\n",
    "解释: 因为无重复字符的最长子串是 \"abc\"，所以其长度为 3。\n",
    "\n",
    "示例 2:\n",
    "\n",
    "输入: \"bbbbb\"\n",
    "\n",
    "输出: 1\n",
    "\n",
    "解释: 因为无重复字符的最长子串是 \"b\"，所以其长度为 1。\n",
    "\n",
    "示例 3:\n",
    "\n",
    "输入: \"pwwkew\"\n",
    "\n",
    "输出: 3\n",
    "\n",
    "解释: 因为无重复字符的最长子串是 \"wke\"，所以其长度为 3。\n",
    "     请注意，你的答案必须是 子串 的长度，\"pwke\" 是一个子序列，不是子串。\n",
    "\n",
    "\n",
    "**思路：**\n",
    "\n",
    "这道题主要用到思路是：滑动窗口\n",
    "\n",
    "什么是滑动窗口？\n",
    "\n",
    "其实就是一个队列,比如例题中的 abcabcbb，进入这个队列（窗口）为 abc 满足题目要求，当再进入 a，队列变成了 abca，这时候不满足要求。所以，我们要移动这个队列！\n",
    "\n",
    "如何移动？\n",
    "\n",
    "我们只要把队列的左边的元素移出就行了，直到满足题目要求！\n",
    "\n",
    "一直维持这样的队列，找出队列出现最长的长度时候，求出解！\n",
    "\n",
    "时间复杂度：O(n)"
   ]
  },
  {
   "cell_type": "code",
   "execution_count": 65,
   "metadata": {},
   "outputs": [],
   "source": [
    "class Solution:\n",
    "    def lengthOfLongestSubstring(self, s: str) -> int:\n",
    "        lens = len(s)\n",
    "        ans, i, j = 0, 0, 0\n",
    "        curr = []\n",
    "        while i < lens and j < lens:\n",
    "            if not s[j] in curr:\n",
    "                curr.append(s[j])\n",
    "                j += 1\n",
    "                ans = max(ans, j - i)\n",
    "            else:\n",
    "                curr.remove(s[i])\n",
    "                i += 1\n",
    "        return ans"
   ]
  },
  {
   "cell_type": "markdown",
   "metadata": {},
   "source": [
    "# 寻找两个有序数组的中位数(LeetCode 4)"
   ]
  },
  {
   "cell_type": "markdown",
   "metadata": {},
   "source": [
    "> 给定两个大小为 m 和 n 的有序数组 nums1 和 nums2。请你找出这两个有序数组的中位数，并且要求算法的时间复杂度为 O(log(m + n))。你可以假设 nums1 和 nums2 不会同时为空。\n",
    "\n",
    "示例 1:\n",
    "\n",
    "nums1 = [1, 3]\n",
    "\n",
    "nums2 = [2]\n",
    "\n",
    "则中位数是 2.0\n",
    "\n",
    "示例 2:\n",
    "\n",
    "nums1 = [1, 2]\n",
    "\n",
    "nums2 = [3, 4]\n",
    "\n",
    "则中位数是 (2 + 3)/2 = 2.5\n",
    "\n",
    "**思路1：**\n",
    "\n",
    "根据定义，合并、排序以后取中位数（时间复杂度不符合要求），这应该是最简单直接的做法，即根据定义来做。考虑如下两种情况：\n",
    "\n",
    "情况 1：如果合并以后的数组的长度是偶数，中位数有 2 个，此时取它们的平均值；\n",
    "\n",
    "情况 2：如果合并以后的数组的长度是奇数；中位数有 1 个，把这个值返回即可。\n",
    "\n",
    "<font color=\"#dd00dd\">说明：</font>这个解法虽然不符合题目要求，但是是常规思路。并且它的优点也很显著：<font color=\"#dd00dd\">即在输入数组不是有序数组的时候，这个算法依然有效</font>，因此如果这一题出现在面试中，向面试官提到这个最简单的思路，我觉得也是有必要的（一定要把它的这个优点连带说出来）。\n",
    "\n",
    "**思路2：**\n",
    "\n"
   ]
  },
  {
   "cell_type": "code",
   "execution_count": 1,
   "metadata": {},
   "outputs": [],
   "source": [
    "# 方法一\n",
    "from typing import List\n",
    "\n",
    "class Solution:\n",
    "    def findMedianSortedArrays(self, nums1: List[int], nums2: List[int]) -> float:\n",
    "        m = len(nums1)\n",
    "        n = len(nums2)\n",
    "        nums1.extend(nums2)\n",
    "\n",
    "        nums1.sort()\n",
    "\n",
    "        if (m + n) & 1: # 长度为奇数\n",
    "            return nums1[(m + n - 1) >> 1]\n",
    "        else:\n",
    "            return (nums1[(m + n - 1) >> 1] + nums1[(m + n) >> 1]) / 2\n",
    "\n",
    "# 方法二：\n"
   ]
  },
  {
   "cell_type": "markdown",
   "metadata": {},
   "source": [
    "# 最长回文子串(LeetCode 5)"
   ]
  },
  {
   "cell_type": "markdown",
   "metadata": {},
   "source": [
    "> 给定一个字符串 s，找到 s 中最长的回文子串。你可以假设 s 的最大长度为 1000。\n",
    "\n",
    "示例 1：\n",
    "\n",
    "输入: \"babad\"\n",
    "\n",
    "输出: \"bab\"\n",
    "\n",
    "注意: \"aba\" 也是一个有效答案。\n",
    "\n",
    "示例 2：\n",
    "\n",
    "输入: \"cbbd\"\n",
    "\n",
    "输出: \"bb\"\n",
    "\n",
    "\n",
    "**思路：**\n",
    "\n",
    "中心扩散法:\n",
    "\n",
    "中心扩散法的想法很简单：遍历每一个索引，以这个索引为中心，利用“回文串”中心对称的特点，往两边扩散，看最多能扩散多远。要注意一个细节：回文串的长度可能是奇数，也可能是偶数。\n",
    "\n",
    "我们完全可以设计一个方法，兼容以上两种情况：\n",
    "\n",
    "1、如果传入重合的索引编码，进行中心扩散，此时得到的最长回文子串的长度是奇数；\n",
    "\n",
    "2、如果传入相邻的索引编码，进行中心扩散，此时得到的最长回文子串的长度是偶数。\n"
   ]
  },
  {
   "cell_type": "code",
   "execution_count": 18,
   "metadata": {},
   "outputs": [],
   "source": [
    "class Solution:\n",
    "    def longestPalindrome(self, s: str) -> str:\n",
    "        size = len(s)\n",
    "        if size == 0:\n",
    "            return ''\n",
    "        \n",
    "        # 至少有一个\n",
    "        maxlens = 1\n",
    "        max_palindrome = s[0]\n",
    "        for i in range(size):\n",
    "            palindrome_odd, odd_lens = self.center_spread(s, size, i, i)\n",
    "            palindrome_even, even_lens = self.center_spread(s, size, i, i+1)\n",
    "            curr_max_palindrome = palindrome_odd if odd_lens > even_lens else palindrome_even\n",
    "            if len(curr_max_palindrome) > maxlens:\n",
    "                maxlens = len(curr_max_palindrome)\n",
    "                max_palindrome = curr_max_palindrome\n",
    "        return max_palindrome\n",
    "    \n",
    "    def center_spread(self, s, size, left, right):\n",
    "        '''\n",
    "        当 left = right 时，回文串是奇数\n",
    "        当 right = left + 1 时，回文串是偶数\n",
    "        '''\n",
    "        while left >= 0 and right < size and s[left] == s[right]:\n",
    "            left -= 1\n",
    "            right += 1\n",
    "        return s[left+1:right], right - left - 1"
   ]
  },
  {
   "cell_type": "markdown",
   "metadata": {},
   "source": [
    "# 正则表达式匹配(LeetCode 10)"
   ]
  },
  {
   "cell_type": "code",
   "execution_count": null,
   "metadata": {},
   "outputs": [],
   "source": []
  },
  {
   "cell_type": "markdown",
   "metadata": {},
   "source": [
    "# 盛水最大的容器(LeetCode 11)"
   ]
  },
  {
   "cell_type": "code",
   "execution_count": 3,
   "metadata": {},
   "outputs": [],
   "source": [
    "class Solution:\n",
    "    def maxArea(self, height: List[int]) -> int:\n",
    "        i, j, res = 0, len(height) - 1, 0\n",
    "        while i < j:\n",
    "            if height[i] < height[j]:\n",
    "                res = max(res, height[i] * (j-i))\n",
    "                i += 1\n",
    "            else:\n",
    "                res = max(res, height[j] * (j-i))\n",
    "                j -= 1\n",
    "        return res"
   ]
  },
  {
   "cell_type": "markdown",
   "metadata": {},
   "source": [
    "# 三数之和(LeetCode 15)"
   ]
  },
  {
   "cell_type": "code",
   "execution_count": 6,
   "metadata": {},
   "outputs": [],
   "source": [
    "class Solution:\n",
    "    def threeSum(self, nums: List[int]) -> List[List[int]]:\n",
    "        nums.sort() # 先排序\n",
    "        result = []\n",
    "        for k in range(len(nums) - 2):\n",
    "            if nums[k] > 0: break\n",
    "            if k > 0 and nums[k] == nums[k-1]: continue\n",
    "            i, j = k + 1, len(nums) - 1\n",
    "            while i < j:\n",
    "                sums = nums[k] + nums[i] + nums[j]\n",
    "                if sums < 0:\n",
    "                    i += 1\n",
    "                    while i < j and nums[i] == nums[i-1]:\n",
    "                        i += 1\n",
    "                elif sums > 0:\n",
    "                    j -= 1\n",
    "                    while i < j and nums[j] == nums[j+1]:\n",
    "                        j -= 1\n",
    "                else:\n",
    "                    result.append([nums[k], nums[i], nums[j]])\n",
    "                    i += 1\n",
    "                    j -= 1\n",
    "                    while i < j and nums[i] == nums[i-1]:\n",
    "                        i += 1\n",
    "                    while i < j and nums[j] == nums[j+1]:\n",
    "                        j -= 1\n",
    "        return result"
   ]
  },
  {
   "cell_type": "markdown",
   "metadata": {},
   "source": [
    "# 电话号码的字母组合"
   ]
  },
  {
   "cell_type": "code",
   "execution_count": 7,
   "metadata": {},
   "outputs": [],
   "source": [
    "class Solution:\n",
    "    def letterCombinations(self, digits: str) -> List[str]:\n",
    "        hasmap = {\n",
    "            \"2\": \"abc\",\n",
    "            \"3\": \"def\",\n",
    "            \"4\": \"ghi\",\n",
    "            \"5\": \"jkl\",\n",
    "            \"6\": \"mno\",\n",
    "            \"7\": \"pqrs\",\n",
    "            \"8\": \"tuv\",\n",
    "            \"9\": \"wxyz\"\n",
    "        }\n",
    "        \n",
    "        def backtrack(curr, curr_digits):\n",
    "            if len(curr_digits) == 0:\n",
    "                result.append(curr)\n",
    "            else:\n",
    "                for char in hasmap[curr_digits[0]]:\n",
    "                    backtrack(curr+char, curr_digits[1:])\n",
    "        result = []\n",
    "        if digits:\n",
    "            backtrack(\"\", digits)\n",
    "        return result"
   ]
  },
  {
   "cell_type": "markdown",
   "metadata": {},
   "source": [
    "# 删除链表的倒数第N个节点(LeetCode 19)"
   ]
  },
  {
   "cell_type": "code",
   "execution_count": 10,
   "metadata": {},
   "outputs": [],
   "source": [
    "# Definition for singly-linked list.\n",
    "class ListNode:\n",
    "    def __init__(self, x):\n",
    "        self.val = x\n",
    "        self.next = None\n",
    "\n",
    "class Solution:\n",
    "    def removeNthFromEnd(self, head: ListNode, n: int) -> ListNode:\n",
    "        dummy = ListNode(None)\n",
    "        dummy.next = head\n",
    "        first = dummy\n",
    "        second = dummy\n",
    "        for i in range(n+1):\n",
    "                first = first.next\n",
    "        \n",
    "        while first != None:\n",
    "            first = first.next\n",
    "            second = second.next\n",
    "        second.next = second.next.next\n",
    "        return dummy.next"
   ]
  },
  {
   "cell_type": "markdown",
   "metadata": {},
   "source": [
    "# 有效的括号(LeetCode 20)"
   ]
  },
  {
   "cell_type": "code",
   "execution_count": 11,
   "metadata": {},
   "outputs": [],
   "source": [
    "class Solution:\n",
    "    def isValid(self, s: str) -> bool:\n",
    "        stack, i, match = [], 0, True\n",
    "        while i < len(s) and match:\n",
    "            if s[i] in \"([{\":\n",
    "                stack.append(s[i])\n",
    "            else:\n",
    "                if len(stack) == 0:\n",
    "                    match = False\n",
    "                else:\n",
    "                    top = stack.pop()\n",
    "                    if \"([{\".index(top) != \")]}\".index(s[i]):\n",
    "                        match = False\n",
    "            i += 1\n",
    "            \n",
    "        if match and len(stack) == 0:\n",
    "            return True\n",
    "        else:\n",
    "            return False"
   ]
  },
  {
   "cell_type": "markdown",
   "metadata": {},
   "source": [
    "# 合并两个有序链表(LeetCode 21)"
   ]
  },
  {
   "cell_type": "code",
   "execution_count": 12,
   "metadata": {},
   "outputs": [],
   "source": [
    "# Definition for singly-linked list.\n",
    "class ListNode:\n",
    "    def __init__(self, x):\n",
    "        self.val = x\n",
    "        self.next = None\n",
    "\n",
    "class Solution:\n",
    "    def mergeTwoLists(self, l1: ListNode, l2: ListNode) -> ListNode:\n",
    "        dummy = ListNode(None)\n",
    "        phead = dummy\n",
    "        if l1 == None or l2 == None:\n",
    "            return l1 or l2\n",
    "        \n",
    "        p1, p2 = l1, l2\n",
    "        while p1 and p2:\n",
    "            if p1.val <= p2.val:\n",
    "                phead.next = p1\n",
    "                p1 = p1.next\n",
    "            else:\n",
    "                phead.next = p2\n",
    "                p2 = p2.next\n",
    "            phead = phead.next\n",
    "        phead.next = p1 if p1 else p2\n",
    "        return dummy.next"
   ]
  },
  {
   "cell_type": "markdown",
   "metadata": {},
   "source": [
    "# 括号生成(LeetCode 22)"
   ]
  },
  {
   "cell_type": "code",
   "execution_count": 13,
   "metadata": {},
   "outputs": [],
   "source": [
    "class Solution:\n",
    "    def generateParenthesis(self, n: int) -> List[str]:\n",
    "        leftnum, rightnum = n, n\n",
    "        result = []\n",
    "        self.backtrack(result, \"\", leftnum, rightnum)\n",
    "        return result\n",
    "    \n",
    "    def backtrack(self, result, curr, leftnum, rightnum):\n",
    "        if leftnum == 0 and rightnum == 0:\n",
    "            result.append(curr)\n",
    "        else:\n",
    "            if rightnum > leftnum:\n",
    "                self.backtrack(result, curr+\")\", leftnum, rightnum-1)\n",
    "            if leftnum > 0:\n",
    "                self.backtrack(result, curr+\"(\", leftnum-1, rightnum)"
   ]
  },
  {
   "cell_type": "markdown",
   "metadata": {},
   "source": [
    "# 合并K个排序链表(LeetCode 23)"
   ]
  },
  {
   "cell_type": "code",
   "execution_count": 14,
   "metadata": {},
   "outputs": [],
   "source": [
    "# 方法一： 优先级队列\n",
    "class ListNode:\n",
    "    def __init__(self, x):\n",
    "        self.val = x\n",
    "        self.next = None\n",
    "\n",
    "class Solution:\n",
    "    def mergeKLists(self, lists: List[ListNode]) -> ListNode:\n",
    "        import heapq\n",
    "        dummy = ListNode(None)\n",
    "        phead = dummy\n",
    "        head = []\n",
    "        for i in range(len(lists)):\n",
    "            if lists[i]:\n",
    "                heapq.heappush(head, (lists[i].val, i))\n",
    "                lists[i] = lists[i].next\n",
    "        while head:\n",
    "            val, i = heapq.heappop(head)\n",
    "            phead.next = ListNode(val)\n",
    "            phead = phead.next\n",
    "            if lists[i]:\n",
    "                heapq.heappush(head, (lists[i].val, i))\n",
    "                lists[i] = lists[i].next\n",
    "        return dummy.next\n",
    "    \n",
    "# 方法二：分治\n",
    "class ListNode:\n",
    "    def __init__(self, x):\n",
    "        self.val = x\n",
    "        self.next = None\n",
    "\n",
    "class Solution:\n",
    "    def mergeKLists(self, lists: List[ListNode]) -> ListNode:\n",
    "        if not lists:\n",
    "            return None\n",
    "        n = len(lists)\n",
    "        return self.merge(lists, 0, n-1)\n",
    "    \n",
    "    def merge(self, lists, left, right):\n",
    "        if left == right:\n",
    "            return lists[left]\n",
    "        mid = left + (right - left) // 2\n",
    "        p1 = self.merge(lists, left, mid)\n",
    "        p2 = self.merge(lists, mid+1, right)\n",
    "        return self.mergeTwoList(p1, p2)\n",
    "    \n",
    "    def mergeTwoList(self, p1, p2):\n",
    "        if p1 == None: return p2\n",
    "        if p2 == None: return p1\n",
    "        if p1.val < p2.val:\n",
    "            p1.next = self.mergeTwoList(p1.next, p2)\n",
    "            return p1\n",
    "        else:\n",
    "            p2.next = self.mergeTwoList(p1, p2.next)\n",
    "            return p2"
   ]
  },
  {
   "cell_type": "markdown",
   "metadata": {},
   "source": [
    "# 下一个排列(LeetCode 31)"
   ]
  },
  {
   "cell_type": "code",
   "execution_count": 17,
   "metadata": {},
   "outputs": [],
   "source": [
    "class Solution:\n",
    "    def nextPermutation(self, nums: List[int]) -> None:\n",
    "        \"\"\"\n",
    "        Do not return anything, modify nums in-place instead.\n",
    "        \"\"\"\n",
    "        def reverse(nums, i, j):\n",
    "            while i < j:\n",
    "                nums[i], nums[j] = nums[j], nums[i]\n",
    "                i += 1\n",
    "                j -= 1\n",
    "                \n",
    "        n = len(nums)\n",
    "        index1 = -1\n",
    "        for i in range(n-2, -1, -1):\n",
    "            if nums[i] < nums[i+1]:\n",
    "                index1 = i\n",
    "                break\n",
    "        if index1 == -1:\n",
    "            reverse(nums, 0, n-1)\n",
    "            return\n",
    "        index2 = -1\n",
    "        for i in range(n-1, index1, -1):\n",
    "            if nums[i] > nums[index1]:\n",
    "                index2 = i\n",
    "                break\n",
    "        nums[index1], nums[index2] = nums[index2], nums[index1]\n",
    "        reverse(nums, index1+1, n-1)"
   ]
  },
  {
   "cell_type": "markdown",
   "metadata": {},
   "source": [
    "# 最长有效括号(LeetCode 32)"
   ]
  },
  {
   "cell_type": "markdown",
   "metadata": {},
   "source": [
    "dp 方法:\n",
    "我们用 dp[i] 表示以 i 结尾的最长有效括号；\n",
    "\n",
    "当s[i] 为(,dp[i] 必然等于0,因为不可能组成有效的括号;\n",
    "\n",
    "那么s[i] 为 )\n",
    "\n",
    "2.1 当 s[i-1] 为 (，那么 dp[i] = dp[i-2] + 2；\n",
    "\n",
    "2.2 当 s[i-1] 为 ) 并且 s[i-dp[i-1] - 1] 为 (，那么 dp[i] = dp[i-1] + 2 + dp[i-dp[i-1]-2]；\n",
    "\n",
    "时间复杂度：O(n)O(n)\n"
   ]
  },
  {
   "cell_type": "code",
   "execution_count": null,
   "metadata": {},
   "outputs": [],
   "source": [
    "class Solution:\n",
    "    def longestValidParentheses(self, s: str) -> int:\n",
    "        n = len(s)\n",
    "        if n == 0: return 0\n",
    "        dp = [0] * n\n",
    "        res = 0\n",
    "        for i in range(n):\n",
    "            if i>0 and s[i] == \")\":\n",
    "                if  s[i - 1] == \"(\":\n",
    "                    dp[i] = dp[i - 2] + 2\n",
    "                elif s[i - 1] == \")\" and i - dp[i - 1] - 1 >= 0 and s[i - dp[i - 1] - 1] == \"(\":\n",
    "                    dp[i] = dp[i - 1] + 2 + dp[i - dp[i - 1] - 2]\n",
    "                if dp[i] > res:\n",
    "                    res = dp[i]\n",
    "        return res"
   ]
  },
  {
   "cell_type": "code",
   "execution_count": null,
   "metadata": {},
   "outputs": [],
   "source": []
  }
 ],
 "metadata": {
  "kernelspec": {
   "display_name": "Python 3",
   "language": "python",
   "name": "python3"
  },
  "language_info": {
   "codemirror_mode": {
    "name": "ipython",
    "version": 3
   },
   "file_extension": ".py",
   "mimetype": "text/x-python",
   "name": "python",
   "nbconvert_exporter": "python",
   "pygments_lexer": "ipython3",
   "version": "3.7.3"
  },
  "toc": {
   "base_numbering": 1,
   "nav_menu": {},
   "number_sections": true,
   "sideBar": true,
   "skip_h1_title": false,
   "title_cell": "Table of Contents",
   "title_sidebar": "Contents",
   "toc_cell": false,
   "toc_position": {},
   "toc_section_display": true,
   "toc_window_display": false
  }
 },
 "nbformat": 4,
 "nbformat_minor": 2
}
