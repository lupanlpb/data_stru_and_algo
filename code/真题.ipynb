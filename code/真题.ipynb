{
 "cells": [
  {
   "cell_type": "markdown",
   "metadata": {},
   "source": [
    "# 大数相乘\n",
    "\n",
    "大数相乘就是数字特别大，相乘的结果会超出基本数据类型的表示范围，所以这样的数不能直接进行相乘。这种问题可以有三种解决办法："
   ]
  },
  {
   "cell_type": "markdown",
   "metadata": {},
   "source": [
    "## Karatsuba算法\n",
    "karatsuba算法是一种快速相乘算法，采用分治递归的方法求解，此算法在1960年由Anatolii Alexeevitch Karatsuba 提出。普通相乘的复杂度为$O(n^2)$，而Karatsuba算法的复杂度仅为$O(n^{log_2{3}})$。下面来看一下这个算法的实现过程：\n",
    "\n",
    "假设有两个数 $x = 12345$ 和 $y = 6789$，我们将这两个数分别拆成两部分，即:\n",
    "\n",
    "$x = a + b$\n",
    "\n",
    "$y = c + d$\n",
    "\n",
    "\n",
    "其中 $a = 123 * 10^{n/2}$，$b = 45$，$c = 67 * 10^{n/2}$，$d = 89$，这里 $n = max(len(str(x)), len(str(y)))$\n",
    "，于是\n",
    "$$\n",
    "\\begin{aligned} & x * y \\\\=&\\left(a * 10^{n / 2}+b\\right) *\\left(c * 10^{n / 2}+d\\right) \\\\=& a c * 10^{n}+(a d+b c) * 10^{n / 2}+b d \\\\=& a c * 10^{n}+[(a+b) *(c+d)-a c-b d] * 10^{n / 2}+b d \\end{aligned}\n",
    "$$\n",
    "其中，$(a d+b c) = (a+b) *(c+d)-a c-b d$，所以我们可以利用递归，每次只需要每次计算$a c$，$(a+b) *(c+d)$ 和 $b d$，这样四次乘法运算就变成了三次(和六次加减法)。因此复杂度为：\n",
    "$$T(n)=3 T\\left(\\frac{n}{2}\\right)+6 n=O\\left(n^{\\log _{2} 3}\\right)$$\n",
    "下面看一个例子，这里指数取为 $n//2$，于是 $a=123$，$b=45$，$c=67$，$a=89$ ：\n",
    "$$\n",
    "\\begin{aligned} 12345 &=123 \\cdot 100+45 \\\\ 6789 &=67 \\cdot 100+89 \\end{aligned}\n",
    "$$\n",
    "那么 $a*c$，$(a+b) *(c+d)$ 和 $a*c$ 分别为：\n",
    "$$\n",
    "\\begin{aligned} z_{0} &=a * c=123 \\times 67=8241 \\\\ z_{1} &=b * d=45 \\times 89=4005 \\\\ z_{2} &=((a+b) *(c+d)-a * c-b * d) \\\\ &=(123+45) \\times(67+89)-z_{0}-z_{1}=26208-8241-4005=13962 \\end{aligned}\n",
    "$$\n",
    "最终结果为：\n",
    "$$\n",
    "\\begin{array}{l}{\\text {ans}=z_{0} \\cdot 10^{2 * 2}+z_{2} \\cdot 10^{2}+z_{1}} \\\\ {\\text {ans}=8241 \\cdot 10^{4}+13962 \\cdot 10^{2}+4005=83810205}\n",
    "\\end{array}\n",
    "$$\n",
    "至此，我们可以写出整个过程如下：\n",
    "\n",
    "1. 首先根据两个数的长度进行截取， $n = max(len(str(x)), len(str(y)))$，那么取 $m = n//2$ 作为指数。\n",
    "2. 计算$a * c$，$(a+b) *(c+d)$ 和 $b * d$\n",
    "3. 递归计算$a * c$，$(a+b) *(c+d)$ 和 $b * d$\n",
    "4. 设置递归终止条件\n",
    "\n",
    "```python\n",
    "if len(str(x))==1 or len(str(y))==1:\n",
    "    return x*y\n",
    "```\n",
    "下面是具体Python实现。"
   ]
  },
  {
   "cell_type": "code",
   "execution_count": 8,
   "metadata": {},
   "outputs": [
    {
     "name": "stdout",
     "output_type": "stream",
     "text": [
      "151851741 151851741\n"
     ]
    }
   ],
   "source": [
    "def karatsubaMul(x, y):\n",
    "    '''\n",
    "    Karatsuba算法计算大数相乘\n",
    "    '''\n",
    "    if len(str(x)) == 1 or len(str(y)) == 1:\n",
    "        return x * y\n",
    "    n = max(len(str(x)), len(str(y)))\n",
    "    exp = n // 2\n",
    "    \n",
    "    a = x // 10**exp\n",
    "    b = x % 10**exp\n",
    "    c = y // 10**exp\n",
    "    d = y % 10**exp\n",
    "    ac = karatsubaMul(a, c)\n",
    "    bd = karatsubaMul(b, d)\n",
    "    abcd = karatsubaMul(a+b, c+d)\n",
    "    adbc = abcd - ac - bd\n",
    "    return ac * 10**(2*exp) + adbc * 10**exp + bd\n",
    "\n",
    "print(karatsubaMul(1234567, 123), 1234567*123)"
   ]
  },
  {
   "cell_type": "markdown",
   "metadata": {},
   "source": [
    "\n",
    "## 模拟乘法手算的累加算法\n",
    "\n",
    "<div align=center><img src=\"http://github.com/lupanlpb/data_stru_and_algo/raw/master/images/big_data_mul.png\" width=\"500\" /><div/>\n",
    "\n",
    "模拟手算就像小学的时候计算乘法那样，先拿一个数分别与另一个数的个位、十位、百位、、、依次相乘，然后再错位相加得到计算结果。下面的程序就是按照这个想法实现的。每个变量的含义如下：\n",
    "\n",
    "$num1:$ 字符串，大数1\n",
    "\n",
    "$num2:$ 字符串，大数2\n",
    "\n",
    "$result:$ 列表，存放每个位上的计算结果\n",
    "\n",
    "$alist:$ 列表，存放num1的每一位整数\n",
    "\n",
    "$blist:$ 列表，存放num2的每一位整数\n",
    "\n",
    "$bit\\_result:$ 存放按位计算的结果\n",
    "\n",
    "$tens:$ 存放按位计算的结果的进位数\n"
   ]
  },
  {
   "cell_type": "code",
   "execution_count": 19,
   "metadata": {},
   "outputs": [
    {
     "name": "stdout",
     "output_type": "stream",
     "text": [
      "151851741 151851741\n"
     ]
    }
   ],
   "source": [
    "def mulByBit(num1, num2):\n",
    "    alist = list(map(int, reversed(num1))) # 将字符串反转并转换成整数列表\n",
    "    blist = list(map(int, reversed(num2)))\n",
    "    result = [0]*(len(alist) + len(blist))\n",
    "    for i, vala in enumerate(alist):\n",
    "        tens = 0\n",
    "        for j, valb in enumerate(blist):\n",
    "            bit_result = vala * valb + tens + result[i+j]\n",
    "            result[i+j] = bit_result % 10\n",
    "            tens = bit_result // 10\n",
    "        result[i+j+1] = tens\n",
    "    result = ''.join(list(map(str, result[::-1])))\n",
    "    return result if result[0] != '0' else result[1:]\n",
    "\n",
    "# test\n",
    "a = '1234567'\n",
    "b = '123'\n",
    "print(mulByBit(a, b), int(a)*int(b))"
   ]
  },
  {
   "cell_type": "markdown",
   "metadata": {},
   "source": [
    "## 模拟乘法手算的改进算法"
   ]
  },
  {
   "cell_type": "code",
   "execution_count": 10,
   "metadata": {},
   "outputs": [
    {
     "name": "stdout",
     "output_type": "stream",
     "text": [
      "0 0\n"
     ]
    }
   ],
   "source": [
    "def mulByBit(num1, num2):\n",
    "    if num1[0] == '0' or num2[0] == '0': return '0'\n",
    "    alist = list(map(int, num1))\n",
    "    blist = list(map(int, num2))\n",
    "    result = [0]*(len(alist) + len(blist))\n",
    "    for i in range(len(alist)-1, -1, -1): # 个位索引是高位\n",
    "        for j in range(len(blist)-1, -1, -1):\n",
    "            result[i+j] += (alist[i] * blist[j] + result[i+j+1]) // 10 # 索引小是数字的高位\n",
    "            result[i+j+1] = (alist[i] * blist[j] + result[i+j+1]) % 10 # 索引大是数字的低位\n",
    "    result = ''.join(map(str, result))\n",
    "    return  result if result[0] != '0' else result[1:]\n",
    "\n",
    "# test\n",
    "a = '0'\n",
    "b = '456'\n",
    "print(mulByBit(a, b), int(a)*int(b))"
   ]
  },
  {
   "cell_type": "code",
   "execution_count": 38,
   "metadata": {},
   "outputs": [
    {
     "name": "stdout",
     "output_type": "stream",
     "text": [
      "123 456\n",
      "123 456\n",
      "56088\n"
     ]
    }
   ],
   "source": [
    "def bitMul(num1, num2):\n",
    "    alist = list(map(int, num1))\n",
    "    blist = list(map(int, num2))\n",
    "    result = [0]*(len(alist) + len(blist))\n",
    "    for i in range(len(alist)-1, -1, -1):\n",
    "        for j in range(len(blist)-1, -1, -1):\n",
    "            result[i+j] += (alist[i] * blist[j] + result[i+j+1]) // 10\n",
    "            result[i+j+1] = (alist[i] * blist[j] + result[i+j+1]) % 10\n",
    "    result = ''.join(map(str, result))\n",
    "    return result if result[0] != '0' else result[1:]\n",
    "\n",
    "sts = input().strip().split()\n",
    "print(sts[0], sts[1])\n",
    "print(bitMul(sts[0], sts[1]))"
   ]
  },
  {
   "cell_type": "markdown",
   "metadata": {},
   "source": [
    "# 最大乘积\n",
    "\n",
    "给定一个无序数组，包含正数、负数和0，要求从中找出3个数的乘积，使得乘积最大，要求时间复杂度：$O(n)$，空间复杂度：$O(1)$。\n",
    "\n",
    "输入描述:\n",
    "\n",
    "无序整数数组A[n]\n",
    "\n",
    "输出描述:\n",
    "\n",
    "满足条件的最大乘积\n",
    "\n",
    "输入例子:\n",
    "\n",
    "4\n",
    "\n",
    "3 4 1 2\n",
    "\n",
    "输出例子:\n",
    "\n",
    "24\n",
    "\n",
    "**解决思路:**\n",
    "\n",
    "考虑到数组中既有正数，又有负数和 $0$ ，且要求出最大乘积，于是分情况讨论如下，其中max1, max2, max2, min1, min2分别为最大的三个数和最小的两个数：\n",
    "1. 全是正数：则结果应为最大的三个数相乘，即 result = max1 * max2 * max3\n",
    "2. 全是负数：则结果应为最大的三个负数相乘，即 result = max1 * max2 * max3，和情况1相同\n",
    "3. 有正有负：这种情况下，结果有两种可能，即 result = min1 * min2 * max1 or result = max1 * max2 * max3\n",
    "\n",
    "所以，综上可知，result = max(max1 * max2 * max3, min1 * min2 * max1)"
   ]
  },
  {
   "cell_type": "code",
   "execution_count": 36,
   "metadata": {},
   "outputs": [
    {
     "name": "stdout",
     "output_type": "stream",
     "text": [
      "6\n",
      "-1 0 -2 3 -5 7\n",
      "70\n"
     ]
    }
   ],
   "source": [
    "def max_three_product(arr):\n",
    "    min1 = float('inf')\n",
    "    min2 = float('inf')\n",
    "    max1 = float('-inf')\n",
    "    max2 = float('-inf')\n",
    "    max3 = float('-inf')\n",
    "    for val in arr:\n",
    "        if val < min1:\n",
    "            min1, min2 = val, min1\n",
    "        elif val < min2:\n",
    "            min2 = val\n",
    "        if max1 < val:\n",
    "            max1, max2, max3 = val, max1, max2\n",
    "        elif max2 < val:\n",
    "            max2, max3 = val, max2\n",
    "        elif max3 < val:\n",
    "            max3 = val\n",
    "\n",
    "    return max(max1*max2*max3, min1*min2*max1)\n",
    "\n",
    "n = input()\n",
    "arr = list(map(int, input().split()))\n",
    "print(max_three_product(arr))"
   ]
  },
  {
   "cell_type": "markdown",
   "metadata": {},
   "source": [
    "# 拼多多扑克牌游戏"
   ]
  },
  {
   "cell_type": "code",
   "execution_count": 21,
   "metadata": {},
   "outputs": [
    {
     "name": "stdout",
     "output_type": "stream",
     "text": [
      "3\n",
      "123\n",
      "3\n",
      "{\n",
      "d d l\n",
      "d d r\n",
      "}\n",
      "123\n",
      "321\n",
      "{\n",
      "l l l\n",
      "r l l\n",
      "}\n",
      "12\n",
      "23\n",
      "{\n",
      "}\n"
     ]
    }
   ],
   "source": [
    "def backtrack(i, n, result, s1, s2, curr):\n",
    "    if i == n:\n",
    "        if curr == s2:\n",
    "            print(\" \".join(result))\n",
    "        return\n",
    "    else:\n",
    "        backtrack(i+1, n, result+\"d\", s1[1:], s2, curr)\n",
    "        backtrack(i+1, n, result+\"l\", s1[1:], s2, s1[0]+curr)\n",
    "        backtrack(i+1, n, result+\"r\", s1[1:], s2, curr+s1[0])\n",
    "    \n",
    "n = int(input())\n",
    "while n > 0:\n",
    "    st1 = input()\n",
    "    st2 = input()\n",
    "    size = len(st1)\n",
    "    print(\"{\")\n",
    "    backtrack(0, size, \"\", st1, st2, \"\")\n",
    "    print(\"}\")\n",
    "    n -= 1"
   ]
  },
  {
   "cell_type": "markdown",
   "metadata": {},
   "source": [
    "# 瓜子二手车最大数字"
   ]
  },
  {
   "cell_type": "code",
   "execution_count": 44,
   "metadata": {},
   "outputs": [
    {
     "name": "stdout",
     "output_type": "stream",
     "text": [
      "98202011\n"
     ]
    }
   ],
   "source": [
    "def backtrack(result, curr, arr):\n",
    "    if len(arr) == 0:\n",
    "        result.append(curr[:])\n",
    "        return\n",
    "    else:\n",
    "        for i in range(len(arr)):\n",
    "            backtrack(result, curr+arr[i], arr[0:i]+arr[i+1:])\n",
    "\n",
    "arr = ['1', '201', '20', '9', '8']\n",
    "result = []\n",
    "backtrack(result, '', arr)\n",
    "print(max(list(map(int, result))))"
   ]
  },
  {
   "cell_type": "code",
   "execution_count": 49,
   "metadata": {},
   "outputs": [
    {
     "name": "stdout",
     "output_type": "stream",
     "text": [
      "98202011\n"
     ]
    }
   ],
   "source": [
    "from functools import cmp_to_key\n",
    "\n",
    "class Solution():\n",
    "    def compare(self, num1, num2):\n",
    "        t = str(num1) + str(num2)\n",
    "        s = str(num2) + str(num1)\n",
    "        if t < s:\n",
    "            return 1\n",
    "        elif t > s:\n",
    "            return -1\n",
    "        else:\n",
    "            return 0\n",
    "        \n",
    "    def PrintMinNumber(self, numbers):\n",
    "        if numbers == None:\n",
    "            return \"\"\n",
    "        lens = len(numbers)\n",
    "        if len(numbers) == 0:\n",
    "            return \"\"\n",
    "        result = sorted(numbers, key = cmp_to_key(self.compare))\n",
    "        return \"\".join((str(x) for x in result))\n",
    "    \n",
    "arr = ['1', '201', '20', '9', '8']\n",
    "print(Solution().PrintMinNumber(arr))"
   ]
  },
  {
   "cell_type": "markdown",
   "metadata": {},
   "source": [
    "# 华为买钉子"
   ]
  },
  {
   "cell_type": "markdown",
   "metadata": {},
   "source": [
    "钉子数 1 <= n <= 200，钉子只有两种包装，一种一盒 4 个， 一种一盒 9 个，不能零卖，求最小的盒数，刚好买够 n 个钉子，如果没有输出 -1。"
   ]
  },
  {
   "cell_type": "code",
   "execution_count": 6,
   "metadata": {},
   "outputs": [
    {
     "name": "stdout",
     "output_type": "stream",
     "text": [
      "12\n",
      "3\n"
     ]
    }
   ],
   "source": [
    "n = int(input())\n",
    "\n",
    "dp = [-1] * 201\n",
    "dp[4] = 1\n",
    "dp[8] = 2\n",
    "dp[9] = 1\n",
    "for i in range(10, 201):\n",
    "    if dp[i-4] > 0 and dp[i-9] > 0:\n",
    "        dp[i] = min(dp[i-4], dp[i-9]) + 1\n",
    "    elif dp[i-4] > 0 and dp[i-9] < 0:\n",
    "        dp[i] = dp[i-4] + 1\n",
    "    elif dp[i-4] < 0 and dp[i-9] > 0:\n",
    "        dp[i] = dp[i-9] + 1\n",
    "    else:\n",
    "        dp[i] = -1\n",
    "print(dp[n])"
   ]
  },
  {
   "cell_type": "markdown",
   "metadata": {},
   "source": [
    "# 字节跳动-第一个缺失的数"
   ]
  },
  {
   "cell_type": "code",
   "execution_count": 27,
   "metadata": {},
   "outputs": [
    {
     "name": "stdout",
     "output_type": "stream",
     "text": [
      "2\n"
     ]
    }
   ],
   "source": [
    "def firstMissing(num):\n",
    "    size = len(num)\n",
    "    for i in range(len(num)):\n",
    "        while 1 <= num[i] and num[i] <= size and num[i] != num[num[i] - 1]:\n",
    "            num[num[i] - 1], num[i] = num[i], num[num[i] - 1]\n",
    "            \n",
    "    for i in range(len(num)):\n",
    "        if i + 1 != num[i]:\n",
    "            return i + 1\n",
    "    return size + 1\n",
    "\n",
    "num = [1, 8, 9, 11, 12]\n",
    "print(firstMissing(num))"
   ]
  },
  {
   "cell_type": "markdown",
   "metadata": {},
   "source": [
    "# 爱奇艺排列"
   ]
  },
  {
   "cell_type": "code",
   "execution_count": 26,
   "metadata": {},
   "outputs": [
    {
     "name": "stdout",
     "output_type": "stream",
     "text": [
      "4\n",
      "1 1 0\n",
      "3\n"
     ]
    }
   ],
   "source": [
    "def Permutation(curr, num, a, count):\n",
    "    if len(num) == 0:\n",
    "        flag = False\n",
    "        for i in range(len(a)):\n",
    "            if a[i] == 0:\n",
    "                if curr[i] < curr[i+1]:\n",
    "                    flag = True\n",
    "                else:\n",
    "                    flag = False\n",
    "                    break\n",
    "            else:\n",
    "                if curr[i] > curr[i+1]:\n",
    "                    flag = True\n",
    "                else:\n",
    "                    flag = False\n",
    "                    break\n",
    "        if flag:\n",
    "            count[0] = count[0] + 1\n",
    "    else:\n",
    "        for i in range(len(num)):\n",
    "            curr.append(num[i])\n",
    "            Permutation(curr, num[:i] + num[i+1:], a, count)\n",
    "            curr.pop()\n",
    "\n",
    "num = int(input())\n",
    "a = list(map(int, input().split()))\n",
    "arr = list(range(1, num+1))\n",
    "count = []\n",
    "count.append(0)\n",
    "Permutation([], arr, a, count)\n",
    "print(count[0])"
   ]
  },
  {
   "cell_type": "markdown",
   "metadata": {},
   "source": [
    "# 美团-删除重复字符"
   ]
  },
  {
   "cell_type": "markdown",
   "metadata": {},
   "source": [
    "aaabbb -> \"no\"\n",
    "\n",
    "ababab -> ababab\n",
    "\n",
    "aabbcd -> cd"
   ]
  },
  {
   "cell_type": "code",
   "execution_count": 32,
   "metadata": {},
   "outputs": [
    {
     "name": "stdout",
     "output_type": "stream",
     "text": [
      "aaabbb\n",
      "no\n"
     ]
    }
   ],
   "source": [
    "s = input()\n",
    "\n",
    "i, j = 0, 0\n",
    "size = len(s)\n",
    "result = []\n",
    "while i < size and j < size: # 双指针，都从头开始移动\n",
    "    if s[i] == s[j]: # 若两者一直相等，只移动 j\n",
    "        j += 1\n",
    "    else:\n",
    "        if j == 1: # 对应于 ab 的情况，即开头两个字符就不相同\n",
    "            result.append(s[i])\n",
    "        result.append(s[j]) # 对应于 i 和 j 位置的字符不相同，将 s[j] 存入\n",
    "        i = j # 将 i 移到 j 的位置\n",
    "        j += 1 # j 前进一位\n",
    "        if j < size and s[i] == s[j]: # 如果 s[i] == s[j]，将上一个存入的 pop 出来\n",
    "            result.pop()\n",
    "            \n",
    "if result:\n",
    "    print(\"\".join(result))\n",
    "else:\n",
    "    print(\"no\")"
   ]
  },
  {
   "cell_type": "code",
   "execution_count": 40,
   "metadata": {},
   "outputs": [
    {
     "name": "stdout",
     "output_type": "stream",
     "text": [
      "aaabccd\n",
      "bd\n"
     ]
    }
   ],
   "source": [
    "# 方法二：\n",
    "s = input()\n",
    "\n",
    "size = len(s)\n",
    "result = \"\"\n",
    "i = 0\n",
    "duplicated = False\n",
    "while i < size:\n",
    "    while i + 1 < size and s[i] == s[i+1]:\n",
    "        duplicated = True\n",
    "        i += 1\n",
    "    if duplicated:\n",
    "        i += 1\n",
    "    else:\n",
    "        result += s[i]\n",
    "        i += 1\n",
    "    duplicated = False\n",
    "if result:\n",
    "    print(result)\n",
    "else:\n",
    "    print(\"no\")"
   ]
  },
  {
   "cell_type": "markdown",
   "metadata": {},
   "source": [
    "# 美团-寻找最小子字符串"
   ]
  },
  {
   "cell_type": "code",
   "execution_count": 31,
   "metadata": {},
   "outputs": [
    {
     "name": "stdout",
     "output_type": "stream",
     "text": [
      "meituan2019\n",
      "it2\n",
      "ituan2\n"
     ]
    }
   ],
   "source": [
    "def smallestSt(bigst, smallst):\n",
    "    if not smallst: return bigst\n",
    "    hasmap = {}\n",
    "    for st in smallst:\n",
    "        hasmap[st] = hasmap.get(st, 0) + 1\n",
    "    pl, pr = 0, 0\n",
    "    result, temp = bigst + \"0\", sum(hasmap.values()) > 0\n",
    "    while pr < len(bigst) or not temp:\n",
    "        if temp:\n",
    "            if bigst[pr] in hasmap:\n",
    "                hasmap[bigst[pr]] -= 1\n",
    "                temp = any(map(lambda x: x > 0, hasmap.values()))\n",
    "            pr += 1\n",
    "        else:\n",
    "            if pr - pl < len(result):\n",
    "                result = bigst[pl:pr]\n",
    "            if bigst[pl] in hasmap:\n",
    "                hasmap[bigst[pl]] += 1\n",
    "                temp = any(map(lambda x: x > 0, hasmap.values()))\n",
    "            pl += 1\n",
    "    if len(result) > len(bigst):\n",
    "        return \"\"\n",
    "    return result\n",
    "\n",
    "\n",
    "bigst = input()\n",
    "smallst = input()\n",
    "print(smallestSt(bigst, smallst))\n"
   ]
  },
  {
   "cell_type": "markdown",
   "metadata": {},
   "source": [
    "# 三七互娱-股票收入最高"
   ]
  },
  {
   "cell_type": "markdown",
   "metadata": {},
   "source": [
    "股票价格：arr = [7, 1, 5, 3, 6, 4]\n",
    "\n",
    "收入最高：arr[4] - arr[1] = 6 - 1 = 5"
   ]
  },
  {
   "cell_type": "code",
   "execution_count": 36,
   "metadata": {},
   "outputs": [
    {
     "data": {
      "text/plain": [
       "5"
      ]
     },
     "execution_count": 36,
     "metadata": {},
     "output_type": "execute_result"
    }
   ],
   "source": [
    "def maxprofit(price):\n",
    "    size = len(price)\n",
    "    minval = price[0]\n",
    "    dp = [0] * size\n",
    "    for i in range(1, size):\n",
    "        if price[i] < minval:\n",
    "            minval = price[i]\n",
    "        dp[i] = max(dp[i-1], price[i] - minval)\n",
    "    return dp[i]\n",
    "\n",
    "price = [7, 1, 5, 3, 6, 4]\n",
    "maxprofit(price)"
   ]
  },
  {
   "cell_type": "code",
   "execution_count": null,
   "metadata": {},
   "outputs": [],
   "source": []
  }
 ],
 "metadata": {
  "kernelspec": {
   "display_name": "Python 3",
   "language": "python",
   "name": "python3"
  },
  "language_info": {
   "codemirror_mode": {
    "name": "ipython",
    "version": 3
   },
   "file_extension": ".py",
   "mimetype": "text/x-python",
   "name": "python",
   "nbconvert_exporter": "python",
   "pygments_lexer": "ipython3",
   "version": "3.7.3"
  },
  "toc": {
   "base_numbering": 1,
   "nav_menu": {},
   "number_sections": true,
   "sideBar": true,
   "skip_h1_title": false,
   "title_cell": "Table of Contents",
   "title_sidebar": "Contents",
   "toc_cell": false,
   "toc_position": {},
   "toc_section_display": true,
   "toc_window_display": false
  }
 },
 "nbformat": 4,
 "nbformat_minor": 2
}
