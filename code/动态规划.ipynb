{
 "cells": [
  {
   "cell_type": "markdown",
   "metadata": {},
   "source": [
    "# 动态规划(Dynamic Programming)"
   ]
  },
  {
   "cell_type": "code",
   "execution_count": null,
   "metadata": {},
   "outputs": [],
   "source": []
  },
  {
   "cell_type": "markdown",
   "metadata": {},
   "source": [
    "## 0 - 1 背包问题"
   ]
  },
  {
   "cell_type": "markdown",
   "metadata": {},
   "source": [
    "### 只考虑重量"
   ]
  },
  {
   "cell_type": "code",
   "execution_count": 19,
   "metadata": {},
   "outputs": [
    {
     "name": "stdout",
     "output_type": "stream",
     "text": [
      "9\n"
     ]
    }
   ],
   "source": [
    "# 方法一：二维数组\n",
    "def knapsack(weight, n, w):\n",
    "    state = [[False]*(w+1) for i in range(n)]\n",
    "    state[0][0] = True\n",
    "    if weight[0] <= w:\n",
    "        state[0][weight[0]] = True\n",
    "    for i in range(1, n):\n",
    "        for j in range(w+1): # 第 i 个物品不放入\n",
    "            if state[i-1][j] == True:\n",
    "                state[i][j] = state[i-1][j]\n",
    "        for j in range(w-weight[i]+1): # 第 i 个物品放入\n",
    "            if state[i-1][j] == True:\n",
    "                state[i][j+weight[i]] = True\n",
    "    for i in range(w, -1, -1):\n",
    "        if state[n-1][i] == True:\n",
    "            return i\n",
    "        \n",
    "weight = [2, 2, 4, 6, 3] # 物品重量\n",
    "w = 9 # 背包最大承重\n",
    "print(knapsack(weight, len(weight), w))"
   ]
  },
  {
   "cell_type": "code",
   "execution_count": 16,
   "metadata": {},
   "outputs": [
    {
     "name": "stdout",
     "output_type": "stream",
     "text": [
      "[True, False, True, False, True, False, False, False, False, False]\n",
      "[True, False, True, False, True, False, True, False, True, False]\n",
      "[True, False, True, False, True, False, True, False, True, False]\n",
      "[True, False, True, True, True, True, True, True, True, True]\n",
      "9\n"
     ]
    }
   ],
   "source": [
    "# 方法二：一位数组\n",
    "def knapsack2(weight, n, limit):\n",
    "    state = [False] * (limit + 1)\n",
    "    state[0] = True\n",
    "    if state[weight[0]] <= limit:\n",
    "        state[weight[0]] = True\n",
    "    for i in range(1, n):\n",
    "        for j in range(limit-weight[i], -1, -1):\n",
    "            if state[j] == True:\n",
    "                state[j+weight[i]] = True\n",
    "        print(state)\n",
    "                \n",
    "    for i in range(limit, -1, -1):\n",
    "        if state[i] == True:\n",
    "            return i\n",
    "\n",
    "weight = [2, 2, 4, 6, 3] # 物品重量\n",
    "w = 9 # 背包最大承重\n",
    "print(knapsack2(weight, len(weight), w))"
   ]
  },
  {
   "cell_type": "markdown",
   "metadata": {},
   "source": [
    "### 考虑重量和价格"
   ]
  },
  {
   "cell_type": "code",
   "execution_count": 36,
   "metadata": {},
   "outputs": [
    {
     "name": "stdout",
     "output_type": "stream",
     "text": [
      "[[0, -1, -1, -1, 8, -1, -1, -1, -1, -1, -1, -1, -1], [0, -1, -1, -1, 8, -1, 10, -1, -1, -1, 18, -1, -1], [0, -1, 6, -1, 8, -1, 14, -1, 16, -1, 18, -1, 24], [0, -1, 6, -1, 9, -1, 14, -1, 17, -1, 19, -1, 24], [0, -1, 6, -1, 9, 7, 14, 13, 17, 16, 19, 21, 24], [0, 2, 6, 8, 9, 11, 14, 16, 17, 19, 19, 21, 24]]\n",
      "24\n"
     ]
    }
   ],
   "source": [
    "def knapsack3(weight, value, n, limit):\n",
    "    state = [[-1]*(limit+1) for i in range(n)]\n",
    "    state[0][0] = 0\n",
    "    if state[0][weight[0]] <= limit:\n",
    "        state[0][weight[0]] = value[0]\n",
    "        \n",
    "    for i in range(1, n):\n",
    "        for j in range(limit+1): # 不放第 i 个物品\n",
    "            if state[i-1][j] >= 0:\n",
    "                state[i][j] = state[i-1][j]\n",
    "        for j in range(limit-weight[i]+1):\n",
    "            if state[i-1][j] >= 0:\n",
    "                state[i][j+weight[i]] = max(state[i-1][j]+value[i], state[i-1][j+weight[i]])\n",
    "    maxval = -1\n",
    "    for i in range(limit, -1, -1):\n",
    "        if state[n-1][i] > maxval:\n",
    "            maxval = state[n-1][i]\n",
    "    print(state)\n",
    "    return maxval\n",
    "            \n",
    "weight = [4,6,2,2,5,1]\n",
    "value = [8,10,6,3,7,2]\n",
    "limit = 12\n",
    "print(knapsack3(weight, value, len(weight), limit))"
   ]
  },
  {
   "cell_type": "code",
   "execution_count": 28,
   "metadata": {},
   "outputs": [
    {
     "name": "stdout",
     "output_type": "stream",
     "text": [
      "[1, 2, 3]\n",
      "24\n",
      "[8, 10, 6]\n",
      "[[0, 0, 0, 0, 0, 0, 0, 0, 0, 0, 0, 0, 0], [0, 0, 0, 0, 8, 8, 8, 8, 8, 8, 8, 8, 8], [0, 0, 0, 0, 8, 8, 10, 10, 10, 10, 18, 18, 18], [0, 0, 6, 6, 8, 8, 14, 14, 16, 16, 18, 18, 24], [0, 0, 6, 6, 9, 9, 14, 14, 17, 17, 19, 19, 24], [0, 0, 6, 6, 9, 9, 14, 14, 17, 17, 19, 21, 24], [0, 2, 6, 8, 9, 11, 14, 16, 17, 19, 19, 21, 24]]\n"
     ]
    }
   ],
   "source": [
    "v = [0,8,10,6,3,7,2]\n",
    "w = [0,4,6,2,2,5,1]\n",
    "\n",
    "n = len(v)\n",
    "limit = 12\n",
    "N = limit + 1\n",
    "value = [[0]*N for i in range(n)]\n",
    "for i in range(1, n):\n",
    "    for j in range(1, limit+1):\n",
    "        if j >= w[i]:\n",
    "            value[i][j] = max(value[i-1][j], value[i-1][j-w[i]]+v[i])\n",
    "        else:\n",
    "            value[i][j] = value[i-1][j]\n",
    "\n",
    "x = [0] * n\n",
    "for i in range(n-1, 1, -1):\n",
    "    if value[i][limit] == value[i-1][limit]:\n",
    "        x[i] = 0\n",
    "    else:\n",
    "        x[i] = 1\n",
    "        limit -= w[i]\n",
    "x[1] = 1 if value[1][limit] > 0 else 0\n",
    "\n",
    "index = [i for i, val in enumerate(x) if val == 1] # 获取元素为 1 的所有下标\n",
    "print(index)\n",
    "\n",
    "print(max(max(value)))\n",
    "pos = [v[i] for i in index]\n",
    "print(pos)\n",
    "print(value)"
   ]
  }
 ],
 "metadata": {
  "kernelspec": {
   "display_name": "Python 3",
   "language": "python",
   "name": "python3"
  },
  "language_info": {
   "codemirror_mode": {
    "name": "ipython",
    "version": 3
   },
   "file_extension": ".py",
   "mimetype": "text/x-python",
   "name": "python",
   "nbconvert_exporter": "python",
   "pygments_lexer": "ipython3",
   "version": "3.7.3"
  },
  "toc": {
   "base_numbering": 1,
   "nav_menu": {},
   "number_sections": true,
   "sideBar": true,
   "skip_h1_title": false,
   "title_cell": "Table of Contents",
   "title_sidebar": "Contents",
   "toc_cell": false,
   "toc_position": {},
   "toc_section_display": true,
   "toc_window_display": false
  }
 },
 "nbformat": 4,
 "nbformat_minor": 2
}
