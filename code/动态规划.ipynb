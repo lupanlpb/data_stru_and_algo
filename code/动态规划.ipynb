{
 "cells": [
  {
   "cell_type": "markdown",
   "metadata": {},
   "source": [
    "# 动态规划(Dynamic Programming)"
   ]
  },
  {
   "cell_type": "code",
   "execution_count": null,
   "metadata": {},
   "outputs": [],
   "source": []
  },
  {
   "cell_type": "markdown",
   "metadata": {},
   "source": [
    "## 0 - 1 背包问题"
   ]
  },
  {
   "cell_type": "markdown",
   "metadata": {},
   "source": [
    "### 只考虑重量"
   ]
  },
  {
   "cell_type": "code",
   "execution_count": 19,
   "metadata": {},
   "outputs": [
    {
     "name": "stdout",
     "output_type": "stream",
     "text": [
      "9\n"
     ]
    }
   ],
   "source": [
    "# 方法一：二维数组\n",
    "def knapsack(weight, n, w):\n",
    "    state = [[False]*(w+1) for i in range(n)]\n",
    "    state[0][0] = True\n",
    "    if weight[0] <= w:\n",
    "        state[0][weight[0]] = True\n",
    "    for i in range(1, n):\n",
    "        for j in range(w+1): # 第 i 个物品不放入\n",
    "            if state[i-1][j] == True:\n",
    "                state[i][j] = state[i-1][j]\n",
    "        for j in range(w-weight[i]+1): # 第 i 个物品放入\n",
    "            if state[i-1][j] == True:\n",
    "                state[i][j+weight[i]] = True\n",
    "    for i in range(w, -1, -1):\n",
    "        if state[n-1][i] == True:\n",
    "            return i\n",
    "        \n",
    "weight = [2, 2, 4, 6, 3] # 物品重量\n",
    "w = 9 # 背包最大承重\n",
    "print(knapsack(weight, len(weight), w))"
   ]
  },
  {
   "cell_type": "code",
   "execution_count": 16,
   "metadata": {},
   "outputs": [
    {
     "name": "stdout",
     "output_type": "stream",
     "text": [
      "[True, False, True, False, True, False, False, False, False, False]\n",
      "[True, False, True, False, True, False, True, False, True, False]\n",
      "[True, False, True, False, True, False, True, False, True, False]\n",
      "[True, False, True, True, True, True, True, True, True, True]\n",
      "9\n"
     ]
    }
   ],
   "source": [
    "# 方法二：一位数组\n",
    "def knapsack2(weight, n, limit):\n",
    "    state = [False] * (limit + 1)\n",
    "    state[0] = True\n",
    "    if state[weight[0]] <= limit:\n",
    "        state[weight[0]] = True\n",
    "    for i in range(1, n):\n",
    "        for j in range(limit-weight[i], -1, -1):\n",
    "            if state[j] == True:\n",
    "                state[j+weight[i]] = True\n",
    "        print(state)\n",
    "                \n",
    "    for i in range(limit, -1, -1):\n",
    "        if state[i] == True:\n",
    "            return i\n",
    "\n",
    "weight = [2, 2, 4, 6, 3] # 物品重量\n",
    "w = 9 # 背包最大承重\n",
    "print(knapsack2(weight, len(weight), w))"
   ]
  },
  {
   "cell_type": "markdown",
   "metadata": {},
   "source": [
    "### 考虑重量和价格"
   ]
  },
  {
   "cell_type": "code",
   "execution_count": 36,
   "metadata": {},
   "outputs": [
    {
     "name": "stdout",
     "output_type": "stream",
     "text": [
      "[[0, -1, -1, -1, 8, -1, -1, -1, -1, -1, -1, -1, -1], [0, -1, -1, -1, 8, -1, 10, -1, -1, -1, 18, -1, -1], [0, -1, 6, -1, 8, -1, 14, -1, 16, -1, 18, -1, 24], [0, -1, 6, -1, 9, -1, 14, -1, 17, -1, 19, -1, 24], [0, -1, 6, -1, 9, 7, 14, 13, 17, 16, 19, 21, 24], [0, 2, 6, 8, 9, 11, 14, 16, 17, 19, 19, 21, 24]]\n",
      "24\n"
     ]
    }
   ],
   "source": [
    "def knapsack3(weight, value, n, limit):\n",
    "    state = [[-1]*(limit+1) for i in range(n)]\n",
    "    state[0][0] = 0\n",
    "    if state[0][weight[0]] <= limit:\n",
    "        state[0][weight[0]] = value[0]\n",
    "        \n",
    "    for i in range(1, n):\n",
    "        for j in range(limit+1): # 不放第 i 个物品\n",
    "            if state[i-1][j] >= 0:\n",
    "                state[i][j] = state[i-1][j]\n",
    "        for j in range(limit-weight[i]+1):\n",
    "            if state[i-1][j] >= 0:\n",
    "                state[i][j+weight[i]] = max(state[i-1][j]+value[i], state[i-1][j+weight[i]])\n",
    "    maxval = -1\n",
    "    for i in range(limit, -1, -1):\n",
    "        if state[n-1][i] > maxval:\n",
    "            maxval = state[n-1][i]\n",
    "    print(state)\n",
    "    return maxval\n",
    "            \n",
    "weight = [4,6,2,2,5,1]\n",
    "value = [8,10,6,3,7,2]\n",
    "limit = 12\n",
    "print(knapsack3(weight, value, len(weight), limit))"
   ]
  },
  {
   "cell_type": "code",
   "execution_count": 28,
   "metadata": {},
   "outputs": [
    {
     "name": "stdout",
     "output_type": "stream",
     "text": [
      "[1, 2, 3]\n",
      "24\n",
      "[8, 10, 6]\n",
      "[[0, 0, 0, 0, 0, 0, 0, 0, 0, 0, 0, 0, 0], [0, 0, 0, 0, 8, 8, 8, 8, 8, 8, 8, 8, 8], [0, 0, 0, 0, 8, 8, 10, 10, 10, 10, 18, 18, 18], [0, 0, 6, 6, 8, 8, 14, 14, 16, 16, 18, 18, 24], [0, 0, 6, 6, 9, 9, 14, 14, 17, 17, 19, 19, 24], [0, 0, 6, 6, 9, 9, 14, 14, 17, 17, 19, 21, 24], [0, 2, 6, 8, 9, 11, 14, 16, 17, 19, 19, 21, 24]]\n"
     ]
    }
   ],
   "source": [
    "v = [0,8,10,6,3,7,2]\n",
    "w = [0,4,6,2,2,5,1]\n",
    "\n",
    "n = len(v)\n",
    "limit = 12\n",
    "N = limit + 1\n",
    "value = [[0]*N for i in range(n)]\n",
    "for i in range(1, n):\n",
    "    for j in range(1, limit+1):\n",
    "        if j >= w[i]:\n",
    "            value[i][j] = max(value[i-1][j], value[i-1][j-w[i]]+v[i])\n",
    "        else:\n",
    "            value[i][j] = value[i-1][j]\n",
    "\n",
    "x = [0] * n\n",
    "for i in range(n-1, 1, -1):\n",
    "    if value[i][limit] == value[i-1][limit]:\n",
    "        x[i] = 0\n",
    "    else:\n",
    "        x[i] = 1\n",
    "        limit -= w[i]\n",
    "x[1] = 1 if value[1][limit] > 0 else 0\n",
    "\n",
    "index = [i for i, val in enumerate(x) if val == 1] # 获取元素为 1 的所有下标\n",
    "print(index)\n",
    "\n",
    "print(max(max(value)))\n",
    "pos = [v[i] for i in index]\n",
    "print(pos)\n",
    "print(value)"
   ]
  },
  {
   "cell_type": "markdown",
   "metadata": {},
   "source": [
    "## 凑数问题"
   ]
  },
  {
   "cell_type": "markdown",
   "metadata": {},
   "source": [
    "### 找零钱\n",
    "因为面值中包括 1，所以肯定找的开。"
   ]
  },
  {
   "cell_type": "code",
   "execution_count": 8,
   "metadata": {},
   "outputs": [
    {
     "name": "stdout",
     "output_type": "stream",
     "text": [
      "20\n"
     ]
    }
   ],
   "source": [
    "def minChange(money):\n",
    "    dp = [-1] * (money + 1)\n",
    "    dp[1], dp[2], dp[3], dp[4], dp[5] = 1, 2, 1, 2, 1\n",
    "    for i in range(6, money+1):\n",
    "        dp[i] = 1 + min(dp[i-1], dp[i-3], dp[i-5])\n",
    "    return dp[money]\n",
    "\n",
    "print(minChange(100))"
   ]
  },
  {
   "cell_type": "markdown",
   "metadata": {},
   "source": [
    "### 买钉子\n",
    "钉子数 1 <= n <= 200，钉子只有两种包装，一种一盒 4 个， 一种一盒 9 个，不能零卖，求最小的盒数，刚好买够 n 个钉子，如果没有输出 -1。\n",
    "因为只有 4 颗装和 9 颗装，所以有可能不能正好凑够 n。"
   ]
  },
  {
   "cell_type": "code",
   "execution_count": 18,
   "metadata": {},
   "outputs": [
    {
     "name": "stdout",
     "output_type": "stream",
     "text": [
      "25\n"
     ]
    }
   ],
   "source": [
    "def minNum(n):\n",
    "    dp = [-1] * (n + 1)\n",
    "    dp[4] = 1\n",
    "    dp[8] = 2\n",
    "    dp[9] = 1\n",
    "    for i in range(10, n+1):\n",
    "        if dp[i-4] > 0 and dp[i-9] > 0:\n",
    "            dp[i] = min(dp[i-4], dp[i-9]) + 1\n",
    "        elif dp[i-4] > 0 and dp[i-9] < 0:\n",
    "            dp[i] = dp[i-4] + 1\n",
    "        elif dp[i-4] < 0 and dp[i-9] > 0:\n",
    "            dp[i] = dp[i-9] + 1\n",
    "        else:\n",
    "            dp[i] = -1\n",
    "    return dp[n]\n",
    "\n",
    "print(minNum(200))"
   ]
  },
  {
   "cell_type": "markdown",
   "metadata": {},
   "source": [
    "## 最长回文子串"
   ]
  },
  {
   "cell_type": "code",
   "execution_count": 59,
   "metadata": {},
   "outputs": [
    {
     "name": "stdout",
     "output_type": "stream",
     "text": [
      "(5, 'dabad')\n"
     ]
    }
   ],
   "source": [
    "def maxPalindrome(s):\n",
    "    n = len(s)\n",
    "    if n < 2: return n\n",
    "    dp = [[False] * n for  i in range(n)]\n",
    "    maxlens = 0\n",
    "    result = \"\"\n",
    "    for lens in range(n):\n",
    "        for i in range(n-lens):\n",
    "            j = i + lens\n",
    "            if lens < 2:\n",
    "                dp[i][j] = s[i] == s[j]\n",
    "            else:\n",
    "                dp[i][j] = dp[i+1][j-1] and s[i] == s[j]\n",
    "            if dp[i][j] and maxlens < lens + 1:\n",
    "                maxlens = lens + 1\n",
    "                result = s[i:j+1]\n",
    "    return maxlens, result\n",
    "\n",
    "s = \"dabadd\"\n",
    "print(maxPalindrome(s))"
   ]
  },
  {
   "cell_type": "markdown",
   "metadata": {},
   "source": [
    "# 股票收入最高"
   ]
  },
  {
   "cell_type": "markdown",
   "metadata": {},
   "source": [
    "股票价格：arr = [7, 1, 5, 3, 6, 4]\n",
    "\n",
    "收入最高：arr[4] - arr[1] = 6 - 1 = 5"
   ]
  },
  {
   "cell_type": "code",
   "execution_count": 60,
   "metadata": {},
   "outputs": [
    {
     "name": "stdout",
     "output_type": "stream",
     "text": [
      "5\n"
     ]
    }
   ],
   "source": [
    "def maxprofit(price):\n",
    "    minval = price[0]\n",
    "    size = len(price)\n",
    "    dp = [0] * size\n",
    "    for i in range(1, size):\n",
    "        if price[i] < minval:\n",
    "            minval = price[i]\n",
    "        dp[i] = max(dp[i-1], price[i] - minval)\n",
    "    return dp[size-1]\n",
    "\n",
    "price = [7, 1, 5, 3, 6, 4]\n",
    "print(maxprofit(price))"
   ]
  },
  {
   "cell_type": "markdown",
   "metadata": {},
   "source": [
    "# 散步：可能的终点个数"
   ]
  },
  {
   "cell_type": "code",
   "execution_count": 63,
   "metadata": {},
   "outputs": [
    {
     "name": "stdout",
     "output_type": "stream",
     "text": [
      "10 3\n",
      "5\n",
      "2\n",
      "6\n",
      "8\n"
     ]
    }
   ],
   "source": [
    "def numOfEnd(n, m, dist):\n",
    "    dp1 = [1] * (n+1)\n",
    "    dp2 = [0] * (n+1)\n",
    "    for i in range(m):\n",
    "        for j in range(1, n+1):\n",
    "            dp2[j] = 0\n",
    "        for j in range(1, n+1):\n",
    "            if dp1[j] == 1 and j + dist[i] <= n:\n",
    "                dp2[j + dist[i]] = 1\n",
    "            if dp1[j] == 1 and j - dist[i] >= 1:\n",
    "                dp2[j - dist[i]] = 1\n",
    "        dp1 = dp2[:]\n",
    "        \n",
    "    num = 0\n",
    "    for i in range(1, n+1):\n",
    "        if dp2[i] == 1:\n",
    "            num += 1\n",
    "    return num\n",
    "\n",
    "n, m = map(int, input().split())\n",
    "dist = []\n",
    "for i in range(m):\n",
    "    dist.append(int(input()))\n",
    "print(numOfEnd(n, m, dist))"
   ]
  },
  {
   "cell_type": "markdown",
   "metadata": {},
   "source": [
    "# 最大子序列和"
   ]
  },
  {
   "cell_type": "markdown",
   "metadata": {},
   "source": [
    "给定一个整数数组 nums ，找到一个具有最大和的连续子数组（子数组最少包含一个元素），返回其最大和。\n",
    "\n",
    "示例:\n",
    "\n",
    "输入: [-2,1,-3,4,-1,2,1,-5,4]\n",
    "\n",
    "输出: 6\n",
    "\n",
    "解释: 连续子数组 [4,-1,2,1] 的和最大，为 6。"
   ]
  },
  {
   "cell_type": "code",
   "execution_count": 64,
   "metadata": {},
   "outputs": [],
   "source": [
    "from typing import List\n",
    "class Solution:\n",
    "    def maxSubArray(self, nums: List[int]) -> int:\n",
    "        size = len(nums)\n",
    "        dp = [0] * size # dp 存储的是当前 [0...i] 的子序列最大和\n",
    "        dp[0] = nums[0]\n",
    "        for i in range(1, size):\n",
    "            dp[i] = max(dp[i-1] + nums[i], nums[i])\n",
    "        \n",
    "        maxsum = float(\"-inf\")\n",
    "        for i in range(size):\n",
    "            if dp[i] > maxsum:\n",
    "                maxsum = dp[i]\n",
    "        return maxsum"
   ]
  },
  {
   "cell_type": "code",
   "execution_count": null,
   "metadata": {},
   "outputs": [],
   "source": []
  }
 ],
 "metadata": {
  "kernelspec": {
   "display_name": "Python 3",
   "language": "python",
   "name": "python3"
  },
  "language_info": {
   "codemirror_mode": {
    "name": "ipython",
    "version": 3
   },
   "file_extension": ".py",
   "mimetype": "text/x-python",
   "name": "python",
   "nbconvert_exporter": "python",
   "pygments_lexer": "ipython3",
   "version": "3.7.3"
  },
  "toc": {
   "base_numbering": 1,
   "nav_menu": {},
   "number_sections": true,
   "sideBar": true,
   "skip_h1_title": false,
   "title_cell": "Table of Contents",
   "title_sidebar": "Contents",
   "toc_cell": false,
   "toc_position": {},
   "toc_section_display": true,
   "toc_window_display": false
  }
 },
 "nbformat": 4,
 "nbformat_minor": 2
}
