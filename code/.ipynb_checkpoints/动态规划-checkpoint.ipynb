{
 "cells": [
  {
   "cell_type": "markdown",
   "metadata": {},
   "source": [
    "# 动态规划(Dynamic Programming)"
   ]
  },
  {
   "cell_type": "code",
   "execution_count": null,
   "metadata": {},
   "outputs": [],
   "source": []
  },
  {
   "cell_type": "markdown",
   "metadata": {},
   "source": [
    "## 0 - 1 背包问题"
   ]
  },
  {
   "cell_type": "code",
   "execution_count": 26,
   "metadata": {},
   "outputs": [
    {
     "name": "stdout",
     "output_type": "stream",
     "text": [
      "[1, 2, 3]\n",
      "24\n",
      "[8, 10, 6]\n"
     ]
    }
   ],
   "source": [
    "v = [0,8,10,6,3,7,2]\n",
    "w = [0,4,6,2,2,5,1]\n",
    "\n",
    "n = len(v)\n",
    "limit = 12\n",
    "N = limit + 1\n",
    "value = [[0]*N for i in range(N)]\n",
    "for i in range(1, n):\n",
    "    for j in range(1, limit+1):\n",
    "        if j >= w[i]:\n",
    "            value[i][j] = max(value[i-1][j], value[i-1][j-w[i]]+v[i])\n",
    "        else:\n",
    "            value[i][j] = value[i-1][j]\n",
    "\n",
    "x = [0] * n\n",
    "for i in range(n-1, 1, -1):\n",
    "    if value[i][limit] == value[i-1][limit]:\n",
    "        x[i] = 0\n",
    "    else:\n",
    "        x[i] = 1\n",
    "        limit -= w[i]\n",
    "x[1] = 1 if value[1][limit] > 0 else 0\n",
    "\n",
    "index = [i for i, val in enumerate(x) if val == 1] # 获取元素为 1 的所有下标\n",
    "print(index)\n",
    "\n",
    "print(max(max(value)))\n",
    "pos = [v[i] for i in index]\n",
    "print(pos)"
   ]
  }
 ],
 "metadata": {
  "kernelspec": {
   "display_name": "Python 3",
   "language": "python",
   "name": "python3"
  },
  "language_info": {
   "codemirror_mode": {
    "name": "ipython",
    "version": 3
   },
   "file_extension": ".py",
   "mimetype": "text/x-python",
   "name": "python",
   "nbconvert_exporter": "python",
   "pygments_lexer": "ipython3",
   "version": "3.7.3"
  },
  "toc": {
   "base_numbering": 1,
   "nav_menu": {},
   "number_sections": true,
   "sideBar": true,
   "skip_h1_title": false,
   "title_cell": "Table of Contents",
   "title_sidebar": "Contents",
   "toc_cell": false,
   "toc_position": {},
   "toc_section_display": true,
   "toc_window_display": false
  }
 },
 "nbformat": 4,
 "nbformat_minor": 2
}
