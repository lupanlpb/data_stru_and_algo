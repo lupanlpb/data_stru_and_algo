{
 "cells": [
  {
   "cell_type": "markdown",
   "metadata": {},
   "source": [
    "# 冒泡排序"
   ]
  },
  {
   "cell_type": "code",
   "execution_count": 35,
   "metadata": {},
   "outputs": [
    {
     "name": "stdout",
     "output_type": "stream",
     "text": [
      "[-2, 0, 1, 2, 3, 4, 5, 6, 6, 7, 8, 9, 10]\n"
     ]
    }
   ],
   "source": [
    "def bubbleSort(arr):\n",
    "    n = len(arr)\n",
    "    for i in range(n-1):\n",
    "        for j in range(n - 1 - i):\n",
    "            if arr[j] > arr[j+1]:\n",
    "                arr[j], arr[j+1] = arr[j+1], arr[j]\n",
    "\n",
    "arr = [6, 3, 4, 0, 9, 2, 7, 5, -2, 8, 1, 6, 10]\n",
    "bubbleSort(arr)\n",
    "print(arr)"
   ]
  },
  {
   "cell_type": "markdown",
   "metadata": {},
   "source": [
    "# 短路冒泡排序"
   ]
  },
  {
   "cell_type": "code",
   "execution_count": 40,
   "metadata": {},
   "outputs": [
    {
     "name": "stdout",
     "output_type": "stream",
     "text": [
      "[-2, 0, 1, 2, 3, 4, 5, 6, 6, 7, 8, 9, 10]\n"
     ]
    }
   ],
   "source": [
    "def shortBubbleSort(arr):\n",
    "    n = len(arr) - 1\n",
    "    swap = True\n",
    "    while n > 0 and swap:\n",
    "        swap = False\n",
    "        for j in range(n):\n",
    "            if arr[j] > arr[j+1]:\n",
    "                swap = True\n",
    "                arr[j], arr[j+1] = arr[j+1], arr[j]\n",
    "        n -= 1\n",
    "        \n",
    "arr = [6, 3, 4, 0, 9, 2, 7, 5, -2, 8, 1, 6, 10]\n",
    "shortBubbleSort(arr)\n",
    "print(arr)"
   ]
  },
  {
   "cell_type": "markdown",
   "metadata": {},
   "source": [
    "# 选择排序"
   ]
  },
  {
   "cell_type": "code",
   "execution_count": 41,
   "metadata": {},
   "outputs": [
    {
     "name": "stdout",
     "output_type": "stream",
     "text": [
      "[-2, 0, 1, 2, 3, 4, 5, 6, 6, 7, 8, 9, 10]\n"
     ]
    }
   ],
   "source": [
    "def selectSort(arr):\n",
    "    n = len(arr)\n",
    "    for i in range(n-1):\n",
    "        pos = i\n",
    "        for j in range(i+1, n):\n",
    "            if arr[pos] > arr[j]:\n",
    "                pos = j\n",
    "        arr[pos], arr[i] = arr[i], arr[pos]\n",
    "            \n",
    "arr = [6, 3, 4, 0, 9, 2, 7, 5, -2, 8, 1, 6, 10]\n",
    "selectSort(arr)\n",
    "print(arr)"
   ]
  },
  {
   "cell_type": "markdown",
   "metadata": {},
   "source": [
    "# 插入排序"
   ]
  },
  {
   "cell_type": "code",
   "execution_count": 51,
   "metadata": {},
   "outputs": [
    {
     "name": "stdout",
     "output_type": "stream",
     "text": [
      "[-2, 0, 1, 2, 3, 4, 5, 6, 6, 7, 8, 9, 10]\n"
     ]
    }
   ],
   "source": [
    "def insertSort(arr):\n",
    "    n = len(arr)\n",
    "    for i in range(n):\n",
    "        pos = i\n",
    "        curr_value = arr[i]\n",
    "        while pos > 0 and curr_value < arr[pos-1]:\n",
    "            arr[pos] = arr[pos-1]\n",
    "            pos -= 1\n",
    "        arr[pos] = curr_value\n",
    "\n",
    "arr = [6, 3, 4, 0, 9, 2, 7, 5, -2, 8, 1, 6, 10]\n",
    "insertSort(arr)\n",
    "print(arr)"
   ]
  },
  {
   "cell_type": "markdown",
   "metadata": {},
   "source": [
    "# 快速排序"
   ]
  },
  {
   "cell_type": "code",
   "execution_count": 58,
   "metadata": {},
   "outputs": [
    {
     "name": "stdout",
     "output_type": "stream",
     "text": [
      "[-2, 0, 1, 2, 3, 4, 5, 6, 6, 7, 8, 9, 10]\n"
     ]
    }
   ],
   "source": [
    "def quickSort(arr, left, right):\n",
    "    if left < right:\n",
    "        mid = partition(arr, left, right)\n",
    "        quickSort(arr, left, mid-1)\n",
    "        quickSort(arr, mid+1, right)\n",
    "    \n",
    "def partition(arr, pl, pr):\n",
    "    pivot = arr[pl]\n",
    "    while pl < pr:\n",
    "        while pl < pr and pivot <= arr[pr]:\n",
    "            pr -= 1\n",
    "        if pl == pr:\n",
    "            break\n",
    "        else:\n",
    "            arr[pl], arr[pr] = arr[pr], arr[pl]\n",
    "        \n",
    "        while pl < pr and pivot >= arr[pl]:\n",
    "            pl += 1\n",
    "        if pl == pr:\n",
    "            break\n",
    "        else:\n",
    "            arr[pl], arr[pr] = arr[pr], arr[pl]\n",
    "    return pl\n",
    "            \n",
    "arr = [6, 3, 4, 0, 9, 2, 7, 5, -2, 8, 1, 6, 10]\n",
    "quickSort(arr, 0, len(arr) - 1)\n",
    "print(arr)"
   ]
  },
  {
   "cell_type": "markdown",
   "metadata": {},
   "source": [
    "## 利用快速排序寻找第 K 大元素"
   ]
  },
  {
   "cell_type": "markdown",
   "metadata": {},
   "source": [
    "利用快速排序思想在 $O(n)$ 时间内查找第 K 大元素<font color=#dd00dd>(不包括重复元素)</font>：\n",
    "\n",
    "从数组 arr 中随机找出一个元素 pivot，把数组分为三部分： arr[0:p] + arr[p] + arr[p+1:n]:\n",
    "1. 如果 K = p + 1，那么第 K 大元素就是 arr[p]\n",
    "2. 如果 K > p + 1，说明第 K 大元素在 arr[p+1:n] 范围内，我们就按照上面的思路进行递归查找\n",
    "3. 反之，在 arr[0:p] 范围内递归查找"
   ]
  },
  {
   "cell_type": "code",
   "execution_count": 43,
   "metadata": {},
   "outputs": [
    {
     "name": "stdout",
     "output_type": "stream",
     "text": [
      "-2\n",
      "[-2, 0, 1, 4, 3, 2, 5, 6, 7, 8, 9, 6, 10]\n"
     ]
    }
   ],
   "source": [
    "def findKth(arr, k):\n",
    "    left = 0\n",
    "    right = len(arr) - 1\n",
    "    index = partition(arr, left, right)\n",
    "    while index + 1 != k:\n",
    "        if index + 1 >= len(arr): return\n",
    "        if index + 1 > k:\n",
    "            index = partition(arr, left, index - 1)\n",
    "        else:\n",
    "            index = partition(arr, index + 1, right)\n",
    "    return arr[index]\n",
    "\n",
    "def partition(arr, pl, pr):\n",
    "    pivot = arr[pl]\n",
    "    while pl < pr:\n",
    "        while pl < pr and arr[pr] >= pivot:\n",
    "            pr -= 1\n",
    "        if pl == pr:\n",
    "            break\n",
    "        else:\n",
    "            arr[pl], arr[pr] = arr[pr], arr[pl]\n",
    "        \n",
    "        while pl < pr and arr[pl] <= pivot:\n",
    "            pl += 1\n",
    "        if pl == pr:\n",
    "            break\n",
    "        else:\n",
    "            arr[pl], arr[pr] = arr[pr], arr[pl]\n",
    "            \n",
    "    return pl\n",
    "\n",
    "arr = [6, 3, 4, 0, 9, 2, 7, 5, -2, 8, 1, 6, 10]\n",
    "k = 1\n",
    "print(findKth(arr, k))\n",
    "print(arr)"
   ]
  },
  {
   "cell_type": "markdown",
   "metadata": {},
   "source": [
    "## 奇数偶数排序"
   ]
  },
  {
   "cell_type": "code",
   "execution_count": 47,
   "metadata": {},
   "outputs": [],
   "source": [
    "# 方法一：插入排序思想，如果是奇数往前移直到遇到奇数，时间复杂度O(n^2)\n",
    "class Solution:\n",
    "    def reOrderArray(self, array):\n",
    "        # write code here\n",
    "        for i in range(1, len(array)):\n",
    "            if array[i] & 1 == 1:\n",
    "                pos = i\n",
    "                curr = array[i]\n",
    "                while 0 < pos and array[pos-1] & 1 == 0:\n",
    "                    array[pos] = array[pos-1]\n",
    "                    pos -= 1\n",
    "                array[pos] = curr\n",
    "        return array\n",
    "\n",
    "# 方法二：\n",
    "\"\"\"\"\n",
    "借鉴快速排序的思想，时间复杂度O(n)，空间复杂度O(1)\n",
    "\"\"\"\n",
    "class Solution:\n",
    "    def reOrderArray(self, a):\n",
    "        i, j = 0, len(a) - 1\n",
    "        while True:\n",
    "            while i < len(a) and a[i] & 1 == 0: i += 1\n",
    "            while j >= 0 and a[j] & 1 == 1: j -= 1\n",
    "            if i >= j: break\n",
    "            a[i], a[j] = a[j], a[i]\n",
    "        print(' '.join(map(str, a)))\n",
    "        "
   ]
  },
  {
   "cell_type": "markdown",
   "metadata": {},
   "source": [
    "# 数组中出现次数超过一半的数字"
   ]
  },
  {
   "cell_type": "code",
   "execution_count": null,
   "metadata": {},
   "outputs": [],
   "source": []
  },
  {
   "cell_type": "markdown",
   "metadata": {},
   "source": [
    "# 归并排序"
   ]
  },
  {
   "cell_type": "code",
   "execution_count": 72,
   "metadata": {},
   "outputs": [
    {
     "name": "stdout",
     "output_type": "stream",
     "text": [
      "[-2, 0, 1, 2, 3, 4, 5, 6, 6, 7, 8, 9, 10]\n"
     ]
    }
   ],
   "source": [
    "def mergeSort(arr, start, end):\n",
    "    if start < end:\n",
    "        mid = (start + end) // 2\n",
    "        mergeSort(arr, start, mid)\n",
    "        mergeSort(arr, mid+1, end)\n",
    "        merge(arr, start, mid, end)\n",
    "        \n",
    "def merge(arr, start, mid, end):\n",
    "    n1 = mid - start + 1\n",
    "    n2 = end - mid\n",
    "    left = []\n",
    "    right = []\n",
    "    for i in range(n1):\n",
    "        left.append(arr[start+i])\n",
    "    for j in range(n2):\n",
    "        right.append(arr[mid+1+j])\n",
    "    \n",
    "    i, j, k = 0, 0, start\n",
    "    while i < n1 and j < n2:\n",
    "        if left[i] <= right[j]:\n",
    "            arr[k] = left[i]\n",
    "            i += 1\n",
    "        else:\n",
    "            arr[k] = right[j]\n",
    "            j += 1\n",
    "        k += 1\n",
    "    while i < n1:\n",
    "        arr[k] = left[i]\n",
    "        i += 1\n",
    "        k += 1\n",
    "    while  j < n2:\n",
    "        arr[k] = right[j]\n",
    "        j += 1\n",
    "        k += 1\n",
    "        \n",
    "arr = [6, 3, 4, 0, 9, 2, 7, 5, -2, 8, 1, 6, 10]\n",
    "mergeSort(arr, 0, len(arr) - 1)\n",
    "print(arr)"
   ]
  },
  {
   "cell_type": "markdown",
   "metadata": {},
   "source": [
    "## 利用归并排序求逆序对个数"
   ]
  },
  {
   "cell_type": "code",
   "execution_count": 46,
   "metadata": {},
   "outputs": [],
   "source": [
    "# 归并排序思想，在合并的时候统计逆序数\n",
    "class Solution:\n",
    "    def InversePairs(self, data):\n",
    "        # write code here\n",
    "        if not data:\n",
    "            return 0\n",
    "        temp = [i for i in data]\n",
    "        return self.mergeSort(temp, data, 0, len(data)-1) % 1000000007\n",
    "       \n",
    "    def mergeSort(self, temp, data, low, high):\n",
    "        if low >= high:\n",
    "            temp[low] = data[low]\n",
    "            return 0\n",
    "        mid = (low + high) // 2\n",
    "        left = self.mergeSort(data, temp, low, mid)\n",
    "        right = self.mergeSort(data, temp, mid+1, high)\n",
    "           \n",
    "        count = 0\n",
    "        i = low\n",
    "        j = mid+1\n",
    "        k = low\n",
    "        while i <= mid and j <= high:\n",
    "            if data[i] <= data[j]:\n",
    "                temp[k] = data[i]\n",
    "                i += 1\n",
    "            else:\n",
    "                temp[k] = data[j]\n",
    "                count += mid-i+1\n",
    "                j += 1\n",
    "            k += 1\n",
    "        while i <= mid:\n",
    "            temp[k] = data[i]\n",
    "            i += 1\n",
    "            k += 1\n",
    "        while j <= high:\n",
    "            temp[k] = data[j]\n",
    "            j += 1\n",
    "            k += 1\n",
    "        return count + left + right"
   ]
  },
  {
   "cell_type": "markdown",
   "metadata": {},
   "source": [
    "# 堆排序"
   ]
  },
  {
   "cell_type": "markdown",
   "metadata": {},
   "source": [
    "**大顶堆**"
   ]
  },
  {
   "cell_type": "code",
   "execution_count": 85,
   "metadata": {},
   "outputs": [
    {
     "name": "stdout",
     "output_type": "stream",
     "text": [
      "[-2, 0, 1, 2, 3, 4, 5, 6, 6, 7, 8, 9, 10]\n"
     ]
    }
   ],
   "source": [
    "def heapSort(arr):\n",
    "    buildHeap(arr)\n",
    "    k = len(arr) - 1\n",
    "    while k > 0:\n",
    "        arr[0], arr[k] = arr[k], arr[0]\n",
    "        k -= 1\n",
    "        heapify(arr, k)\n",
    "\n",
    "def buildHeap(arr):\n",
    "    k = len(arr) // 2\n",
    "    for i in range(k, -1, -1):\n",
    "        heapify(arr, len(arr) - 1, i)\n",
    "\n",
    "def heapify(arr, lens, index = 0): # 下标从 0 开始\n",
    "    i = larger_index = index\n",
    "    while True:\n",
    "        left, right = i * 2 + 1, i * 2 + 2\n",
    "        if left <= lens and arr[i] < arr[left]:\n",
    "            larger_index = left\n",
    "        if right <= lens and arr[larger_index] < arr[right]:\n",
    "            larger_index = right\n",
    "        if larger_index == i:\n",
    "            break\n",
    "        arr[i], arr[larger_index] = arr[larger_index], arr[i]\n",
    "        i = larger_index\n",
    "    \n",
    "arr = [6, 3, 4, 0, 9, 2, 7, 5, -2, 8, 1, 6, 10]\n",
    "heapSort(arr)\n",
    "print(arr)"
   ]
  },
  {
   "cell_type": "markdown",
   "metadata": {},
   "source": [
    "# 二分法"
   ]
  },
  {
   "cell_type": "markdown",
   "metadata": {},
   "source": [
    "## 简单二分查找"
   ]
  },
  {
   "cell_type": "code",
   "execution_count": 45,
   "metadata": {},
   "outputs": [
    {
     "name": "stdout",
     "output_type": "stream",
     "text": [
      "True\n"
     ]
    }
   ],
   "source": [
    "def binarySearch1(alist, item):\n",
    "    head  = 0\n",
    "    tail = len(alist) - 1\n",
    "    found = False\n",
    "    while head <= tail and not found:\n",
    "        mid = (head + tail)//2\n",
    "        if alist[mid] == item:\n",
    "            found = True\n",
    "        elif alist[mid] < item:\n",
    "            head = mid + 1\n",
    "        else:\n",
    "            tail = mid - 1\n",
    "    return found          \n",
    "\n",
    "testlist = [0, 1, 2, 8, 13, 17, 19, 32, 42,]\n",
    "print(binarySearch1(testlist, 17))"
   ]
  },
  {
   "cell_type": "markdown",
   "metadata": {},
   "source": [
    "## 二分查找变形"
   ]
  },
  {
   "cell_type": "markdown",
   "metadata": {},
   "source": [
    "### 查找第一个值等于给定值的元素"
   ]
  },
  {
   "cell_type": "code",
   "execution_count": 48,
   "metadata": {},
   "outputs": [],
   "source": [
    "def binarySearch_first2(data, k):\n",
    "    low = 0\n",
    "    high = len(data) - 1\n",
    "    while low <= high:\n",
    "        mid = (low + high) // 2\n",
    "        if data[mid] < k:\n",
    "            low = mid + 1\n",
    "        elif data[mid] > k:\n",
    "            high = mid - 1\n",
    "        else:\n",
    "            if mid == low or data[mid - 1] != k: #当到list[0]或不为k的时候跳出函数\n",
    "                return mid\n",
    "            else:\n",
    "                high = mid - 1\n",
    "        return 0"
   ]
  },
  {
   "cell_type": "markdown",
   "metadata": {},
   "source": [
    "### 查找最后一个值等于给定值的元素"
   ]
  },
  {
   "cell_type": "code",
   "execution_count": 49,
   "metadata": {},
   "outputs": [],
   "source": [
    "def binarySearch_last2(data, k):\n",
    "    low = 0\n",
    "    high = len(data) - 1\n",
    "    while low <= high:\n",
    "        mid = (low + high) // 2\n",
    "        if data[mid] > k:\n",
    "            high = mid - 1\n",
    "        elif data[mid] < k:\n",
    "            low = mid + 1\n",
    "        else:\n",
    "            if mid == high or data[mid + 1] != k:\n",
    "                return mid\n",
    "            else:\n",
    "                low = mid + 1\n",
    "    return 0\n"
   ]
  },
  {
   "cell_type": "markdown",
   "metadata": {},
   "source": [
    "### 查找第一个大于等于给定值的元素"
   ]
  },
  {
   "cell_type": "code",
   "execution_count": 50,
   "metadata": {},
   "outputs": [],
   "source": [
    "def binarySearch_extension3(arr, obj):\n",
    "    '''\n",
    "    二分法查找变形三:查找第一个大于等于给定值的元素\n",
    "    '''\n",
    "    \n",
    "    head = 0\n",
    "    tail = len(arr) - 1\n",
    "    while head <= tail:\n",
    "        mid = (head + tail)//2\n",
    "        if arr[mid] < obj:\n",
    "            head = mid + 1\n",
    "        else:\n",
    "            if mid == 0 or arr[mid-1] < obj:\n",
    "                return mid\n",
    "            else:\n",
    "                tail = mid - 1\n",
    "    return 'All the value of element involed in array are small than obj!'"
   ]
  },
  {
   "cell_type": "markdown",
   "metadata": {},
   "source": [
    "### 查找最后一个小于等于给定值的元素"
   ]
  },
  {
   "cell_type": "code",
   "execution_count": 51,
   "metadata": {},
   "outputs": [],
   "source": [
    "def binarySearch_extension4(arr, obj):\n",
    "    '''\n",
    "    二分法查找变形四:查找最后一个小于等于给定值的元素\n",
    "    '''\n",
    "    head = 0\n",
    "    tail = len(arr) - 1\n",
    "    while head <= tail:\n",
    "        mid = (head + tail)//2\n",
    "        if arr[mid] > obj:\n",
    "            tail = mid - 1\n",
    "        else:\n",
    "            if mid == len(arr) - 1 or arr[mid+1] > obj:\n",
    "                return mid\n",
    "            else:\n",
    "                head = mid + 1\n",
    "    return 'All the value of element involed in array are great than obj!'\n"
   ]
  },
  {
   "cell_type": "markdown",
   "metadata": {},
   "source": [
    "# 两个栈实现队列"
   ]
  },
  {
   "cell_type": "code",
   "execution_count": 90,
   "metadata": {},
   "outputs": [],
   "source": [
    "class Solution:\n",
    "    def __init__(self):\n",
    "        self.stack1 = []\n",
    "        self.stack2 = []\n",
    "    def push(self, node):\n",
    "        self.stack1.append(node)\n",
    "    def pop(self):\n",
    "        if len(self.stack2) == 0:\n",
    "            while self.stack1:\n",
    "                self.stack2.append(self.stack1.pop())\n",
    "        return self.stack2.pop()"
   ]
  },
  {
   "cell_type": "markdown",
   "metadata": {},
   "source": [
    "# 两个队列实现栈"
   ]
  },
  {
   "cell_type": "code",
   "execution_count": 88,
   "metadata": {},
   "outputs": [
    {
     "name": "stdout",
     "output_type": "stream",
     "text": [
      "3\n",
      "5\n",
      "4\n"
     ]
    }
   ],
   "source": [
    "class Solution():\n",
    "    def __init__(self):\n",
    "        self.queue1 = []\n",
    "        self.queue2 = []\n",
    "\n",
    "    def push(self, value):\n",
    "        self.queue1.append(value)\n",
    "\n",
    "    def pop(self):\n",
    "        if len(self.queue1) == 0:\n",
    "            return None\n",
    "\n",
    "        while len(self.queue1) != 1:\n",
    "            self.queue2.append(self.queue1.pop(0))\n",
    "        self.queue1, self.queue2 = self.queue2, self.queue1\n",
    "        return self.queue2.pop()\n",
    "\n",
    "solution = Solution()\n",
    "solution.push(1)\n",
    "solution.push(2)\n",
    "solution.push(3)\n",
    "print(solution.pop())\n",
    "solution.push(4)\n",
    "solution.push(5)\n",
    "print(solution.pop())\n",
    "print(solution.pop())"
   ]
  },
  {
   "cell_type": "markdown",
   "metadata": {},
   "source": [
    "# 三数之和"
   ]
  },
  {
   "cell_type": "code",
   "execution_count": null,
   "metadata": {},
   "outputs": [],
   "source": []
  }
 ],
 "metadata": {
  "kernelspec": {
   "display_name": "Python 3",
   "language": "python",
   "name": "python3"
  },
  "language_info": {
   "codemirror_mode": {
    "name": "ipython",
    "version": 3
   },
   "file_extension": ".py",
   "mimetype": "text/x-python",
   "name": "python",
   "nbconvert_exporter": "python",
   "pygments_lexer": "ipython3",
   "version": "3.7.3"
  },
  "toc": {
   "base_numbering": 1,
   "nav_menu": {},
   "number_sections": true,
   "sideBar": true,
   "skip_h1_title": false,
   "title_cell": "Table of Contents",
   "title_sidebar": "Contents",
   "toc_cell": false,
   "toc_position": {},
   "toc_section_display": true,
   "toc_window_display": false
  }
 },
 "nbformat": 4,
 "nbformat_minor": 2
}
