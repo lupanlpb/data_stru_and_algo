{
 "cells": [
  {
   "cell_type": "markdown",
   "metadata": {},
   "source": [
    "# 回溯算法\n",
    "\n",
    "**概念：**根据百度百科定义：回溯法（探索与回溯法）是一种选优搜索法，又称为试探法，按选优条件向前搜索，以达到目标。但当探索到某一步时，发现原先选择并不优或达不到目标，就退回一步重新选择，这种走不通就退回再走的技术为回溯法，而满足回溯条件的某个状态的点称为”回溯点“。\n",
    "\n",
    "<img src='../images/回溯算法问答.png' width=700 />\n",
    "\n",
    "**基本思想：**在包含问题的所有解的解空间树中，按照深度优先搜索的策略，从根结点出发深度探索解空间树。当探索到某一结点时，要先判断该结点是否包含问题的解，如果包含，就从该结点出发继续探索下去，如果该结点不包含问题的解，则逐层向其祖先结点回溯。(其实回溯法就是对隐式图的深度优先搜索算法)。若用回溯法求问题的所有解时，要回溯到根，且根结点的所有可行的子树都要已被搜索遍才结束。而若使用回溯法求任一个解时，只要搜索到问题的一个解就可以结束。\n",
    "\n",
    "回溯算法实际上一个类似枚举的深度优先搜索尝试过程，主要是在搜索尝试过程中寻找问题的解，当发现已不满足求解条件时，就“回溯”返回（也就是递归返回），尝试别的路径。许多复杂的，规模较大的问题都可以使用回溯法，有“通用解题方法”的美称。回溯法说白了就是穷举法。回溯法一般用递归来解决。\n",
    "\n",
    "**回溯算法三要素：**\n",
    "\n",
    "1. <font color=#dd00dd>选择</font>。对于每个特定的解，肯定是由一步步构建而来的，而每一步怎么构建，肯定都是有限个选择，要怎么选择，这个要知道；同时，在编程时候要定下，优先或合法的每一步选择的顺序，一般是通过多个if或者for循环来排列。 \n",
    "2. <font color=#dd00dd>条件</font>。对于每个特定的解的某一步，他必然要符合某个解要求符合的条件，如果不符合条件，就要回溯，其实回溯也就是递归调用的返回。 \n",
    "3. <font color=#dd00dd>结束</font>。当到达一个特定结束条件时候，就认为这个一步步构建的解是符合要求的解了。把解存下来或者打印出来。对于这一步来说，有时候也可以另外写一个issolution函数来进行判断。注意，当到达第三步后，有时候还需要构建一个数据结构，把符合要求的解存起来，便于当得到所有解后，把解空间输出来。这个数据结构必须是全局的，作为参数之一传递给递归函数。\n",
    "\n",
    "对于回溯法来说，每次递归调用，很重要的一点是把每次递归的不同信息传递给递归调用的函数。而这里最重要的要传递给递归调用函数的信息，就是把上一步做过的某些事情的这个选择排除，避免重复和无限递归。另外还有一个信息必须传递给递归函数，就是进行了每一步选择后，暂时还没构成完整的解，这个时候前面所有选择的汇总也要传递进去。而且一般情况下，都是能从传递给递归函数的参数处，得到结束条件的。\n",
    "\n",
    "递归函数的参数的选择，要遵循四个原则： \n",
    "1. 必须要有一个临时变量(可以就直接传递一个字面量或者常量进去)传递不完整的解，因为每一步选择后，暂时还没构成完整的解，这个时候这个选择的不完整解，也要想办法传递给递归函数。也就是，把每次递归的不同情况传递给递归调用的函数。\n",
    "2. 可以有一个全局变量，用来存储完整的每个解，一般是个集合容器（也不一定要有这样一个变量，因为每次符合结束条件，不完整解就是完整解了，直接打印即可）。\n",
    "3. 最重要的一点，一定要在参数设计中，可以得到结束条件。一个选择是可以传递一个量n，也许是数组的长度，也许是数量，等等。\n",
    "4. 要保证递归函数返回后，状态可以恢复到递归前，以此达到真正回溯。\n",
    "\n",
    "**解题步骤：**\n",
    "1. 新建一个回溯函数，并确定要传入的参数，一般包括 result, curr_state, arr, index(or n, k)，其中 result, curr_state 为满足条件的解空间和正在搜索的解，arr, index(or n, k) 为待循环的对象和控制结束的条件。\n",
    "2. 确定选择条件\n",
    "3. 确定结束条件\n",
    "4. 进行递归，并检查回溯条件\n",
    "\n",
    "回溯问题：\n",
    "1. 组合排列问题(Combination, Combination Sum, Permutation)\n",
    "2. 子集问题(Subsets)\n",
    "3. 树的结点求和问题"
   ]
  },
  {
   "cell_type": "markdown",
   "metadata": {},
   "source": [
    "## 组合排列问题"
   ]
  },
  {
   "cell_type": "markdown",
   "metadata": {},
   "source": [
    "> 题目(组合问题)：Combinations：Given two integers n and k,return all possible combinations of k numbers out of 1 ... n. For example, If n = 4 and k =2, a solution is: [ [2,4], [3,4], [2,3], [1,2], [1,3], [1,4] ] \n",
    "\n",
    "**分析：**\n",
    "\n",
    "要求返回 [List]，那我就给你一个 result[List]，因此\n",
    "1. 定义一个全局 result[List] 和一个辅助 curr_state[List]\n",
    "2. 定义一个回溯方法（函数）def backtrace(self, result, curr_state, ...)\n",
    "3. n, k 总是要有的吧，加上这两个参数，于是 def backtrace(self, result, curr_state, n, k, ...)（可以尝试性地写参数，最后不需要的删除\n",
    "3. 函数参数都定义好了，那么如何实现这个算法？对于n=4，k=2，1,2,3,4中选2个数字，我们可以做如下尝试，先选择加入 1，那我们只需要再选择一个数字，注意这时候 k=1 了。当然，我们也可以先选择2,3 或者4，通俗化一点，我们可以选择（1-n）的所有数字，这个是可以用一个循环来描述。每次选择一个加入我们的 curr_state 中，下一次只要再选择k-1个数字。那什么时候结束呢？当然是 k==0 的时候啦，这时候都选完了。"
   ]
  },
  {
   "cell_type": "code",
   "execution_count": 22,
   "metadata": {},
   "outputs": [
    {
     "name": "stdout",
     "output_type": "stream",
     "text": [
      "[[1, 2], [1, 2, 3], [1, 2, 3, 4], [1, 2, 3, 4, 2, 3], [1, 2, 3, 4, 2, 3, 4], [1, 2, 3, 4, 2, 3, 4, 3, 4]]\n"
     ]
    }
   ],
   "source": [
    "class Solution:\n",
    "    def combine(self, n, k):\n",
    "        result = []\n",
    "        self.backtrace(result, [], 1, n, k)\n",
    "        return result\n",
    "        \n",
    "    def backtrace(self, result, curr_state, start, n, k):\n",
    "        if k == 0:\n",
    "            result.append(curr_state.copy())\n",
    "            return\n",
    "        else:\n",
    "            for i in range(start, n+1):\n",
    "                curr_state.append(i)\n",
    "                self.backtrace(result, curr_state, i+1, n, k-1) # k-1 就是每次要选的数字的个数\n",
    "                # i+1 稍后分析\n",
    "\n",
    "solution = Solution()\n",
    "res = solution.combine(4, 2)\n",
    "print(res)"
   ]
  },
  {
   "cell_type": "markdown",
   "metadata": {},
   "source": [
    "哎呀，居然不对，怎么这么长一串！？\n",
    "\n",
    "观察一下上述代码，我们加入了一个start变量，它是i的起点。为什么要加入它呢？比如我们第一次加入了1，下一次搜索的时候还能再搜索1了么？肯定不可以啊！我们必须从他的下一个数字开始，也就是2 、3或者4啦。所以start就是一个开始标记这个很重要!\n",
    "\n",
    "这时候我们在主方法中加入 self.backtrace(result, [], 1, n, k);调试后发现答案不对啊！为什么我的答案比他长那么多？\n",
    "\n",
    "回溯回溯当然要退回再走啦，你不退回，当然变长了！所以我们要在刚才代码注释留白处加上退回语句。仔细分析刚才的过程，我们每次找到了1,2这一对答案以后，下一次希望2退出然后让3进来，1 3就是我们要找的下一个组合。如果不回退，找到了2 ，3又进来，找到了3，4又进来，所以就出现了我们的错误答案。正确的做法就是加上：curr_state.pop();他的作用就是每次清除一个空位 让后续元素加入。寻找成功，最后一个元素要退位，寻找不到，方法不可行，那么我们回退，也要移除最后一个元素。 所以完整的程序如下："
   ]
  },
  {
   "cell_type": "code",
   "execution_count": 46,
   "metadata": {},
   "outputs": [
    {
     "name": "stdout",
     "output_type": "stream",
     "text": [
      "[[1, 2], [1, 3], [1, 4], [2, 3], [2, 4], [3, 4]]\n"
     ]
    }
   ],
   "source": [
    "class Solution:\n",
    "    def combine(self, n, k):\n",
    "        result = []\n",
    "        self.backtrace(result, [], 1, n, k)\n",
    "        return result\n",
    "        \n",
    "    def backtrace(self, result, curr_state, start, n, k):\n",
    "        if k == 0:\n",
    "            result.append(curr_state.copy())\n",
    "            return\n",
    "        else:\n",
    "            for i in range(start, n+1):\n",
    "                curr_state.append(i)\n",
    "                self.backtrace(result, curr_state, i+1, n, k-1) # 将 i+1 换成 start+1，还没搞懂结果为什么那样\n",
    "#                 self.backtrace(result, curr_state, start+1, n, k-1)\n",
    "                curr_state.pop() # 回溯\n",
    "\n",
    "solution = Solution()\n",
    "res = solution.combine(4, 2)\n",
    "print(res) # [[1, 2], [1, 3], [1, 4], [2, 3], [2, 4], [3, 4]]"
   ]
  },
  {
   "cell_type": "markdown",
   "metadata": {},
   "source": [
    "> 题目(组合问题)：Combination Sum Given a set of candidate numbers (C) and a target number (T), find all unique combinations in C where the candidate numbers sums to T. The same repeated number may be chosen from C unlimited number of times. \n",
    "\n",
    "Note: \n",
    "1. All numbers (including target) will be positive integers. \n",
    "2. The solution set must not contain duplicate combinations. \n",
    "3. For example,given candidate set [2, 3, 6, 7] and target 7, A solution set is: [ [7], [2,2, 3] ].\n",
    "\n",
    "按照前述的套路走一遍：\n",
    "1. 先定义全局 result[List]\n",
    "\n",
    "``` python\n",
    "# 定义 result\n",
    "class Solution:\n",
    "    def combineSum(self, arr, target):\n",
    "        result = []\n",
    "```\n",
    "2. 回溯backtracking方法要定义，数组 arr，目标 target，辅助列表 curr_state[List] 都加上。\n",
    "\n",
    "``` python\n",
    "class Solution:\n",
    "    def combineSum(self, arr, target):\n",
    "        result = []\n",
    "        self.backtrack(result, [], arr, target, 0)\n",
    "        return result\n",
    "    \n",
    "    # 定义 backtrack\n",
    "    def backtrack(self, result, curr_state, arr, target, start):\n",
    "        \n",
    "```\n",
    "\n",
    "3. 分析算法：以[2,3,6,7]  每次尝试加入数组任何一个值，用循环来描述，表示依次选定一个值\n",
    "\n",
    "\n",
    "``` python\n",
    "class Solution:\n",
    "    def combineSum(self, arr, target):\n",
    "        result = []\n",
    "        self.backtrack(result, [], arr, target, 0)\n",
    "        return result\n",
    "    \n",
    "    def backtrack(self, result, curr_state, arr, target, start):\n",
    "        \n",
    "        # 循环每次加入数组中的一个数\n",
    "        for i in range(start, len(arr)):\n",
    "            curr_state.append(arr[i])\n",
    "```\n",
    "\n",
    "4. 接下来回溯方法再调用。比如第一次选了2，下次还能再选2是吧，所以每次start都可以<font color=#dd00dd>从当前i开始</font>（ps：<font color=#dd00dd>如果不允许重复，从i+1开始</font>）。第一次选择2，下一次要凑的数就不是7了，而是7-2，也就是5，一般化就是 remain=target-[i]，所以回溯方法为：\n",
    "\n",
    "``` python\n",
    "self.backtrack(result, curr_state, arr, target-arr[i], i)\n",
    "```\n",
    "\n",
    "然后加上退回语句：\n",
    "\n",
    "``` python\n",
    "curr_state.pop()\n",
    "```\n",
    "\n",
    "即：\n",
    "\n",
    "\n",
    "``` python\n",
    "class Solution:\n",
    "    def combineSum(self, arr, target):\n",
    "        result = []\n",
    "        self.backtrack(result, [], arr, target, 0)\n",
    "        return result\n",
    "    \n",
    "    def backtrack(self, result, curr_state, arr, target, start):\n",
    "        for i in range(start, len(arr)):\n",
    "            curr_state.append(arr[i])\n",
    "            # 加上回溯方法和退回语句\n",
    "            self.backtrack(result, curr_state, arr, target-arr[i], i)\n",
    "            curr_state.pop()\n",
    "```\n",
    "\n",
    "那么什么时候找到的解符合要求呢？自然是 remain（注意区分初始的target）=0了，表示之前的组合恰好能凑出 target。如果 remain<0 表示凑的数太大了，组合不可行，要回退。当 remain>0 说明凑的还不够，继续凑，所以 remain == 0 加上去！\n",
    "\n",
    "``` python\n",
    "class Solution:\n",
    "    def combineSum(self, arr, target):\n",
    "        result = []\n",
    "        self.backtrack(result, [], arr, target, 0)\n",
    "        return result\n",
    "    \n",
    "    def backtrack(self, result, curr_state, arr, target, start):\n",
    "        # 加上结束条件\n",
    "        if target < 0:\n",
    "            return\n",
    "        elif target == 0:\n",
    "            result.append(curr_state.copy())\n",
    "        else:\n",
    "            for i in range(start, len(arr)):\n",
    "            curr_state.append(arr[i])\n",
    "            self.backtrack(result, curr_state, arr, target-arr[i], i)\n",
    "            curr_state.pop()\n",
    "```\n",
    "\n",
    "好！大功告成！"
   ]
  },
  {
   "cell_type": "code",
   "execution_count": 86,
   "metadata": {},
   "outputs": [
    {
     "name": "stdout",
     "output_type": "stream",
     "text": [
      "[[2, 2, 3], [7]]\n"
     ]
    }
   ],
   "source": [
    "class Solution:\n",
    "    def combineSum(self, arr, target):\n",
    "        result = []\n",
    "        self.backtrack(result, [], arr, target, 0)\n",
    "        return result\n",
    "\n",
    "    def backtrack(self, result, curr_state, arr, target, start):\n",
    "        if target < 0:\n",
    "            return\n",
    "        elif target == 0:\n",
    "            result.append(curr_state.copy())\n",
    "            return\n",
    "        else:\n",
    "            for i in range(start, len(arr)):\n",
    "                curr_state.append(arr[i])\n",
    "                self.backtrack(result, curr_state, arr, target-arr[i], i)\n",
    "                curr_state.pop()\n",
    "            \n",
    "arr = [2, 3, 6, 7]\n",
    "target = 7\n",
    "solution = Solution()\n",
    "print(solution.combineSum(arr, target))"
   ]
  },
  {
   "cell_type": "markdown",
   "metadata": {},
   "source": [
    "另一种解法，把取过的数字打上标签，不再重复取："
   ]
  },
  {
   "cell_type": "code",
   "execution_count": null,
   "metadata": {},
   "outputs": [],
   "source": []
  },
  {
   "cell_type": "markdown",
   "metadata": {},
   "source": [
    "> 题目(组合问题)：给出一个大于 0 的正整数 n 和一个目标 target，求小于 n 的数的组合的和等于该目标 target 的组合（数字不同组合顺序当做一个解）。"
   ]
  },
  {
   "cell_type": "code",
   "execution_count": 85,
   "metadata": {},
   "outputs": [
    {
     "name": "stdout",
     "output_type": "stream",
     "text": [
      "[[1, 2, 4], [3, 4]]\n"
     ]
    }
   ],
   "source": [
    "class Solution:\n",
    "    def combineSum(self, n, target):\n",
    "        result = []\n",
    "        self.backtrack(result, [], n, target, 1) # 在数字可以重复的情况下，此处如果将 1 置为 0，将陷入无限循环\n",
    "        return result\n",
    "\n",
    "    def backtrack(self, result, curr_state, n, target, start):\n",
    "        if target < 0:\n",
    "            return\n",
    "        elif target == 0:\n",
    "            result.append(curr_state.copy())\n",
    "            return\n",
    "        else:\n",
    "            for i in range(start, n):\n",
    "                curr_state.append(i)\n",
    "#                 self.backtrack(result, curr_state, n, target-i, i) # 数字可以重复\n",
    "                self.backtrack(result, curr_state, n, target-i, i+1) # 数字不能重复\n",
    "                curr_state.pop()\n",
    "\n",
    "n = 5\n",
    "target = 7\n",
    "solution = Solution()\n",
    "print(solution.combineSum(n, target))"
   ]
  },
  {
   "cell_type": "markdown",
   "metadata": {},
   "source": [
    "> 题目(排列问题)：给出n对括号，求括号排列的所有可能性。"
   ]
  },
  {
   "cell_type": "code",
   "execution_count": 63,
   "metadata": {},
   "outputs": [
    {
     "name": "stdout",
     "output_type": "stream",
     "text": [
      "['()()()', '()(())', '(())()', '(()())', '((()))']\n"
     ]
    }
   ],
   "source": [
    "# 合理的括号组合\n",
    "class Solution:\n",
    "    def parentheses(self, n):\n",
    "        leftnum = rightnum = n # 左右括号的个数\n",
    "        result = [] # 用于存放满足条件的解空间\n",
    "        self.backtrace(result, '', leftnum, rightnum)\n",
    "        return result\n",
    "        \n",
    "    def backtrace(self, result, curr_state, leftnum, rightnum):\n",
    "        if leftnum == 0 and rightnum == 0: # 结束\n",
    "            result.append(curr_state)\n",
    "        if rightnum > leftnum: # 选择和条件，不同的if顺序，结果顺序不一样，但是解空间一样，满足就递归，不满足就回溯\n",
    "            self.backtrace(result, curr_state+')', leftnum, rightnum-1)\n",
    "        if leftnum > 0:\n",
    "            self.backtrace(result, curr_state+'(', leftnum-1, rightnum)\n",
    "            \n",
    "solution = Solution()\n",
    "print(solution.parentheses(3))"
   ]
  },
  {
   "cell_type": "markdown",
   "metadata": {},
   "source": [
    "对于回溯法来说，该题必须齐备的三要素： \n",
    "1. 选择。在这个例子中，解就是一个合法的括号组合形式，而选择无非是放入左括号，还是放入右括号。\n",
    "2. 条件。在这个例子中，选择是放入左括号，还是放入右括号，是有条件约束的，不是随便放的。而这个约束就是括号的数量。只有剩下的右括号比左括号多，才能放右括号。只有左括号数量大于0才能放入左括号。这里if的顺序会影响输出的顺序，但是不影响最终解。\n",
    "3. 结束。这里的结束条件很显然就是，左右括号都放完了。\n",
    "\n",
    "回溯法中，参数的设计是一大难点，也是很重要的地方。而递归参数的设计要注意的四个点：\n",
    "1. 用了一个 curr_state 来作为临时变量存储不完整解，初始值为空字符串。\n",
    "2. 用了一个 result 来存放符合要求的解。\n",
    "3. 把leftnum和rightnum传入给递归函数，这样可以用于判断结束条件\n",
    "4. 这个例子不明显。但是事实上也符合这个条件。可以仔细观察代码，可以发现由于使用了两个if，所以当一次递归退出后，例如从第一个if退出，第二个递归直接递归的是leftnum-1和rightnum，这其实是已经恢复状态了（如果没有恢复状态，那就是leftnum, rightnum-1）。因此不需要人为让他恢复状态。但是恢复状态这点是很重要的，因为回溯法，顾名思义要回溯，不恢复状态，怎么回溯呢。"
   ]
  },
  {
   "cell_type": "markdown",
   "metadata": {},
   "source": [
    "> 题目(排列问题)：输入一个字符串,按字典序打印出该字符串中字符的所有排列。例如输入字符串abc,则打印出由字符a,b,c所能排列出来的所有字符串abc,acb,bac,bca,cab和cba。\n",
    "\n",
    "输入一个字符串,长度不超过9(可能有字符重复),字符只包括大小写字母。\n",
    "\n",
    "**思路：**\n",
    "\n",
    "首先固定第一个字符，求后面所有字符的排列。这个时候我们仍把后面的所有字符分为两部分：后面的字符的第一个字符，以及这个字符之后的所有字符。然后把第一个字符逐一和它后面的字符交换。\n",
    "\n",
    "一句话就是：把字符串中的每个元素都当做起始位置，把其他元素当做以后的位置，然后再同样的进行操作，这样就会得到全排列。"
   ]
  },
  {
   "cell_type": "code",
   "execution_count": 129,
   "metadata": {},
   "outputs": [
    {
     "name": "stdout",
     "output_type": "stream",
     "text": [
      "['abc', 'acb', 'bac', 'bca', 'cab', 'cba']\n"
     ]
    }
   ],
   "source": [
    "class Solution:\n",
    "    def Permutation(self, ss):\n",
    "        result = []\n",
    "        self.backtrack(result, ss, '')\n",
    "        return sorted(list(set(result))) # 返回的时候别忘了 sorted() 一下，变态的OJ！！！\n",
    "    \n",
    "    def backtrack(self, result, s, curr_state):\n",
    "        if len(s) == 0:\n",
    "            result.append(''.join(curr_state))\n",
    "        else:\n",
    "            for i in range(len(s)):\n",
    "                self.backtrack(result, s[:i] + s[i+1:], curr_state + s[i]) # s[:i] + s[i+1:] 去掉某个字母\n",
    "                \n",
    "strs = 'abc'\n",
    "solution = Solution()\n",
    "res = solution.Permutation(strs)\n",
    "print(res)"
   ]
  },
  {
   "cell_type": "markdown",
   "metadata": {},
   "source": [
    "## 子集问题\n",
    "\n",
    "其实也是组合问题"
   ]
  },
  {
   "cell_type": "markdown",
   "metadata": {},
   "source": [
    "> 题目(组合问题)：给定一组不含重复元素的整数数组 nums，返回该数组所有可能的子集（幂集）。说明：解集不能包含重复的子集。\n",
    "\n",
    "输入: nums = [1,2,3]\n",
    "输出:\n",
    "[\n",
    "  [3],\n",
    "  [1],\n",
    "  [2],\n",
    "  [1,2,3],\n",
    "  [1,3],\n",
    "  [2,3],\n",
    "  [1,2],\n",
    "  []\n",
    "]\n"
   ]
  },
  {
   "cell_type": "code",
   "execution_count": 119,
   "metadata": {},
   "outputs": [
    {
     "name": "stdout",
     "output_type": "stream",
     "text": [
      "[[], [1], [2], [3], [1, 2], [1, 3], [2, 3], [1, 2, 3]]\n"
     ]
    }
   ],
   "source": [
    "class Solution:\n",
    "    def subsets2(self, nums):\n",
    "        result = []\n",
    "        nums.sort()\n",
    "        self.backtrack(result, [], nums, 0)\n",
    "        return sorted(result, key=lambda x: len(x))\n",
    "    \n",
    "    def backtrack(self, result, curr_state, nums, start):\n",
    "        result.append(curr_state.copy())\n",
    "#         print(tmpres) # test\n",
    "        for i in range(start, len(nums)):\n",
    "            curr_state.append(nums[i])\n",
    "            self.backtrack(result, curr_state, nums, i+1)\n",
    "            curr_state.pop()\n",
    "            \n",
    "solution = Solution()\n",
    "arr = [1, 2, 3]\n",
    "print(solution.subsets2(arr))"
   ]
  },
  {
   "cell_type": "markdown",
   "metadata": {},
   "source": [
    "上面这个 [1,2,3] 的子集问题，我们发现它没有结束条件，为什么呢？因为求的是子集问题，而子集包含的元素可以是 0，1，2...个，所以不必设置结束条件，当 for 循环结束了，也就结束了。"
   ]
  },
  {
   "cell_type": "markdown",
   "metadata": {},
   "source": [
    "另一种解法："
   ]
  },
  {
   "cell_type": "code",
   "execution_count": 130,
   "metadata": {},
   "outputs": [
    {
     "name": "stdout",
     "output_type": "stream",
     "text": [
      "[[], [1], [2], [3], [1, 2], [1, 3], [2, 3], [1, 2, 3]]\n"
     ]
    }
   ],
   "source": [
    "# 方法一：利用深度优先遍历树的每个节点\n",
    "class Solution:\n",
    "    def subsets(self, arr):\n",
    "        result = []\n",
    "        self.DFS(result, [], arr, 0)\n",
    "        return sorted(result, key=lambda x: len(x))\n",
    "        \n",
    "    def DFS(self, result, curr_state, arr, pos):\n",
    "#         print(pos)\n",
    "        if pos == len(arr):\n",
    "            result.append(curr_state.copy())\n",
    "            return\n",
    "        curr_state.append(arr[pos])\n",
    "        self.DFS(result, curr_state, arr, pos+1)\n",
    "        curr_state.pop()\n",
    "        self.DFS(result, curr_state, arr, pos+1)\n",
    "        \n",
    "solution = Solution()\n",
    "arr = [1, 2, 3]\n",
    "print(solution.subsets(arr))"
   ]
  },
  {
   "cell_type": "markdown",
   "metadata": {},
   "source": [
    "这种方法结束条件为什么是 pos == len(arr) 呢？我也还没想明白，让我想一会。"
   ]
  }
 ],
 "metadata": {
  "kernelspec": {
   "display_name": "Python 3",
   "language": "python",
   "name": "python3"
  },
  "language_info": {
   "codemirror_mode": {
    "name": "ipython",
    "version": 3
   },
   "file_extension": ".py",
   "mimetype": "text/x-python",
   "name": "python",
   "nbconvert_exporter": "python",
   "pygments_lexer": "ipython3",
   "version": "3.7.3"
  },
  "toc": {
   "base_numbering": 1,
   "nav_menu": {},
   "number_sections": true,
   "sideBar": true,
   "skip_h1_title": false,
   "title_cell": "Table of Contents",
   "title_sidebar": "Contents",
   "toc_cell": false,
   "toc_position": {},
   "toc_section_display": true,
   "toc_window_display": false
  }
 },
 "nbformat": 4,
 "nbformat_minor": 2
}
