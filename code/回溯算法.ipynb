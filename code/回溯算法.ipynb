{
 "cells": [
  {
   "cell_type": "markdown",
   "metadata": {},
   "source": [
    "# 回溯算法\n",
    "\n",
    "**概念：**根据百度百科定义：回溯法（探索与回溯法）是一种选优搜索法，又称为试探法，按选优条件向前搜索，以达到目标。但当探索到某一步时，发现原先选择并不优或达不到目标，就退回一步重新选择，这种走不通就退回再走的技术为回溯法，而满足回溯条件的某个状态的点称为”回溯点“。\n",
    "\n",
    "\n",
    "<img src=\"http://github.com/lupanlpb/data_stru_and_algo/raw/master/images/回溯算法问答.png\" width=\"700\" />\n",
    "\n",
    "1. 回溯算法就是一种有组织的系统最优化搜索技术，可以看作蛮力法穷举搜索的改进。回溯法常常可以避免搜索所有可能的解，所以它适用于求解组织数量较大的问题。\n",
    "2. 首先我们先了解一下一个基本概念“解空间树”：问题的解空间一般使用解空间树的方式来组织，树的根节点位于第1层，表示搜索的初始状态，依次向3. 解空间树的动态搜索：在搜索至树中任一节点时，先判断该节点对应的部分是否是满足约束条件，或者是否超出目标函数的界，也就是判断该节点是否包含问题的最优解。如果肯定不包含，则跳过对该节点为根的子树的搜索，即所谓的剪枝；否则，进入该节点为根的子树，继续按照深度优先策略搜索。（这也是为什么回溯可以避免搜索所有的解）\n",
    "4. 在搜索过程中，通常采用两种策略避免无效搜索：\n",
    "    - 用约束条件剪除得不到的可行解的子树\n",
    "    - 用目标函数剪取得不到的最优解的子树\n",
    "    - 这两种方式统称为：剪枝函数\n",
    "\n",
    "5. 在用回溯法求解问题时，常常遇到两种典型的解空间树：\n",
    "    - 子集树：但所有的问题是从n个元素的集合中找出满足某种性质的子集时，相应的解空间树成为子集树\n",
    "    - 排列树：当所给出问题是确定n个元素满足某种性质的排列时，相应的解空间称为排列树。\n",
    "6. 深度优先搜索（DFS）和广度优先搜索（FIFO）在分支界限法中，一般用的是FIFO或最小耗费搜索；其思想是一次性将一个节点的所有子节点求出并将其放入一个待求子节点的队列。通过遍历这个队列（队列在 遍历过程中不断增长）完成搜索。而DFS的作法则是将每一条合法路径求出后再转而向上求第二条合法路径。而在回溯法中，一般都用DFS。为什么呢？这是因 为可以通过约束函数杀死一些节点从而节省时间，由于DFS是将路径逐一求出的，通过在求路径的过程中杀死节点即可省去求所有子节点所花费的时间。FIFO 理论上也是可以做到这样的，但是通过对比不难发现，DFS在以这种方法解决问题时思路要清晰非常多。\n",
    "\n",
    "\n",
    "**基本思想：**在包含问题的所有解的解空间树中，按照深度优先搜索的策略，从根结点出发深度探索解空间树。当探索到某一结点时，要先判断该结点是否包含问题的解，如果包含，就从该结点出发继续探索下去，如果该结点不包含问题的解，则逐层向其祖先结点回溯。(其实回溯法就是对隐式图的深度优先搜索算法)。若用回溯法求问题的所有解时，要回溯到根，且根结点的所有可行的子树都要已被搜索遍才结束。而若使用回溯法求任一个解时，只要搜索到问题的一个解就可以结束。\n",
    "\n",
    "回溯算法实际上一个类似枚举的深度优先搜索尝试过程，主要是在搜索尝试过程中寻找问题的解，当发现已不满足求解条件时，就“回溯”返回（也就是递归返回），尝试别的路径。许多复杂的，规模较大的问题都可以使用回溯法，有“通用解题方法”的美称。回溯法说白了就是穷举法。回溯法一般用递归来解决。\n",
    "\n",
    "**回溯算法三要素：**\n",
    "\n",
    "1. <font color=#dd00dd>选择</font>。对于每个特定的解，肯定是由一步步构建而来的，而每一步怎么构建，肯定都是有限个选择，要怎么选择，这个要知道；同时，在编程时候要定下，优先或合法的每一步选择的顺序，一般是通过多个if或者for循环来排列。 \n",
    "2. <font color=#dd00dd>条件</font>。对于每个特定的解的某一步，他必然要符合某个解要求符合的条件，如果不符合条件，就要回溯，其实回溯也就是递归调用的返回。 \n",
    "3. <font color=#dd00dd>结束</font>。当到达一个特定结束条件时候，就认为这个一步步构建的解是符合要求的解了。把解存下来或者打印出来。对于这一步来说，有时候也可以另外写一个issolution函数来进行判断。注意，当到达第三步后，有时候还需要构建一个数据结构，把符合要求的解存起来，便于当得到所有解后，把解空间输出来。这个数据结构必须是全局的，作为参数之一传递给递归函数。\n",
    "\n",
    "对于回溯法来说，每次递归调用，很重要的一点是把每次递归的不同信息传递给递归调用的函数。而这里最重要的要传递给递归调用函数的信息，就是把上一步做过的某些事情的这个选择排除，避免重复和无限递归。另外还有一个信息必须传递给递归函数，就是进行了每一步选择后，暂时还没构成完整的解，这个时候前面所有选择的汇总也要传递进去。而且一般情况下，都是能从传递给递归函数的参数处，得到结束条件的。\n",
    "\n",
    "递归函数的参数的选择，要遵循四个原则： \n",
    "1. 必须要有一个临时变量(可以就直接传递一个字面量或者常量进去)传递不完整的解，因为每一步选择后，暂时还没构成完整的解，这个时候这个选择的不完整解，也要想办法传递给递归函数。也就是，把每次递归的不同情况传递给递归调用的函数。\n",
    "2. 可以有一个全局变量，用来存储完整的每个解，一般是个集合容器（也不一定要有这样一个变量，因为每次符合结束条件，不完整解就是完整解了，直接打印即可）。\n",
    "3. 最重要的一点，一定要在参数设计中，可以得到结束条件。一个选择是可以传递一个量n，也许是数组的长度，也许是数量，等等。\n",
    "4. 要保证递归函数返回后，状态可以恢复到递归前，以此达到真正回溯。\n",
    "\n",
    "**识别回溯：**\n",
    "判断回溯很简单，拿到一个问题，你感觉如果不穷举一下就没法知道答案，那就可以开始回溯了。一般回溯的问题有三种：\n",
    "1. 有没有解\n",
    "2. 求所有解\n",
    "    - 求所有解的个数\n",
    "    - 求所有解的具体信息\n",
    "3. 求最优解\n",
    "\n",
    "**解题步骤：**\n",
    "1. 新建一个回溯函数，并确定要传入的参数，一般包括 result, curr_state, arr, index(or n, k)，其中 result, curr_state 为满足条件的解空间和正在搜索的解，arr, index(or n, k) 为待循环的对象和控制结束的条件。\n",
    "2. 确定选择条件\n",
    "3. 确定结束条件\n",
    "4. 进行递归，并检查回溯条件\n",
    "\n",
    "回溯问题：\n",
    "1. 组合排列问题(Combination, Combination Sum, Permutation)(LeetCode 39, 40, 46, 47, 78, 90)\n",
    "1. 子集问题(Subsets)\n",
    "1. 二叉树的结点求和问题\n",
    "1. 判断是否存在指定路径\n",
    "1. 第k个排列(LeetCode 60)\n",
    "1. 下一个排列(LeetCode 31)\n",
    "1. 岛判断问题\n",
    "1. N 皇后问题\n",
    "1. 0-1背包问题\n",
    "1. 旅行售货员问题\n",
    "1. 迷宫问题\n",
    "1. Sudoku (数独)问题\n"
   ]
  },
  {
   "cell_type": "markdown",
   "metadata": {},
   "source": [
    "## 组合排列问题"
   ]
  },
  {
   "cell_type": "markdown",
   "metadata": {},
   "source": [
    "> 题目(组合问题)：Combinations：Given two integers n and k,return all possible combinations of k numbers out of 1 ... n. For example, If n = 4 and k =2, a solution is: [ [2,4], [3,4], [2,3], [1,2], [1,3], [1,4] ] \n",
    "\n",
    "**分析：**\n",
    "\n",
    "要求返回 [List]，那我就给你一个 result[List]，因此\n",
    "1. 定义一个全局 result[List] 和一个辅助 curr_state[List]\n",
    "2. 定义一个回溯方法（函数）def backtrace(self, result, curr_state, ...)\n",
    "3. n, k 总是要有的吧，加上这两个参数，于是 def backtrace(self, result, curr_state, n, k, ...)（可以尝试性地写参数，最后不需要的删除\n",
    "3. 函数参数都定义好了，那么如何实现这个算法？对于n=4，k=2，1,2,3,4中选2个数字，我们可以做如下尝试，先选择加入 1，那我们只需要再选择一个数字，注意这时候 k=1 了。当然，我们也可以先选择2,3 或者4，通俗化一点，我们可以选择（1-n）的所有数字，这个是可以用一个循环来描述。每次选择一个加入我们的 curr_state 中，下一次只要再选择k-1个数字。那什么时候结束呢？当然是 k==0 的时候啦，这时候都选完了。"
   ]
  },
  {
   "cell_type": "code",
   "execution_count": 2,
   "metadata": {},
   "outputs": [
    {
     "name": "stdout",
     "output_type": "stream",
     "text": [
      "[[1, 2], [1, 2, 3], [1, 2, 3, 4], [1, 2, 3, 4, 2, 3], [1, 2, 3, 4, 2, 3, 4], [1, 2, 3, 4, 2, 3, 4, 3, 4]]\n"
     ]
    }
   ],
   "source": [
    "class Solution:\n",
    "    def combine(self, n, k):\n",
    "        result = []\n",
    "        self.backtrace(result, [], 1, n, k)\n",
    "        return result\n",
    "        \n",
    "    def backtrace(self, result, curr_state, start, n, k):\n",
    "        if k == 0:\n",
    "            result.append(curr_state.copy())\n",
    "            return\n",
    "        else:\n",
    "            for i in range(start, n+1):\n",
    "                curr_state.append(i)\n",
    "                self.backtrace(result, curr_state, i+1, n, k-1) # k-1 就是每次要选的数字的个数\n",
    "                # i+1 稍后分析\n",
    "\n",
    "solution = Solution()\n",
    "res = solution.combine(4, 2)\n",
    "print(res)"
   ]
  },
  {
   "cell_type": "markdown",
   "metadata": {},
   "source": [
    "哎哟，居然不对，怎么这么长一串！？\n",
    "\n",
    "观察一下上述代码，我们加入了一个 <font color=#dd00dd>start</font> 变量，它是 i 的起点。为什么要加入它呢？比如我们第一次加入了1，下一次搜索的时候还能再搜索1了么？肯定不可以啊！我们必须从他的下一个数字开始，也就是2 、3或者4啦。所以start就是一个开始标记这个很重要!\n",
    "\n",
    "这时候我们在主方法中加入 self.backtrace(result, [], 1, n, k);调试后发现答案不对啊！为什么我的答案比他长那么多？\n",
    "\n",
    "回溯回溯当然要退回再走啦，你不退回，当然变长了！所以我们要在刚才代码注释留白处加上退回语句。仔细分析刚才的过程，我们每次找到了1,2这一对答案以后，下一次希望2退出然后让3进来，1 3就是我们要找的下一个组合。如果不回退，找到了2 ，3又进来，找到了3，4又进来，所以就出现了我们的错误答案。正确的做法就是加上：curr_state.pop();他的作用就是每次清除一个空位 让后续元素加入。寻找成功，最后一个元素要退位，寻找不到，方法不可行，那么我们回退，也要移除最后一个元素。 所以完整的程序如下："
   ]
  },
  {
   "cell_type": "code",
   "execution_count": 16,
   "metadata": {},
   "outputs": [
    {
     "name": "stdout",
     "output_type": "stream",
     "text": [
      "[[1, 2], [1, 3], [1, 4], [2, 3], [2, 4], [3, 4]]\n"
     ]
    }
   ],
   "source": [
    "class Solution:\n",
    "    def combine(self, n, k):\n",
    "        result = []\n",
    "        self.backtrace(result, [], 1, n, k)\n",
    "        return result\n",
    "        \n",
    "    def backtrace(self, result, curr_state, start, n, k):\n",
    "        if k == 0:\n",
    "            result.append(curr_state.copy())\n",
    "            return\n",
    "        else:\n",
    "            for i in range(start, n+1):\n",
    "                curr_state.append(i)\n",
    "                self.backtrace(result, curr_state, i+1, n, k-1) # 将 i+1 换成 start+1，还没搞懂结果为什么那样\n",
    "#                 self.backtrace(result, curr_state, start+1, n, k-1)\n",
    "                curr_state.pop() # 回溯\n",
    "\n",
    "solution = Solution()\n",
    "res = solution.combine(4, 2)\n",
    "print(res) # [[1, 2], [1, 3], [1, 4], [2, 3], [2, 4], [3, 4]]"
   ]
  },
  {
   "cell_type": "markdown",
   "metadata": {},
   "source": [
    "> 题目(组合问题，求和)：Combination Sum Given a set of candidate numbers (C) and a target number (T), find all unique combinations in C where the candidate numbers sums to T. The same repeated number may be chosen from C unlimited number of times. \n",
    "\n",
    "Note: \n",
    "1. All numbers (including target) will be positive integers. \n",
    "2. The solution set must not contain duplicate combinations. \n",
    "3. For example,given candidate set [2, 3, 6, 7] and target 7, A solution set is: [ [7], [2,2, 3] ].\n",
    "\n",
    "按照前述的套路走一遍：\n",
    "1. 先定义全局 result[List]\n",
    "\n",
    "``` python\n",
    "# 定义 result\n",
    "class Solution:\n",
    "    def combineSum(self, arr, target):\n",
    "        result = []\n",
    "```\n",
    "2. 回溯backtracking方法要定义，数组 arr，目标 target，辅助列表 curr_state[List] 都加上。\n",
    "\n",
    "``` python\n",
    "class Solution:\n",
    "    def combineSum(self, arr, target):\n",
    "        result = []\n",
    "        self.backtrack(result, [], arr, target, 0)\n",
    "        return result\n",
    "    \n",
    "    # 定义 backtrack\n",
    "    def backtrack(self, result, curr_state, arr, target, start):\n",
    "        \n",
    "```\n",
    "\n",
    "3. 分析算法：以[2,3,6,7]  每次尝试加入数组任何一个值，用循环来描述，表示依次选定一个值\n",
    "\n",
    "\n",
    "``` python\n",
    "class Solution:\n",
    "    def combineSum(self, arr, target):\n",
    "        result = []\n",
    "        self.backtrack(result, [], arr, target, 0)\n",
    "        return result\n",
    "    \n",
    "    def backtrack(self, result, curr_state, arr, target, start):\n",
    "        \n",
    "        # 循环每次加入数组中的一个数\n",
    "        for i in range(start, len(arr)):\n",
    "            curr_state.append(arr[i])\n",
    "```\n",
    "\n",
    "4. 接下来回溯方法再调用。比如第一次选了2，下次还能再选2是吧，所以每次start都可以<font color=#dd00dd>从当前i开始</font>（ps：<font color=#dd00dd>如果不允许重复，从i+1开始</font>）。第一次选择2，下一次要凑的数就不是7了，而是7-2，也就是5，一般化就是 remain=target-[i]，所以回溯方法为：\n",
    "\n",
    "``` python\n",
    "self.backtrack(result, curr_state, arr, target-arr[i], i)\n",
    "```\n",
    "\n",
    "然后加上退回语句：\n",
    "\n",
    "``` python\n",
    "curr_state.pop()\n",
    "```\n",
    "\n",
    "即：\n",
    "\n",
    "\n",
    "``` python\n",
    "class Solution:\n",
    "    def combineSum(self, arr, target):\n",
    "        result = []\n",
    "        self.backtrack(result, [], arr, target, 0)\n",
    "        return result\n",
    "    \n",
    "    def backtrack(self, result, curr_state, arr, target, start):\n",
    "        for i in range(start, len(arr)):\n",
    "            curr_state.append(arr[i])\n",
    "            # 加上回溯方法和退回语句\n",
    "            self.backtrack(result, curr_state, arr, target-arr[i], i)\n",
    "            curr_state.pop()\n",
    "```\n",
    "\n",
    "那么什么时候找到的解符合要求呢？自然是 remain（注意区分初始的target）=0了，表示之前的组合恰好能凑出 target。如果 remain<0 表示凑的数太大了，组合不可行，要回退。当 remain>0 说明凑的还不够，继续凑，所以 remain == 0 加上去！\n",
    "\n",
    "``` python\n",
    "class Solution:\n",
    "    def combineSum(self, arr, target):\n",
    "        result = []\n",
    "        self.backtrack(result, [], arr, target, 0)\n",
    "        return result\n",
    "    \n",
    "    def backtrack(self, result, curr_state, arr, target, start):\n",
    "        # 加上结束条件\n",
    "        if target < 0:\n",
    "            return\n",
    "        elif target == 0:\n",
    "            result.append(curr_state.copy())\n",
    "        else:\n",
    "            for i in range(start, len(arr)):\n",
    "            curr_state.append(arr[i])\n",
    "            self.backtrack(result, curr_state, arr, target-arr[i], i)\n",
    "            curr_state.pop()\n",
    "```\n",
    "\n",
    "好！大功告成！"
   ]
  },
  {
   "cell_type": "code",
   "execution_count": 34,
   "metadata": {},
   "outputs": [
    {
     "name": "stdout",
     "output_type": "stream",
     "text": [
      "[[2, 2, 3], [7]]\n"
     ]
    }
   ],
   "source": [
    "class Solution:\n",
    "    def combineSum(self, arr, target):\n",
    "        result = []\n",
    "        self.backtrack(result, [], arr, target, 0)\n",
    "        return result\n",
    "\n",
    "    def backtrack(self, result, curr_state, arr, target, start):\n",
    "        if target < 0:\n",
    "            return\n",
    "        elif target == 0:\n",
    "            result.append(curr_state.copy())\n",
    "            return\n",
    "        else:\n",
    "            for i in range(start, len(arr)):\n",
    "                curr_state.append(arr[i])\n",
    "                self.backtrack(result, curr_state, arr, target-arr[i], i)\n",
    "                curr_state.pop()\n",
    "            \n",
    "arr = [2, 3, 6, 7]\n",
    "target = 7\n",
    "solution = Solution()\n",
    "print(solution.combineSum(arr, target))"
   ]
  },
  {
   "cell_type": "markdown",
   "metadata": {},
   "source": [
    "> 题目(组合问题，求和，重复元素)：给定一个数组 candidates 和一个目标数 target ，找出 candidates 中所有可以使数字和为 target 的组合。candidates 中的每个数字在每个组合中只能使用一次。\n",
    "\n",
    "说明：\n",
    "- 所有数字（包括目标数）都是正整数。\n",
    "- 解集不能包含重复的组合。\n",
    "\n",
    "示例 1:\n",
    "\n",
    "输入: candidates = [10,1,2,7,6,1,5], target = 8,\n",
    "所求解集为:\n",
    "[\n",
    "  [1, 7],\n",
    "  [1, 2, 5],\n",
    "  [2, 6],\n",
    "  [1, 1, 6]\n",
    "]\n",
    "示例 2:\n",
    "\n",
    "输入: candidates = [2,5,2,1,2], target = 5,\n",
    "所求解集为:\n",
    "[\n",
    "  [1,2,2],\n",
    "  [5]\n",
    "]\n"
   ]
  },
  {
   "cell_type": "code",
   "execution_count": 45,
   "metadata": {},
   "outputs": [
    {
     "name": "stdout",
     "output_type": "stream",
     "text": [
      "[[1, 1, 6], [1, 2, 5], [1, 7], [2, 6]]\n"
     ]
    }
   ],
   "source": [
    "class Solution:\n",
    "    def combinationSum2(self, arr, target):\n",
    "        result = []\n",
    "        arr.sort()\n",
    "        self.backtrack(result, [], arr, target, 0)\n",
    "        return result\n",
    "\n",
    "    def backtrack(self, result, curr_state, arr, target, start):\n",
    "        if target < 0:\n",
    "            return\n",
    "        elif target == 0:\n",
    "            result.append(curr_state.copy())\n",
    "            return\n",
    "        else:\n",
    "            for i in range(start, len(arr)):\n",
    "                if i > start and arr[i] == arr[i-1]: continue\n",
    "                curr_state.append(arr[i])\n",
    "                self.backtrack(result, curr_state, arr, target-arr[i], i+1)\n",
    "                curr_state.pop()\n",
    "\n",
    "arr = [10,1,2,7,6,1,5]\n",
    "target = 8\n",
    "solution = Solution()\n",
    "print(solution.combinationSum2(arr, target))"
   ]
  },
  {
   "cell_type": "markdown",
   "metadata": {},
   "source": [
    "> 题目(组合问题)：给出一个大于 0 的正整数 n 和一个目标 target，求小于 n 的数的组合的和等于该目标 target 的组合（数字不同组合顺序当做一个解）。"
   ]
  },
  {
   "cell_type": "code",
   "execution_count": 14,
   "metadata": {},
   "outputs": [
    {
     "name": "stdout",
     "output_type": "stream",
     "text": [
      "[[1, 2, 4], [3, 4]]\n"
     ]
    }
   ],
   "source": [
    "class Solution:\n",
    "    def combineSum(self, n, target):\n",
    "        result = []\n",
    "        self.backtrack(result, [], n, target, 1) # 在数字可以重复的情况下，此处如果将 1 置为 0，将陷入无限循环，因为 target - i = target - 0 = target\n",
    "        return result\n",
    "\n",
    "    def backtrack(self, result, curr_state, n, target, start):\n",
    "        if target < 0:\n",
    "            return\n",
    "        elif target == 0:\n",
    "            result.append(curr_state.copy())\n",
    "            return\n",
    "        else:\n",
    "            for i in range(start, n):\n",
    "                curr_state.append(i)\n",
    "#                 self.backtrack(result, curr_state, n, target-i, i) # 数字可以重复\n",
    "                self.backtrack(result, curr_state, n, target-i, i+1) # 数字不能重复\n",
    "                curr_state.pop()\n",
    "\n",
    "n = 5\n",
    "target = 7\n",
    "solution = Solution()\n",
    "print(solution.combineSum(n, target))"
   ]
  },
  {
   "cell_type": "markdown",
   "metadata": {},
   "source": [
    "> 题目(排列问题)：给出n对括号，求括号排列的所有可能性。"
   ]
  },
  {
   "cell_type": "code",
   "execution_count": 63,
   "metadata": {},
   "outputs": [
    {
     "name": "stdout",
     "output_type": "stream",
     "text": [
      "['()()()', '()(())', '(())()', '(()())', '((()))']\n"
     ]
    }
   ],
   "source": [
    "# 合理的括号组合\n",
    "class Solution:\n",
    "    def parentheses(self, n):\n",
    "        leftnum = rightnum = n # 左右括号的个数\n",
    "        result = [] # 用于存放满足条件的解空间\n",
    "        self.backtrace(result, '', leftnum, rightnum)\n",
    "        return result\n",
    "        \n",
    "    def backtrace(self, result, curr_state, leftnum, rightnum):\n",
    "        if leftnum == 0 and rightnum == 0: # 结束\n",
    "            result.append(curr_state)\n",
    "        if rightnum > leftnum: # 选择和条件，不同的if顺序，结果顺序不一样，但是解空间一样，满足就递归，不满足就回溯\n",
    "            self.backtrace(result, curr_state+')', leftnum, rightnum-1)\n",
    "        if leftnum > 0:\n",
    "            self.backtrace(result, curr_state+'(', leftnum-1, rightnum)\n",
    "            \n",
    "solution = Solution()\n",
    "print(solution.parentheses(3))"
   ]
  },
  {
   "cell_type": "markdown",
   "metadata": {},
   "source": [
    "对于回溯法来说，该题必须齐备的三要素： \n",
    "1. 选择。在这个例子中，解就是一个合法的括号组合形式，而选择无非是放入左括号，还是放入右括号。\n",
    "2. 条件。在这个例子中，选择是放入左括号，还是放入右括号，是有条件约束的，不是随便放的。而这个约束就是括号的数量。只有剩下的右括号比左括号多，才能放右括号。只有左括号数量大于0才能放入左括号。这里if的顺序会影响输出的顺序，但是不影响最终解。\n",
    "3. 结束。这里的结束条件很显然就是，左右括号都放完了。\n",
    "\n",
    "回溯法中，参数的设计是一大难点，也是很重要的地方。而递归参数的设计要注意的四个点：\n",
    "1. 用了一个 curr_state 来作为临时变量存储不完整解，初始值为空字符串。\n",
    "2. 用了一个 result 来存放符合要求的解。\n",
    "3. 把leftnum和rightnum传入给递归函数，这样可以用于判断结束条件\n",
    "4. 这个例子不明显。但是事实上也符合这个条件。可以仔细观察代码，可以发现由于使用了两个if，所以当一次递归退出后，例如从第一个if退出，第二个递归直接递归的是leftnum-1和rightnum，这其实是已经恢复状态了（如果没有恢复状态，那就是leftnum, rightnum-1）。因此不需要人为让他恢复状态。但是恢复状态这点是很重要的，因为回溯法，顾名思义要回溯，不恢复状态，怎么回溯呢。"
   ]
  },
  {
   "cell_type": "markdown",
   "metadata": {},
   "source": [
    "> 题目(排列问题)：输入一个字符串,按字典序打印出该字符串中字符的所有排列。例如输入字符串abc,则打印出由字符a,b,c所能排列出来的所有字符串abc,acb,bac,bca,cab和cba。\n",
    "\n",
    "输入一个字符串,长度不超过9(可能有字符重复),字符只包括大小写字母。\n",
    "\n",
    "**思路：**\n",
    "\n",
    "首先固定第一个字符，求后面所有字符的排列。这个时候我们仍把后面的所有字符分为两部分：后面的字符的第一个字符，以及这个字符之后的所有字符。然后把第一个字符逐一和它后面的字符交换。\n",
    "\n",
    "一句话就是：把字符串中的每个元素都当做起始位置，把其他元素当做以后的位置，然后再同样的进行操作，这样就会得到全排列。"
   ]
  },
  {
   "cell_type": "code",
   "execution_count": 7,
   "metadata": {},
   "outputs": [
    {
     "name": "stdout",
     "output_type": "stream",
     "text": [
      "['abc', 'acb', 'bac', 'bca', 'cab', 'cba']\n"
     ]
    }
   ],
   "source": [
    "class Solution:\n",
    "    def Permutation(self, ss):\n",
    "        result = []\n",
    "        self.backtrack(result, ss, '')\n",
    "#         return sorted(list(set(result)))\n",
    "        return result\n",
    "    \n",
    "    def backtrack(self, result, s, curr_state):\n",
    "        if len(s) == 0:\n",
    "            result.append(''.join(curr_state))\n",
    "        else:\n",
    "            for i in range(len(s)):\n",
    "                self.backtrack(result, s[:i] + s[i+1:], curr_state + s[i]) # s[:i] + s[i+1:] 去掉某个字母\n",
    "                \n",
    "strs = 'abc'\n",
    "solution = Solution()\n",
    "res = solution.Permutation(strs)\n",
    "print(res)"
   ]
  },
  {
   "cell_type": "markdown",
   "metadata": {},
   "source": [
    "> 题目(排列问题)：给定一个没有重复数字的序列，返回其所有可能的全排列。\n",
    "\n",
    "示例:\n",
    "\n",
    "输入: [1,2,3]\n",
    "输出:\n",
    "[\n",
    "  [1,2,3],\n",
    "  [1,3,2],\n",
    "  [2,1,3],\n",
    "  [2,3,1],\n",
    "  [3,1,2],\n",
    "  [3,2,1]\n",
    "]"
   ]
  },
  {
   "cell_type": "code",
   "execution_count": 51,
   "metadata": {},
   "outputs": [
    {
     "name": "stdout",
     "output_type": "stream",
     "text": [
      "[[1, 2, 3], [1, 3, 2], [2, 1, 3], [2, 3, 1], [3, 1, 2], [3, 2, 1]]\n"
     ]
    }
   ],
   "source": [
    "class Solution:\n",
    "    def Permutation(self, nums):\n",
    "        result = []\n",
    "        self.backtrack(result, nums, [])\n",
    "        return result\n",
    "    \n",
    "    def backtrack(self, result, nums, curr_state):\n",
    "        if len(nums) == 0:\n",
    "            result.append(curr_state)\n",
    "        else:\n",
    "            for i in range(len(nums)):\n",
    "                self.backtrack(result, nums[:i] + nums[i+1:], curr_state + [nums[i]]) # s[:i] + s[i+1:] 去掉某个元素\n",
    "                \n",
    "nums = [1, 2, 3]\n",
    "solution = Solution()\n",
    "res = solution.Permutation(nums)\n",
    "print(res)"
   ]
  },
  {
   "cell_type": "code",
   "execution_count": 13,
   "metadata": {},
   "outputs": [
    {
     "name": "stdout",
     "output_type": "stream",
     "text": [
      "[[1, 2, 3], [1, 3, 2], [2, 1, 3], [2, 3, 1], [3, 1, 2], [3, 2, 1]]\n"
     ]
    }
   ],
   "source": [
    "# 方法二：\n",
    "class Solution:\n",
    "    def Permutation(self, nums):\n",
    "        result = []\n",
    "        self.backtrack(result, nums, [])\n",
    "        return result\n",
    "    \n",
    "    def backtrack(self, result, nums, curr_state):\n",
    "        if len(nums) == 0:\n",
    "            result.append(curr_state.copy())\n",
    "        else:\n",
    "            for i in range(len(nums)):\n",
    "                curr_state.append(nums[i])\n",
    "                self.backtrack(result, nums[:i] + nums[i+1:], curr_state) # s[:i] + s[i+1:] 去掉某个元素\n",
    "                curr_state.pop()\n",
    "    \n",
    "nums = [1, 2, 3]\n",
    "solution = Solution()\n",
    "res = solution.Permutation(nums)\n",
    "print(res)"
   ]
  },
  {
   "cell_type": "code",
   "execution_count": 194,
   "metadata": {},
   "outputs": [
    {
     "name": "stdout",
     "output_type": "stream",
     "text": [
      "[[1, 2, 3], [1, 3, 2], [2, 1, 3], [2, 3, 1], [3, 1, 2], [3, 2, 1]]\n"
     ]
    }
   ],
   "source": [
    "# 方法三：\n",
    "class Solution:\n",
    "    def Permutation(self, nums):\n",
    "        if not nums:\n",
    "            return []\n",
    "        if len(nums) == 1:\n",
    "            return [nums]\n",
    "        nums.sort()\n",
    "        result = []\n",
    "        for i in range(len(nums)):\n",
    "            for j in self.Permutation(nums[:i]+nums[i+1:]):\n",
    "                result.append([nums[i]]+j)\n",
    "        return result\n",
    "    \n",
    "nums = [1, 2, 3]\n",
    "solution = Solution()\n",
    "res = solution.Permutation(nums)\n",
    "print(res)"
   ]
  },
  {
   "cell_type": "code",
   "execution_count": 5,
   "metadata": {},
   "outputs": [
    {
     "name": "stdout",
     "output_type": "stream",
     "text": [
      "[[1, 2, 3], [1, 3, 2], [2, 1, 3], [2, 3, 1], [3, 1, 2], [3, 2, 1]]\n"
     ]
    }
   ],
   "source": [
    "# 方法四：\n",
    "class Solution:\n",
    "    def Permutation(self, nums):\n",
    "        result = []\n",
    "        self.backtrack(result, nums, [])\n",
    "        return result\n",
    "    \n",
    "    def backtrack(self, result, nums, curr_state):\n",
    "        if len(curr_state) == len(nums):\n",
    "            result.append(curr_state.copy())\n",
    "        else:\n",
    "            for i in range(len(nums)):\n",
    "                if nums[i] in curr_state: continue\n",
    "                curr_state.append(nums[i])\n",
    "                self.backtrack(result, nums, curr_state)\n",
    "                curr_state.pop()\n",
    "    \n",
    "nums = [1, 2, 3]\n",
    "solution = Solution()\n",
    "res = solution.Permutation(nums)\n",
    "print(res)"
   ]
  },
  {
   "cell_type": "markdown",
   "metadata": {},
   "source": [
    "> 题目(排列问题，重复元素)：给定一个可包含重复数字的序列，返回所有不重复的全排列。\n",
    "\n",
    "示例:\n",
    "\n",
    "输入: [1,1,2]\n",
    "输出:\n",
    "[\n",
    "  [1,1,2],\n",
    "  [1,2,1],\n",
    "  [2,1,1]\n",
    "]\n"
   ]
  },
  {
   "cell_type": "code",
   "execution_count": 50,
   "metadata": {},
   "outputs": [
    {
     "name": "stdout",
     "output_type": "stream",
     "text": [
      "[[1, 2, 2], [2, 1, 2], [2, 2, 1]]\n"
     ]
    }
   ],
   "source": [
    "class Solution:\n",
    "    def Permutation(self, nums):\n",
    "        nums.sort()\n",
    "        visited = [False] * len(nums)\n",
    "        result = []\n",
    "        self.backtrack(result, [], nums, visited)\n",
    "        return result\n",
    "\n",
    "    def backtrack(self, result, curr_state, nums, visited):\n",
    "        if len(curr_state) == len(nums):\n",
    "            result.append(curr_state.copy())\n",
    "            return\n",
    "        for i in range(len(nums)):\n",
    "            if visited[i] or (i > 0 and nums[i] == nums[i - 1] and not visited[i - 1]):\n",
    "                continue\n",
    "            visited[i] = True\n",
    "            curr_state.append(nums[i])\n",
    "            self.backtrack(result, curr_state, nums, visited)\n",
    "            visited[i] = False\n",
    "            curr_state.pop()\n",
    "\n",
    "\n",
    "nums = [1, 2, 2]\n",
    "solution = Solution()\n",
    "res = solution.Permutation(nums)\n",
    "print(res)"
   ]
  },
  {
   "cell_type": "code",
   "execution_count": 62,
   "metadata": {},
   "outputs": [
    {
     "name": "stdout",
     "output_type": "stream",
     "text": [
      "[[1, 1, 2], [1, 2, 1], [2, 1, 1]]\n"
     ]
    }
   ],
   "source": [
    "class Solution:\n",
    "    def Permutation(self, nums):\n",
    "        result = []\n",
    "        nums.sort()\n",
    "        self.backtrack(result, nums, [])\n",
    "        return result\n",
    "    \n",
    "    def backtrack(self, result, nums, curr_state):\n",
    "        if len(nums) == 0:\n",
    "            result.append(curr_state)\n",
    "        else:\n",
    "            for i in range(len(nums)):\n",
    "                if i > 0 and nums[i] == nums[i-1]: continue\n",
    "                self.backtrack(result, nums[:i] + nums[i+1:], curr_state + [nums[i]]) # s[:i] + s[i+1:] 去掉某个元素\n",
    "                \n",
    "nums = [1, 2, 1]\n",
    "solution = Solution()\n",
    "res = solution.Permutation(nums)\n",
    "print(res)"
   ]
  },
  {
   "cell_type": "code",
   "execution_count": 96,
   "metadata": {},
   "outputs": [
    {
     "name": "stdout",
     "output_type": "stream",
     "text": [
      "[[1, 1, 2], [1, 2, 1], [2, 1, 1]]\n"
     ]
    }
   ],
   "source": [
    "class Solution:\n",
    "    def Permutation(self, nums):\n",
    "        if not nums:\n",
    "            return []\n",
    "        if len(nums)==1:\n",
    "            return [nums]\n",
    "        nums.sort()\n",
    "        result = []\n",
    "        for i in range(len(nums)):\n",
    "            if i > 0 and nums[i]==nums[i-1]:\n",
    "                continue\n",
    "            for j in self.Permutation(nums[:i]+nums[i+1:]):\n",
    "                result.append([nums[i]]+j)\n",
    "        return result\n",
    "    \n",
    "nums = [1, 1, 2]\n",
    "solution = Solution()\n",
    "res = solution.Permutation(nums)\n",
    "print(res)"
   ]
  },
  {
   "cell_type": "markdown",
   "metadata": {},
   "source": [
    "## 子集问题\n",
    "\n",
    "其实也是组合问题"
   ]
  },
  {
   "cell_type": "markdown",
   "metadata": {},
   "source": [
    "> 题目(组合问题)：给定一组不含重复元素的整数数组 nums，返回该数组所有可能的子集（幂集）。说明：解集不能包含重复的子集。\n",
    "\n",
    "输入: nums = [1,2,3]\n",
    "输出:\n",
    "[\n",
    "  [3],\n",
    "  [1],\n",
    "  [2],\n",
    "  [1,2,3],\n",
    "  [1,3],\n",
    "  [2,3],\n",
    "  [1,2],\n",
    "  []\n",
    "]\n"
   ]
  },
  {
   "cell_type": "code",
   "execution_count": 192,
   "metadata": {},
   "outputs": [
    {
     "name": "stdout",
     "output_type": "stream",
     "text": [
      "[[], [1], [2], [3], [1, 2], [1, 3], [2, 3], [1, 2, 3]]\n"
     ]
    }
   ],
   "source": [
    "class Solution:\n",
    "    def subsets2(self, nums):\n",
    "        result = []\n",
    "        nums.sort()\n",
    "        self.backtrack(result, [], nums, 0)\n",
    "        return sorted(result, key=lambda x: len(x))\n",
    "    \n",
    "    def backtrack(self, result, curr_state, nums, start):\n",
    "        result.append(curr_state.copy())\n",
    "        for i in range(start, len(nums)):\n",
    "            curr_state.append(nums[i])\n",
    "            self.backtrack(result, curr_state, nums, i+1)\n",
    "            curr_state.pop()\n",
    "            \n",
    "solution = Solution()\n",
    "arr = [1, 2, 3]\n",
    "print(solution.subsets2(arr))"
   ]
  },
  {
   "cell_type": "markdown",
   "metadata": {},
   "source": [
    "上面这个 [1,2,3] 的子集问题，我们发现它没有结束条件，也没有 return，为什么呢？因为求的是子集问题，而子集包含的元素可以是 0，1，2...个，所以不必设置结束条件，当 for 循环结束了，也就结束了。"
   ]
  },
  {
   "cell_type": "markdown",
   "metadata": {},
   "source": [
    "另一种解法："
   ]
  },
  {
   "cell_type": "code",
   "execution_count": 9,
   "metadata": {},
   "outputs": [
    {
     "name": "stdout",
     "output_type": "stream",
     "text": [
      "[[], [1], [2], [3], [1, 2], [1, 3], [2, 3], [1, 2, 3]]\n"
     ]
    }
   ],
   "source": [
    "# 方法一：利用深度优先遍历树的每个节点\n",
    "class Solution:\n",
    "    def subsets(self, nums):\n",
    "        result = []\n",
    "        self.DFS(result, [], nums, 0)\n",
    "        return sorted(result, key=lambda x: len(x))\n",
    "        \n",
    "    def DFS(self, result, curr_state, nums, start):\n",
    "        if start == len(nums):\n",
    "            result.append(curr_state.copy())\n",
    "            return\n",
    "        \n",
    "        curr_state.append(nums[start])\n",
    "        self.DFS(result, curr_state, nums, start+1)\n",
    "        curr_state.pop()\n",
    "        self.DFS(result, curr_state, nums, start+1)\n",
    "        \n",
    "solution = Solution()\n",
    "arr = [1, 2, 3]\n",
    "print(solution.subsets(arr))"
   ]
  },
  {
   "cell_type": "markdown",
   "metadata": {},
   "source": [
    "这种方法结束条件是 pos == len(arr)，start 相当于是子集中元素的个数，当元素个数等于 nums 的长度时，表示 nums 中的元素全部取完了，所以也就结束了。"
   ]
  },
  {
   "cell_type": "markdown",
   "metadata": {},
   "source": [
    "> 题目(组合问题，重复元素)：给定一个可能包含重复元素的整数数组 nums，返回该数组所有可能的子集（幂集）。说明：解集不能包含重复的子集。\n",
    "\n",
    "示例:\n",
    "\n",
    "输入: [1,2,2]\n",
    "输出:\n",
    "[\n",
    "  [2],\n",
    "  [1],\n",
    "  [1,2,2],\n",
    "  [2,2],\n",
    "  [1,2],\n",
    "  []\n",
    "]"
   ]
  },
  {
   "cell_type": "code",
   "execution_count": 190,
   "metadata": {},
   "outputs": [
    {
     "name": "stdout",
     "output_type": "stream",
     "text": [
      "[[], [1], [2], [1, 2], [2, 2], [1, 2, 2]]\n"
     ]
    }
   ],
   "source": [
    "class Solution:\n",
    "    def subsets2(self, nums):\n",
    "        result = []\n",
    "        nums.sort()\n",
    "        self.backtrack(result, [], nums, 0)\n",
    "        return sorted(result, key=lambda x: len(x))\n",
    "    \n",
    "    def backtrack(self, result, curr_state, nums, start):\n",
    "        result.append(curr_state.copy())\n",
    "        for i in range(start, len(nums)):\n",
    "            if i > start and nums[i] == nums[i-1]: continue # skip duplicates\n",
    "            curr_state.append(nums[i])\n",
    "            self.backtrack(result, curr_state, nums, i+1)\n",
    "            curr_state.pop()\n",
    "            \n",
    "solution = Solution()\n",
    "arr = [1, 2, 2]\n",
    "print(solution.subsets2(arr))"
   ]
  },
  {
   "cell_type": "markdown",
   "metadata": {},
   "source": [
    "## 二叉树的结点求和问题"
   ]
  },
  {
   "cell_type": "markdown",
   "metadata": {},
   "source": [
    "LeetCode 112\n",
    "\n",
    "> 题目：给定一个二叉树和一个目标和，判断该树中是否存在根节点到叶子节点的路径，这条路径上所有节点值相加等于目标和。\n",
    "说明: 叶子节点是指没有子节点的节点。\n",
    "\n",
    "示例: \n",
    "给定如下二叉树，以及目标和 sum = 22，\n",
    "\n",
    "              5\n",
    "             / \\\n",
    "            4   8\n",
    "           /   / \\\n",
    "          11  13  4\n",
    "         /  \\      \\\n",
    "        7    2      1\n",
    "返回 true, 因为存在目标和为 22 的根节点到叶子节点的路径 5->4->11->2。"
   ]
  },
  {
   "cell_type": "code",
   "execution_count": 77,
   "metadata": {},
   "outputs": [
    {
     "name": "stdout",
     "output_type": "stream",
     "text": [
      "ans= False\n"
     ]
    }
   ],
   "source": [
    "class TreeNode:\n",
    "    def __init__(self, x):\n",
    "        self.val = x\n",
    "        self.left = None\n",
    "        self.right = None\n",
    "\n",
    "class Solution:\n",
    "    def hasPathSum(self, root, sums):\n",
    "        if root == None:\n",
    "            return False\n",
    "        self.sum_list = []\n",
    "        curr_sum = root.val\n",
    "        self.DFS(root, curr_sum)\n",
    "        return sums in self.sum_list\n",
    "    \n",
    "    def DFS(self, root, curr_sum):\n",
    "        if root.left == None and root.right == None:\n",
    "            self.sum_list.append(curr_sum)\n",
    "        if root.left != None:\n",
    "            self.DFS(root.left, curr_sum+root.left.val)\n",
    "        if root.right != None:\n",
    "            self.DFS(root.right, curr_sum+root.right.val)\n",
    "            \n",
    "if __name__=='__main__':\n",
    "    A1 = TreeNode(1)\n",
    "    A2 = TreeNode(2)\n",
    "    A3 = TreeNode(3)\n",
    "    A4 = TreeNode(4)\n",
    "    A5 = TreeNode(5)\n",
    "    A6 = TreeNode(1)\n",
    " \n",
    "    A1.left=A2\n",
    "    A1.right=A3\n",
    "    A2.left=A4\n",
    "    A2.right=A5\n",
    "    A4.left=A6\n",
    " \n",
    "    solution=Solution()\n",
    "    ans=solution.hasPathSum(A1,3)\n",
    "    print('ans=',ans)"
   ]
  },
  {
   "cell_type": "markdown",
   "metadata": {},
   "source": [
    "LeetCode 113\n",
    "\n",
    "> 题目：给定一个二叉树和一个目标和，找到所有从根节点到叶子节点路径总和等于给定目标和的路径。\n",
    "\n",
    "说明: 叶子节点是指没有子节点的节点。\n",
    "\n",
    "示例:\n",
    "给定如下二叉树，以及目标和 sum = 22，\n",
    "\n",
    "              5\n",
    "             / \\\n",
    "            4   8\n",
    "           /   / \\\n",
    "          11  13  4\n",
    "         /  \\    / \\\n",
    "        7    2  5   1\n",
    "返回:\n",
    "\n",
    "[\n",
    "   [5,4,11,2],\n",
    "   [5,8,4,5]\n",
    "]"
   ]
  },
  {
   "cell_type": "code",
   "execution_count": 99,
   "metadata": {},
   "outputs": [
    {
     "name": "stdout",
     "output_type": "stream",
     "text": [
      "ans= [[1, 2, 4, 1], [1, 2, 5]]\n"
     ]
    }
   ],
   "source": [
    "# 方法一：\n",
    "class TreeNode:\n",
    "    def __init__(self, x):\n",
    "        self.val = x\n",
    "        self.left = None\n",
    "        self.right = None\n",
    "\n",
    "class Solution:\n",
    "    def pathSum(self, root, sum):\n",
    "        result = []\n",
    "        if root == None:\n",
    "            return result\n",
    "        self.sums = sum\n",
    "        self.DFS(root, result, [root.val])\n",
    "        return result\n",
    "    \n",
    "    def DFS(self, root, result, path):\n",
    "        if root.left == None and root.right == None and sum(path) == self.sums:\n",
    "            result.append(path)\n",
    "        if root.left != None:\n",
    "            self.DFS(root.left, result, path+[root.left.val])\n",
    "        if root.right != None:\n",
    "            self.DFS(root.right, result, path+[root.right.val])\n",
    "            \n",
    "if __name__=='__main__':\n",
    "    A1 = TreeNode(1)\n",
    "    A2 = TreeNode(2)\n",
    "    A3 = TreeNode(3)\n",
    "    A4 = TreeNode(4)\n",
    "    A5 = TreeNode(5)\n",
    "    A6 = TreeNode(1)\n",
    " \n",
    "    A1.left=A2\n",
    "    A1.right=A3\n",
    "    A2.left=A4\n",
    "    A2.right=A5\n",
    "    A4.left=A6\n",
    " \n",
    "    solution=Solution()\n",
    "    ans=solution.pathSum(A1,8)\n",
    "    print('ans=',ans)"
   ]
  },
  {
   "cell_type": "code",
   "execution_count": 111,
   "metadata": {},
   "outputs": [
    {
     "name": "stdout",
     "output_type": "stream",
     "text": [
      "ans= [[1, 2, 4, 1], [1, 2, 5]]\n"
     ]
    }
   ],
   "source": [
    "# 方法二：\n",
    "class TreeNode:\n",
    "    def __init__(self, x):\n",
    "        self.val = x\n",
    "        self.left = None\n",
    "        self.right = None\n",
    "\n",
    "class Solution:\n",
    "    def pathSum(self, root, sum):\n",
    "        result = []\n",
    "        if root == None:\n",
    "            return result\n",
    "        self.sums = sum\n",
    "        self.DFS(root, result, [root.val])\n",
    "        return result\n",
    "    \n",
    "    def DFS(self, root, result, path):\n",
    "        if root.left == None and root.right == None and sum(path) == self.sums:\n",
    "            result.append(path[:])\n",
    "        if root.left != None:\n",
    "            path.append(root.left.val)\n",
    "            self.DFS(root.left, result, path)\n",
    "        if root.right != None:\n",
    "            path.append(root.right.val)\n",
    "            self.DFS(root.right, result, path)\n",
    "        path.pop()\n",
    "            \n",
    "if __name__=='__main__':\n",
    "    A1 = TreeNode(1)\n",
    "    A2 = TreeNode(2)\n",
    "    A3 = TreeNode(3)\n",
    "    A4 = TreeNode(4)\n",
    "    A5 = TreeNode(5)\n",
    "    A6 = TreeNode(1)\n",
    " \n",
    "    A1.left=A2\n",
    "    A1.right=A3\n",
    "    A2.left=A4\n",
    "    A2.right=A5\n",
    "    A4.left=A6\n",
    " \n",
    "    solution=Solution()\n",
    "    ans=solution.pathSum(A1,8)\n",
    "    print('ans=',ans)"
   ]
  },
  {
   "cell_type": "code",
   "execution_count": 112,
   "metadata": {},
   "outputs": [
    {
     "name": "stdout",
     "output_type": "stream",
     "text": [
      "ans= [[1, 2, 4, 1], [1, 2, 5]]\n"
     ]
    }
   ],
   "source": [
    "# 方法三：\n",
    "class TreeNode:\n",
    "    def __init__(self, x):\n",
    "        self.val = x\n",
    "        self.left = None\n",
    "        self.right = None\n",
    "\n",
    "class Solution:\n",
    "    def pathSum(self, root, sum):\n",
    "        self.result = []\n",
    "        if root == None:\n",
    "            return self.result\n",
    "        self.sum = sum\n",
    "        self.DFS(root, [root.val], root.val)\n",
    "        return self.result\n",
    "    \n",
    "    def DFS(self, root, path, curr_sum):\n",
    "        if root.left == None and root.right == None and curr_sum == self.sum:\n",
    "            self.result.append(path)\n",
    "        if root.left != None:\n",
    "            self.DFS(root.left, path+[root.left.val], curr_sum+root.left.val)\n",
    "        if root.right != None:\n",
    "            self.DFS(root.right, path+[root.right.val], curr_sum+root.right.val)\n",
    "            \n",
    "if __name__=='__main__':\n",
    "    A1 = TreeNode(1)\n",
    "    A2 = TreeNode(2)\n",
    "    A3 = TreeNode(3)\n",
    "    A4 = TreeNode(4)\n",
    "    A5 = TreeNode(5)\n",
    "    A6 = TreeNode(1)\n",
    " \n",
    "    A1.left=A2\n",
    "    A1.right=A3\n",
    "    A2.left=A4\n",
    "    A2.right=A5\n",
    "    A4.left=A6\n",
    " \n",
    "    solution=Solution()\n",
    "    ans=solution.pathSum(A1,8)\n",
    "    print('ans=',ans)"
   ]
  },
  {
   "cell_type": "markdown",
   "metadata": {},
   "source": [
    "> 题目：输入一颗二叉树的根节点和一个整数，打印出二叉树中结点值的和为输入整数的所有路径。路径定义为从树的根结点开始往下一直到叶结点所经过的结点形成一条路径。(注意: 在返回值的list中，数组长度大的数组靠前)。\n",
    "\n",
    "            1\n",
    "          /   \\\n",
    "         2     3\n",
    "       /   \\\n",
    "      4     5\n",
    "     /\n",
    "    1\n",
    "    \n",
    "这个问题其实和[判断是否存在指定路径](##判断是否存在指定路径)是相同的，都是路径是否存在的问题。"
   ]
  },
  {
   "cell_type": "code",
   "execution_count": 129,
   "metadata": {},
   "outputs": [
    {
     "name": "stdout",
     "output_type": "stream",
     "text": [
      "ans= [[1, 2, 4, 1], [1, 2, 5]]\n"
     ]
    }
   ],
   "source": [
    "class TreeNode:\n",
    "    def __init__(self, x):\n",
    "        self.val = x\n",
    "        self.left = None\n",
    "        self.right = None\n",
    "\n",
    "class Solution:\n",
    "    # 返回二维列表，内部每个列表表示找到的路径\n",
    "    def FindPath(self, root, expectNumber):\n",
    "        # write code here\n",
    "        result = []\n",
    "        if root == None:\n",
    "            return result\n",
    "        self.sums = expectNumber\n",
    "        self.DFS(root, result, [root.val])\n",
    "        return result\n",
    "    \n",
    "    def DFS(self, root, result, path):\n",
    "        if root.left == None and root.right == None and sum(path) == self.sums:\n",
    "            result.append(path)\n",
    "        if root.left != None:\n",
    "            self.DFS(root.left, result, path+[root.left.val])\n",
    "        if root.right != None:\n",
    "            self.DFS(root.right, result, path+[root.right.val])\n",
    "            \n",
    "if __name__=='__main__':\n",
    "    A1 = TreeNode(1)\n",
    "    A2 = TreeNode(2)\n",
    "    A3 = TreeNode(3)\n",
    "    A4 = TreeNode(4)\n",
    "    A5 = TreeNode(5)\n",
    "    A6 = TreeNode(1)\n",
    " \n",
    "    A1.left=A2\n",
    "    A1.right=A3\n",
    "    A2.left=A4\n",
    "    A2.right=A5\n",
    "    A4.left=A6\n",
    " \n",
    "    solution=Solution()\n",
    "    ans=solution.FindPath(A1,8)\n",
    "    print('ans=',ans)"
   ]
  },
  {
   "cell_type": "markdown",
   "metadata": {},
   "source": [
    "LeetCode 437\n",
    "\n",
    "> 题目：给定一个二叉树，它的每个结点都存放着一个整数值。\n",
    "\n",
    "找出路径和等于给定数值的路径总数。\n",
    "\n",
    "路径不需要从根节点开始，也不需要在叶子节点结束，但是路径方向必须是向下的（只能从父节点到子节点）。\n",
    "\n",
    "二叉树不超过1000个节点，且节点数值范围是 [-1000000,1000000] 的整数。\n",
    "\n",
    "示例：\n",
    "\n",
    "root = [10,5,-3,3,2,null,11,3,-2,null,1], sum = 8\n",
    "\n",
    "          10\n",
    "         /  \\\n",
    "        5   -3\n",
    "       / \\    \\\n",
    "      3   2   11\n",
    "     / \\   \\\n",
    "    3  -2   1\n",
    "\n",
    "返回 3。和等于 8 的路径有:\n",
    "\n",
    "1.  5 -> 3\n",
    "2.  5 -> 2 -> 1\n",
    "3.  -3 -> 11\n"
   ]
  },
  {
   "cell_type": "code",
   "execution_count": 143,
   "metadata": {},
   "outputs": [
    {
     "name": "stdout",
     "output_type": "stream",
     "text": [
      "ans= 2\n"
     ]
    }
   ],
   "source": [
    "# 方法二：\n",
    "class TreeNode:\n",
    "    def __init__(self, x):\n",
    "        self.val = x\n",
    "        self.left = None\n",
    "        self.right = None\n",
    "\n",
    "class Solution:\n",
    "    def pathSum(self, root, sum):\n",
    "        if root == None:\n",
    "            return 0\n",
    "        self.sums = sum\n",
    "        self.count = 0\n",
    "        self.DFS(root, [root.val])\n",
    "        return self.count\n",
    "    \n",
    "    def DFS(self, root, path):\n",
    "        # 从下往上统计和为 sum 的个数\n",
    "        temp = 0\n",
    "        for i in range(len(path)-1, -1, -1):\n",
    "            temp += path[i]\n",
    "            if temp == self.sums:\n",
    "                self.count += 1\n",
    "        \n",
    "        # 递归遍历树\n",
    "        if root.left != None:\n",
    "            path.append(root.left.val)\n",
    "            self.DFS(root.left, path)\n",
    "        if root.right != None:\n",
    "            path.append(root.right.val)\n",
    "            self.DFS(root.right, path)\n",
    "        path.pop()\n",
    "            \n",
    "if __name__=='__main__':\n",
    "    A1 = TreeNode(1)\n",
    "    A2 = TreeNode(2)\n",
    "    A3 = TreeNode(3)\n",
    "    A4 = TreeNode(4)\n",
    "    A5 = TreeNode(5)\n",
    "    A6 = TreeNode(1)\n",
    " \n",
    "    A1.left=A2\n",
    "    A1.right=A3\n",
    "    A2.left=A4\n",
    "    A2.right=A5\n",
    "    A4.left=A6\n",
    " \n",
    "    solution=Solution()\n",
    "    ans=solution.pathSum(A1,4)\n",
    "    print('ans=',ans)"
   ]
  },
  {
   "cell_type": "markdown",
   "metadata": {},
   "source": [
    "## 判断是否存在指定路径"
   ]
  },
  {
   "cell_type": "markdown",
   "metadata": {},
   "source": [
    "剑指 offer：矩阵中的路径\n",
    "\n",
    "> 题目：请设计一个函数，用来判断在一个矩阵中是否存在一条包含某字符串所有字符的路径。路径可以从矩阵中的任意一个格子开始，每一步可以在矩阵中向左，向右，向上，向下移动一个格子。如果一条路径经过了矩阵中的某一个格子，则之后不能再次进入这个格子。 例如 a b c e s f c s a d e e 这样的3 X 4 矩阵中<font color=#dd00dd>包含一条字符串\"bcced\"的路径</font>，但是矩阵中<font color=#dd00dd>不包含\"abcb\"路径</font>，因为字符串的第一个字符b占据了矩阵中的第一行第二个格子之后，路径不能再次进入该格子。\n",
    "\n",
    "        a b c e\n",
    "        s f c s\n",
    "        a d e e\n",
    "        \n",
    "**思路:**\n",
    "\n",
    "首先，遍历这个矩阵，我们很容易就能找到与字符串str中第一个字符相同的矩阵元素ch。然后遍历ch的上下左右四个字符，如果有和字符串str中下一个字符相同的，就把那个字符当作下一个字符（下一次遍历的起点），如果没有，就需要回退到上一个字符，然后重新遍历。为了避免路径重叠，需要一个辅助矩阵来记录路径情况。"
   ]
  },
  {
   "cell_type": "code",
   "execution_count": 15,
   "metadata": {},
   "outputs": [
    {
     "name": "stdout",
     "output_type": "stream",
     "text": [
      "True\n"
     ]
    }
   ],
   "source": [
    "class Solution:\n",
    "    def hasPath(self, matrix, rows, cols, path):\n",
    "        # write code here\n",
    "        if not matrix: return False\n",
    "        if not path: return True\n",
    "        board = [list(matrix[cols*i:cols*(i+1)]) for i in range(rows)]\n",
    "        for i in range(rows):\n",
    "            for j in range(cols):\n",
    "                if self.backtrack(board, i, j, path):\n",
    "                    return True\n",
    "        return False\n",
    "    \n",
    "    def backtrack(self, board, i, j, path):\n",
    "        if board[i][j] == path[0]: # 用于返回 exist 调用\n",
    "            if not path[1:]:\n",
    "                return True\n",
    "            board[i][j] = '' # 标记已经访问\n",
    "            if i > 0 and self.backtrack(board, i-1, j, path[1:]): # 往上\n",
    "                return True # 用于回溯\n",
    "            if i < len(board)-1 and self.backtrack(board, i+1, j, path[1:]): # 往下\n",
    "                return True\n",
    "            if j > 0 and self.backtrack(board, i, j-1, path[1:]): # 往右\n",
    "                return True\n",
    "            if j < len(board[0])-1 and self.backtrack(board, i, j+1, path[1:]): # 往左\n",
    "                return True\n",
    "            board[i][j] =path[0] # 回溯\n",
    "        else:\n",
    "            return False\n",
    "        \n",
    "matrix = list('abcesfcsadee')\n",
    "rows = 3\n",
    "cols = 4\n",
    "path1 = list('bcced')\n",
    "path2 = list('abcb')\n",
    "solution = Solution()\n",
    "print(solution.hasPath(matrix, rows, cols, path1))\n"
   ]
  },
  {
   "cell_type": "code",
   "execution_count": 16,
   "metadata": {},
   "outputs": [
    {
     "name": "stdout",
     "output_type": "stream",
     "text": [
      "True\n",
      "False\n"
     ]
    }
   ],
   "source": [
    "# 方法二：\n",
    "class Solution:\n",
    "    def hasPath(self, matrix, rows, cols, path):\n",
    "        if not matrix: return False\n",
    "        if not path: return True\n",
    "        board = [list(matrix[cols*i:cols*(i+1)]) for i in range(rows)]\n",
    "        for i in range(rows): # for 循环用于寻找起点\n",
    "            for j in range(cols):\n",
    "                if self.backtrack(board, i, j, 0, path):\n",
    "                    return True\n",
    "        return False\n",
    "    def backtrack(self, board, i, j, curr_len, path):\n",
    "        if curr_len == len(path): # 用于返回 exist 调用\n",
    "            return True\n",
    "        \n",
    "        # 超界、路径不匹配、回溯到起点\n",
    "        if (i < 0 or j < 0 or len(board) <= i or len(board[0]) <= j) or board[i][j] != path[curr_len] or board[i][j] == '':\n",
    "            return False\n",
    "        board[i][j] = '' # 标记已经访问\n",
    "        for pos in [[0, -1], [0, 1], [1, 0], [-1, 0]]:\n",
    "            if self.backtrack(board, i+pos[0], j+pos[1], curr_len+1, path):\n",
    "                return True # 用于回溯\n",
    "        board[i][j] = path[curr_len] # 回溯\n",
    "\n",
    "matrix = list('abcesfcsadee')\n",
    "rows = 3\n",
    "cols = 4\n",
    "path1 = list('abccee')\n",
    "path2 = list('abcb')\n",
    "solution = Solution()\n",
    "print(solution.hasPath(matrix, rows, cols, path1))\n",
    "print(solution.hasPath(matrix, rows, cols, path2))"
   ]
  },
  {
   "cell_type": "markdown",
   "metadata": {},
   "source": [
    "LeetCode 79\n",
    "\n",
    "> 题目：给定一个二维网格和一个单词，找出该单词是否存在于网格中。单词必须按照字母顺序，通过相邻的单元格内的字母构成，其中“相邻”单元格是那些水平相邻或垂直相邻的单元格。同一个单元格内的字母不允许被重复使用。\n",
    "\n",
    "board =\n",
    "\n",
    "[\n",
    "\n",
    "  ['A','B','C','E'],\n",
    "  \n",
    "  ['S','F','C','S'],\n",
    "  \n",
    "  ['A','D','E','E']\n",
    "  \n",
    "]\n",
    "\n",
    "给定 word = \"ABCCED\", 返回 true.\n",
    "\n",
    "给定 word = \"SEE\", 返回 true.\n",
    "\n",
    "给定 word = \"ABCB\", 返回 false."
   ]
  },
  {
   "cell_type": "code",
   "execution_count": 9,
   "metadata": {},
   "outputs": [
    {
     "name": "stdout",
     "output_type": "stream",
     "text": [
      "False\n"
     ]
    }
   ],
   "source": [
    "# 方法一：\n",
    "class Solution:\n",
    "    def exist(self, board, word):\n",
    "        if not board: return False\n",
    "        if not word: return True\n",
    "        self.rows = len(board)\n",
    "        self.cols = len(board[0])\n",
    "        for i in range(self.rows): # for 循环用于寻找起点\n",
    "            for j in range(self.cols):\n",
    "                if self.backtrack(board, i, j, 0, word):\n",
    "                    return True\n",
    "        return False\n",
    "    def backtrack(self, board, i, j, curr_len, path):\n",
    "        if curr_len == len(path): # 用于返回 exist 调用\n",
    "            return True\n",
    "        \n",
    "        # 超界、路径不匹配、回溯到起点\n",
    "        if (i < 0 or j < 0 or self.rows <= i or self.cols <= j) or board[i][j] != path[curr_len] or board[i][j] == '':\n",
    "            return False\n",
    "        board[i][j] = '' # 标记已经访问\n",
    "        for pos in [[0, -1], [0, 1], [1, 0], [-1, 0]]:\n",
    "            if self.backtrack(board, i+pos[0], j+pos[1], curr_len+1, path):\n",
    "                return True # 用于回溯\n",
    "        board[i][j] = path[curr_len] # 回溯\n",
    "\n",
    "matrix = [['A','B','C','E'],['S','F','C','S'],['A','D','E','E']]\n",
    "rows = 3\n",
    "cols = 4\n",
    "# word = list('ABCCED')\n",
    "# word = list('SEE')\n",
    "word = list('ABCB')\n",
    "# word = list('ABCESCFSADEE')\n",
    "solution = Solution()\n",
    "print(solution.exist(matrix, word))\n"
   ]
  },
  {
   "cell_type": "code",
   "execution_count": 10,
   "metadata": {},
   "outputs": [
    {
     "name": "stdout",
     "output_type": "stream",
     "text": [
      "True\n"
     ]
    }
   ],
   "source": [
    "# 方法二：\n",
    "class Solution:\n",
    "    def exist(self, board, word):\n",
    "        if not board: return False\n",
    "        if not word: return True\n",
    "        self.rows = len(board)\n",
    "        self.cols = len(board[0])\n",
    "        for i in range(self.rows):\n",
    "            for j in range(self.cols):\n",
    "                if self.backtrack(board, i, j, word):\n",
    "                    return True\n",
    "        return False\n",
    "    \n",
    "    def backtrack(self, board, i, j, path):\n",
    "        if board[i][j] == path[0]:\n",
    "            if not path[1:]:\n",
    "                return True # 返回到 exist 的调用中\n",
    "            board[i][j] = '' # 标记已经访问\n",
    "            if i > 0 and self.backtrack(board, i-1, j, path[1:]): # 往上\n",
    "                return True # 用于回溯\n",
    "            if i < self.rows-1 and self.backtrack(board, i+1, j, path[1:]): # 往下\n",
    "                return True\n",
    "            if j > 0 and self.backtrack(board, i, j-1, path[1:]): # 往右\n",
    "                return True\n",
    "            if j < self.cols-1 and self.backtrack(board, i, j+1, path[1:]): # 往左\n",
    "                return True\n",
    "            board[i][j] =path[0] # 回溯\n",
    "        else:\n",
    "            return False\n",
    "        \n",
    "matrix = [['A','B','C','E'],['S','F','C','S'],['A','D','E','E']]\n",
    "rows = 3\n",
    "cols = 4\n",
    "word = list('ABCCED')\n",
    "# word = list('SEE')\n",
    "# word = list('ABCB')\n",
    "# word = list('ABCESCFSADEE')\n",
    "solution = Solution()\n",
    "print(solution.exist(matrix, word))"
   ]
  },
  {
   "cell_type": "markdown",
   "metadata": {},
   "source": [
    "## 第 K 个排列"
   ]
  },
  {
   "cell_type": "markdown",
   "metadata": {},
   "source": [
    "> 题目：给出集合 [1,2,3,…,n]，其所有元素共有 $n!$ 种排列。按大小顺序列出所有排列情况，并一一标记，当 n = 3 时, 所有排列如下：\n",
    "\n",
    "\"123\"\n",
    "\n",
    "\"132\"\n",
    "\n",
    "\"213\"\n",
    "\n",
    "\"231\"\n",
    "\n",
    "\"312\"\n",
    "\n",
    "\"321\"\n",
    "\n",
    "给定 n 和 k，返回第 k 个排列。\n",
    "\n",
    "说明：\n",
    "\n",
    "给定 n 的范围是 [1, 9]。\n",
    "给定 k 的范围是[1,  n!]。\n",
    "\n",
    "示例 1:\n",
    "\n",
    "输入: n = 3, k = 3\n",
    "输出: \"213\"\n",
    "\n",
    "示例 2:\n",
    "\n",
    "输入: n = 4, k = 9\n",
    "输出: \"2314\""
   ]
  },
  {
   "cell_type": "code",
   "execution_count": 22,
   "metadata": {},
   "outputs": [
    {
     "name": "stdout",
     "output_type": "stream",
     "text": [
      "248716395\n"
     ]
    }
   ],
   "source": [
    "# 这种写法会超时\n",
    "class Solution:\n",
    "    def getPermutation(self, n, k):\n",
    "        result = []\n",
    "        nums = list(range(1, n+1))\n",
    "        self.backtrack(result, nums, [])\n",
    "        return ''.join(map(str, result[k-1]))\n",
    "    \n",
    "    def backtrack(self, result, nums, curr_state):\n",
    "        if len(curr_state) == len(nums):\n",
    "            result.append(curr_state.copy())\n",
    "        for i in range(len(nums)):\n",
    "            if nums[i] in curr_state: continue\n",
    "            curr_state.append(nums[i])\n",
    "            self.backtrack(result, nums, curr_state) # s[:i] + s[i+1:] 去掉某个元素\n",
    "            curr_state.pop()\n",
    "    \n",
    "n = 9\n",
    "k = 54494\n",
    "solution = Solution()\n",
    "res = solution.getPermutation(n, k)\n",
    "print(res)"
   ]
  },
  {
   "cell_type": "markdown",
   "metadata": {},
   "source": [
    "**思路:**\n",
    "\n",
    "由于题目只要求出第几个,我们再看看个数的规律，4的全排列是: \n",
    "\n",
    "1 + {2,3,4}全排列(3!个)\n",
    "\n",
    "2 + {1,3,4}全排列(3!个)\n",
    "\n",
    "3 + {1,2,4}全排列(3!个)\n",
    "\n",
    "4 + {1,2,3}全排列(3!个)\n",
    "\n",
    "具体来说是：\n",
    "\n",
    "n 个数字有 n！种全排列，每种数字开头的全排列有 (n - 1)!种。\n",
    "\n",
    "所以用 k / (n - 1)! 就可以得到第 k 个全排列是以第几个数字开头的。\n",
    "\n",
    "用 k % (n - 1)! 就可以得到第 k 个全排列是某个数字开头的全排列中的第几个。\n",
    "\n",
    "我们可以得到如下递推公式:\n",
    "\n",
    "$$\n",
    "f(n, k)=nums[k /(n-1) !]+f(n-1, k \\%(n-1) !)\n",
    "$$\n",
    "\n",
    "边界问题:我们只要考虑n==1时，返回nums[0]即可。\n"
   ]
  },
  {
   "cell_type": "code",
   "execution_count": 47,
   "metadata": {},
   "outputs": [
    {
     "name": "stdout",
     "output_type": "stream",
     "text": [
      "3142\n"
     ]
    }
   ],
   "source": [
    "class Solution:\n",
    "    def getPermutation(self, n, k):\n",
    "        nums = [str(i+1) for i in range(n)]\n",
    "        if k == 1:\n",
    "            return ''.join(nums)\n",
    "        fact = 1\n",
    "        for i in range(2, n):\n",
    "            fact *= i\n",
    "        \n",
    "        last_term = n - 1\n",
    "        k -= 1\n",
    "        result = []\n",
    "        while last_term >= 0:\n",
    "            index = k//fact\n",
    "            k %= fact\n",
    "            result.append(nums[index])\n",
    "            nums.pop(index)\n",
    "            if last_term > 0:\n",
    "                fact = int(fact/last_term)\n",
    "            last_term -= 1\n",
    "        return ''.join(result)\n",
    "    \n",
    "n = 4\n",
    "k = 14\n",
    "solution = Solution()\n",
    "res = solution.getPermutation(n, k)\n",
    "print(res)"
   ]
  },
  {
   "cell_type": "code",
   "execution_count": 48,
   "metadata": {},
   "outputs": [
    {
     "name": "stdout",
     "output_type": "stream",
     "text": [
      "3142\n"
     ]
    }
   ],
   "source": [
    "class Solution:\n",
    "    def getPermutation(self, n, k):\n",
    "        \"\"\"\n",
    "        :type n: int\n",
    "        :type k: int\n",
    "        :rtype: str\n",
    "        \"\"\"\n",
    "        factorials = [1]*(n+1)\n",
    "        for i in range(1, n+1):\n",
    "            factorials[i] = factorials[i-1]*i\n",
    "            \n",
    "        n_list = [i for i in range(1, n+1)]\n",
    "\n",
    "        k -= 1\n",
    "        res = ''\n",
    "        for i in range(1, n+1):\n",
    "            m = k // factorials[n-i]\n",
    "            k %= factorials[n-i]     \n",
    "            res += str(n_list[m])\n",
    "            n_list.remove(n_list[m])\n",
    "\n",
    "        return res\n",
    "    \n",
    "n = 4\n",
    "k = 14\n",
    "solution = Solution()\n",
    "res = solution.getPermutation(n, k)\n",
    "print(res)"
   ]
  },
  {
   "cell_type": "code",
   "execution_count": 49,
   "metadata": {},
   "outputs": [
    {
     "name": "stdout",
     "output_type": "stream",
     "text": [
      "3142\n"
     ]
    }
   ],
   "source": [
    "class Solution:\n",
    "    def getPermutation(self, n, k):\n",
    "        fact = [1]*(n+1)\n",
    "        for i in range(1, n+1):\n",
    "            fact[i] = fact[i-1]*i\n",
    "        \n",
    "        nums = [str(i) for i in range(1, n+1)]\n",
    "        return self.backtrack(nums, n, k-1, fact)\n",
    "    \n",
    "    def backtrack(self, nums, n, k, fact):\n",
    "        if n == 1:\n",
    "            return nums[0]\n",
    "        \n",
    "        index = k // fact[n-1]\n",
    "        k %= fact[n-1]     \n",
    "        result = nums[index]\n",
    "        nums.pop(index)\n",
    "        result += self.backtrack(nums, n-1, k, fact)\n",
    "        return result\n",
    "        \n",
    "n = 4\n",
    "k = 14\n",
    "solution = Solution()\n",
    "res = solution.getPermutation(n, k)\n",
    "print(res)"
   ]
  },
  {
   "cell_type": "markdown",
   "metadata": {},
   "source": [
    "## 下一个排列"
   ]
  },
  {
   "cell_type": "markdown",
   "metadata": {},
   "source": [
    "> 题目：实现获取下一个排列的函数，算法需要将给定数字序列重新排列成字典序中下一个更大的排列。如果不存在下一个更大的排列，则将数字重新排列成最小的排列（即升序排列）。必须原地修改，只允许使用额外常数空间。\n",
    "\n",
    "以下是一些例子，输入位于左侧列，其相应输出位于右侧列。\n",
    "\n",
    "1,2,3 → 1,3,2\n",
    "\n",
    "3,2,1 → 1,2,3\n",
    "\n",
    "1,1,5 → 1,5,1"
   ]
  },
  {
   "cell_type": "code",
   "execution_count": null,
   "metadata": {},
   "outputs": [],
   "source": []
  },
  {
   "cell_type": "markdown",
   "metadata": {},
   "source": [
    "## 岛判断问题"
   ]
  },
  {
   "cell_type": "markdown",
   "metadata": {},
   "source": [
    "> 题目："
   ]
  },
  {
   "cell_type": "code",
   "execution_count": null,
   "metadata": {},
   "outputs": [],
   "source": [
    "    def dfs(self,grid,x,y,visited):\n",
    "        m = len(grid)\n",
    "        n = len(grid[0])        \n",
    "        d = [[0,1],[1,0],[-1,0],[0,-1]]\n",
    "        visited[x][y] = 1\n",
    "        for i in range(4): #也是对上下左右递归\n",
    "            newx = x + d[i][0]\n",
    "            newy = y + d[i][1]\n",
    "            if self.inarea(newx,newy,m,n) and visited[newx][newy] == 0 and grid[newx][newy] == '1':\n",
    "                self.dfs(grid,newx,newy,visited)\n",
    "        return"
   ]
  },
  {
   "cell_type": "markdown",
   "metadata": {},
   "source": [
    "## N 皇后问题"
   ]
  },
  {
   "cell_type": "markdown",
   "metadata": {},
   "source": [
    "> 题目："
   ]
  },
  {
   "cell_type": "code",
   "execution_count": 16,
   "metadata": {},
   "outputs": [
    {
     "name": "stdout",
     "output_type": "stream",
     "text": [
      "##############################\n",
      "*Q**\n",
      "\n",
      "***Q\n",
      "\n",
      "Q***\n",
      "\n",
      "**Q*\n",
      "\n",
      "##############################\n",
      "**Q*\n",
      "\n",
      "Q***\n",
      "\n",
      "***Q\n",
      "\n",
      "*Q**\n",
      "\n"
     ]
    }
   ],
   "source": [
    "def nQueen(result, n, row):\n",
    "    if row == n:\n",
    "        print(\"##############################\")\n",
    "        println(result, n)\n",
    "        return\n",
    "    for col in range(n): # 每一行有八种放法\n",
    "        if isOK(result, n, row, col): # 判断是否可放\n",
    "            result[row] = col\n",
    "            nQueen(result, n, row+1)\n",
    "            \n",
    "def isOK(result, n, row, col):\n",
    "    leftup = col - 1\n",
    "    rightup = col + 1\n",
    "    for i in range(row-1, -1, -1): # 往上考察每一行\n",
    "        if result[i] == col: # 第 i 行的 col 列\n",
    "            return False\n",
    "        if leftup >= 0: # 考察左对角线\n",
    "            if result[i] == leftup:\n",
    "                return False\n",
    "        if rightup <= n - 1: # 考察右对角线\n",
    "            if result[i] == rightup:\n",
    "                return False\n",
    "        leftup -= 1\n",
    "        rightup += 1\n",
    "    return True\n",
    "\n",
    "def println(result, n):\n",
    "    for i in range(n):\n",
    "        for j in range(n):\n",
    "            if result[i] == j:\n",
    "                print(\"Q\", end=\"\")\n",
    "            else:\n",
    "                print(\"*\", end=\"\")\n",
    "        print(\"\\n\")\n",
    "\n",
    "n = 4\n",
    "result = [0] * n\n",
    "nQueen(result, n , 0)"
   ]
  },
  {
   "cell_type": "code",
   "execution_count": 10,
   "metadata": {},
   "outputs": [],
   "source": [
    "from typing import List\n",
    "\n",
    "def eight_queens() -> None:\n",
    "    solutions = []\n",
    "\n",
    "    def backtracking(queens_at_column: List[int], index_sums: List[int], index_diffs: List[int]) -> None:\n",
    "        row = len(queens_at_column)\n",
    "        if row == 8:\n",
    "            solutions.append(queens_at_column)\n",
    "            return\n",
    "        for col in range(8):\n",
    "            if col in queens_at_column or row + col in index_sums or row - col in index_diffs: continue\n",
    "            backtracking(queens_at_column + [col], index_sums + [row + col], index_diffs + [row - col])\n",
    "    \n",
    "    backtracking([], [], [])\n",
    "    print(*(\" \" + \" \".join(\"*\" * i + \"Q\" + \"*\" * (8 - i - 1) + \"\\n\" for i in solution) for solution in solutions), sep=\"\\n\")\n",
    "\n",
    "\n",
    "# if __name__ == \"__main__\":\n",
    "\n",
    "#     eight_queens()\n"
   ]
  },
  {
   "cell_type": "markdown",
   "metadata": {},
   "source": [
    "## 0-1背包问题\n"
   ]
  },
  {
   "cell_type": "markdown",
   "metadata": {},
   "source": [
    "> 题目："
   ]
  },
  {
   "cell_type": "code",
   "execution_count": 3,
   "metadata": {},
   "outputs": [
    {
     "name": "stdout",
     "output_type": "stream",
     "text": [
      "[3, 6, 9, 4, 7, 2, 5, 8, 6, 9, 2, 5, 8, 6, 9, 4, 7, 8]\n"
     ]
    }
   ],
   "source": [
    "def bagFunc(result, maxw, curr, items, n, limit, i):\n",
    "    if curr == limit or i == n:\n",
    "        if curr > maxw:\n",
    "            maxw = curr\n",
    "            result.append(curr)\n",
    "        return\n",
    "    else:\n",
    "        bagFunc(result, maxw, curr, items, n, limit, i+1)\n",
    "        if curr + items[i] <= limit:\n",
    "            bagFunc(result, maxw, curr+items[i], items, n, limit, i+1)\n",
    "\n",
    "result = []\n",
    "items = [2, 2, 4, 6, 3]\n",
    "n = len(items)\n",
    "limit = 9\n",
    "bagFunc(result, 0, 0, items, n, limit, 0)\n",
    "print(result)"
   ]
  },
  {
   "cell_type": "markdown",
   "metadata": {},
   "source": [
    "## 旅行售货员问题\n"
   ]
  },
  {
   "cell_type": "markdown",
   "metadata": {},
   "source": [
    "> 题目："
   ]
  },
  {
   "cell_type": "code",
   "execution_count": null,
   "metadata": {},
   "outputs": [],
   "source": []
  },
  {
   "cell_type": "markdown",
   "metadata": {},
   "source": [
    "## 迷宫问题\n"
   ]
  },
  {
   "cell_type": "markdown",
   "metadata": {},
   "source": [
    "> 题目："
   ]
  },
  {
   "cell_type": "code",
   "execution_count": null,
   "metadata": {},
   "outputs": [],
   "source": []
  },
  {
   "cell_type": "markdown",
   "metadata": {},
   "source": [
    "## Sudoku (数独)问题\n"
   ]
  },
  {
   "cell_type": "markdown",
   "metadata": {},
   "source": [
    "> 题目："
   ]
  },
  {
   "cell_type": "code",
   "execution_count": null,
   "metadata": {},
   "outputs": [],
   "source": []
  },
  {
   "cell_type": "markdown",
   "metadata": {},
   "source": [
    "## 回溯算法总结\n",
    "\n",
    "1. 很明显能够看出：组合问题都传进了变量 <font color=#dd00dd>start</font>，而排列问题则不需要。\n",
    "2. 对于组合问题来说，如果要保证元素不能重复，则循环时要传入 <font color=#dd00dd>i + 1</font>，否则传入 <font color=#dd00dd>i</font>。\n",
    "3. 组合和排列都有数组元素是否重复的情况，对于不允许重复的情况，要<font color=#dd00dd>先对数组进行排序 arr.sort()</font>，再加入 <font color=#dd00dd>if i > start(or 0) and arr[i] == arr[i-1]: conntinue</font> 的判断\n",
    "4. 结束条件。对于组合问题来说，其结束条件是要<font color=#dd00dd>选定的元素个数为零</font>;对于组合求和来说是<font color=#dd00dd>判断 target 和 remain = target - arr[i] 的大小关系</font>；对于子集问题是判断<font color=#dd00dd>取出的元素个数等于数组中元素的个数</font>；对于排列问题，也是<font color=#dd00dd>将容器中的元素取完为止</font>。"
   ]
  }
 ],
 "metadata": {
  "kernelspec": {
   "display_name": "Python 3",
   "language": "python",
   "name": "python3"
  },
  "language_info": {
   "codemirror_mode": {
    "name": "ipython",
    "version": 3
   },
   "file_extension": ".py",
   "mimetype": "text/x-python",
   "name": "python",
   "nbconvert_exporter": "python",
   "pygments_lexer": "ipython3",
   "version": "3.7.3"
  },
  "toc": {
   "base_numbering": 1,
   "nav_menu": {},
   "number_sections": true,
   "sideBar": true,
   "skip_h1_title": false,
   "title_cell": "Table of Contents",
   "title_sidebar": "Contents",
   "toc_cell": false,
   "toc_position": {},
   "toc_section_display": true,
   "toc_window_display": false
  }
 },
 "nbformat": 4,
 "nbformat_minor": 2
}
